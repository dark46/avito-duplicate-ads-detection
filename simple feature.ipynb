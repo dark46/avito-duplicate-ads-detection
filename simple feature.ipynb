{
 "cells": [
  {
   "cell_type": "code",
   "execution_count": 29,
   "metadata": {
    "collapsed": false
   },
   "outputs": [
    {
     "name": "stdout",
     "output_type": "stream",
     "text": [
      "CPU times: user 0 ns, sys: 0 ns, total: 0 ns\n",
      "Wall time: 60.6 µs\n"
     ]
    }
   ],
   "source": [
    "%%time \n",
    "from data import *\n",
    "from data.pair_feature import *"
   ]
  },
  {
   "cell_type": "code",
   "execution_count": 2,
   "metadata": {
    "collapsed": false
   },
   "outputs": [
    {
     "data": {
      "text/plain": [
       "(2991396, 9)"
      ]
     },
     "execution_count": 2,
     "metadata": {},
     "output_type": "execute_result"
    }
   ],
   "source": [
    "simple_features_train.shape"
   ]
  },
  {
   "cell_type": "code",
   "execution_count": 3,
   "metadata": {
    "collapsed": false
   },
   "outputs": [
    {
     "data": {
      "text/plain": [
       "(1044196, 9)"
      ]
     },
     "execution_count": 3,
     "metadata": {},
     "output_type": "execute_result"
    }
   ],
   "source": [
    "simple_features_test.shape"
   ]
  },
  {
   "cell_type": "code",
   "execution_count": 4,
   "metadata": {
    "collapsed": true
   },
   "outputs": [],
   "source": [
    "from xgboost.sklearn import XGBClassifier"
   ]
  },
  {
   "cell_type": "code",
   "execution_count": 5,
   "metadata": {
    "collapsed": true
   },
   "outputs": [],
   "source": [
    "from sklearn.cross_validation import train_test_split"
   ]
  },
  {
   "cell_type": "code",
   "execution_count": 6,
   "metadata": {
    "collapsed": true
   },
   "outputs": [],
   "source": [
    "X_train, X_test, y_train, y_test = train_test_split(simple_features_train.values, item_pairs_train.isDuplicate.values, test_size=0.2)"
   ]
  },
  {
   "cell_type": "code",
   "execution_count": 13,
   "metadata": {
    "collapsed": false
   },
   "outputs": [
    {
     "data": {
      "text/plain": [
       "XGBClassifier(base_score=0.5, colsample_bylevel=1, colsample_bytree=1,\n",
       "       gamma=0, learning_rate=0.1, max_delta_step=0, max_depth=3,\n",
       "       min_child_weight=1, missing=None, n_estimators=100, nthread=-1,\n",
       "       objective='binary:logistic', reg_alpha=0, reg_lambda=1,\n",
       "       scale_pos_weight=1, seed=0, silent=True, subsample=1)"
      ]
     },
     "execution_count": 13,
     "metadata": {},
     "output_type": "execute_result"
    }
   ],
   "source": [
    "model"
   ]
  },
  {
   "cell_type": "raw",
   "metadata": {},
   "source": [
    "    eta = 0.1\n",
    "    max_depth = 5\n",
    "    subsample = 0.8\n",
    "    colsample_bytree = 0.8    \n",
    "    num_boost_round = 260\n",
    "    early_stopping_rounds = 20"
   ]
  },
  {
   "cell_type": "code",
   "execution_count": 18,
   "metadata": {
    "collapsed": true
   },
   "outputs": [],
   "source": [
    "model = XGBClassifier(learning_rate=0.1, max_depth=5, subsample=0.8, colsample_bytree=0.8, n_estimators=260)"
   ]
  },
  {
   "cell_type": "code",
   "execution_count": 20,
   "metadata": {
    "collapsed": false,
    "scrolled": false
   },
   "outputs": [
    {
     "name": "stdout",
     "output_type": "stream",
     "text": [
      "[0]\tvalidation_0-auc:0.774673\n",
      "Will train until validation_0-auc hasn't improved in 20 rounds.\n",
      "[1]\tvalidation_0-auc:0.775424\n",
      "[2]\tvalidation_0-auc:0.77756\n",
      "[3]\tvalidation_0-auc:0.778537\n",
      "[4]\tvalidation_0-auc:0.778272\n",
      "[5]\tvalidation_0-auc:0.779497\n",
      "[6]\tvalidation_0-auc:0.782346\n",
      "[7]\tvalidation_0-auc:0.782457\n",
      "[8]\tvalidation_0-auc:0.782174\n",
      "[9]\tvalidation_0-auc:0.782954\n",
      "[10]\tvalidation_0-auc:0.783063\n",
      "[11]\tvalidation_0-auc:0.783381\n",
      "[12]\tvalidation_0-auc:0.783512\n",
      "[13]\tvalidation_0-auc:0.783989\n",
      "[14]\tvalidation_0-auc:0.784288\n",
      "[15]\tvalidation_0-auc:0.784368\n",
      "[16]\tvalidation_0-auc:0.784787\n",
      "[17]\tvalidation_0-auc:0.784884\n",
      "[18]\tvalidation_0-auc:0.785146\n",
      "[19]\tvalidation_0-auc:0.785673\n",
      "[20]\tvalidation_0-auc:0.786072\n",
      "[21]\tvalidation_0-auc:0.786126\n",
      "[22]\tvalidation_0-auc:0.786214\n",
      "[23]\tvalidation_0-auc:0.787033\n",
      "[24]\tvalidation_0-auc:0.787448\n",
      "[25]\tvalidation_0-auc:0.787491\n",
      "[26]\tvalidation_0-auc:0.787789\n",
      "[27]\tvalidation_0-auc:0.788035\n",
      "[28]\tvalidation_0-auc:0.788157\n",
      "[29]\tvalidation_0-auc:0.788343\n",
      "[30]\tvalidation_0-auc:0.788532\n",
      "[31]\tvalidation_0-auc:0.788843\n",
      "[32]\tvalidation_0-auc:0.788916\n",
      "[33]\tvalidation_0-auc:0.788969\n",
      "[34]\tvalidation_0-auc:0.789451\n",
      "[35]\tvalidation_0-auc:0.789645\n",
      "[36]\tvalidation_0-auc:0.789751\n",
      "[37]\tvalidation_0-auc:0.789955\n",
      "[38]\tvalidation_0-auc:0.790096\n",
      "[39]\tvalidation_0-auc:0.790261\n",
      "[40]\tvalidation_0-auc:0.790294\n",
      "[41]\tvalidation_0-auc:0.790399\n",
      "[42]\tvalidation_0-auc:0.790473\n",
      "[43]\tvalidation_0-auc:0.790499\n",
      "[44]\tvalidation_0-auc:0.790529\n",
      "[45]\tvalidation_0-auc:0.79085\n",
      "[46]\tvalidation_0-auc:0.79091\n",
      "[47]\tvalidation_0-auc:0.791153\n",
      "[48]\tvalidation_0-auc:0.791498\n",
      "[49]\tvalidation_0-auc:0.791713\n",
      "[50]\tvalidation_0-auc:0.791835\n",
      "[51]\tvalidation_0-auc:0.792022\n",
      "[52]\tvalidation_0-auc:0.792146\n",
      "[53]\tvalidation_0-auc:0.79219\n",
      "[54]\tvalidation_0-auc:0.792291\n",
      "[55]\tvalidation_0-auc:0.792437\n",
      "[56]\tvalidation_0-auc:0.792536\n",
      "[57]\tvalidation_0-auc:0.792654\n",
      "[58]\tvalidation_0-auc:0.79287\n",
      "[59]\tvalidation_0-auc:0.793036\n",
      "[60]\tvalidation_0-auc:0.79325\n",
      "[61]\tvalidation_0-auc:0.793429\n",
      "[62]\tvalidation_0-auc:0.793439\n",
      "[63]\tvalidation_0-auc:0.79352\n",
      "[64]\tvalidation_0-auc:0.793581\n",
      "[65]\tvalidation_0-auc:0.793829\n",
      "[66]\tvalidation_0-auc:0.793902\n",
      "[67]\tvalidation_0-auc:0.793916\n",
      "[68]\tvalidation_0-auc:0.794066\n",
      "[69]\tvalidation_0-auc:0.794092\n",
      "[70]\tvalidation_0-auc:0.794241\n",
      "[71]\tvalidation_0-auc:0.794253\n",
      "[72]\tvalidation_0-auc:0.794314\n",
      "[73]\tvalidation_0-auc:0.794324\n",
      "[74]\tvalidation_0-auc:0.794422\n",
      "[75]\tvalidation_0-auc:0.794489\n",
      "[76]\tvalidation_0-auc:0.794543\n",
      "[77]\tvalidation_0-auc:0.79463\n",
      "[78]\tvalidation_0-auc:0.794762\n",
      "[79]\tvalidation_0-auc:0.794873\n",
      "[80]\tvalidation_0-auc:0.794894\n",
      "[81]\tvalidation_0-auc:0.794929\n",
      "[82]\tvalidation_0-auc:0.794959\n",
      "[83]\tvalidation_0-auc:0.795032\n",
      "[84]\tvalidation_0-auc:0.795128\n",
      "[85]\tvalidation_0-auc:0.795223\n",
      "[86]\tvalidation_0-auc:0.795226\n",
      "[87]\tvalidation_0-auc:0.795339\n",
      "[88]\tvalidation_0-auc:0.795404\n",
      "[89]\tvalidation_0-auc:0.795495\n",
      "[90]\tvalidation_0-auc:0.795562\n",
      "[91]\tvalidation_0-auc:0.795674\n",
      "[92]\tvalidation_0-auc:0.79576\n",
      "[93]\tvalidation_0-auc:0.795858\n",
      "[94]\tvalidation_0-auc:0.795884\n",
      "[95]\tvalidation_0-auc:0.795896\n",
      "[96]\tvalidation_0-auc:0.796057\n",
      "[97]\tvalidation_0-auc:0.796289\n",
      "[98]\tvalidation_0-auc:0.796357\n",
      "[99]\tvalidation_0-auc:0.796369\n",
      "[100]\tvalidation_0-auc:0.796417\n",
      "[101]\tvalidation_0-auc:0.796441\n",
      "[102]\tvalidation_0-auc:0.796492\n",
      "[103]\tvalidation_0-auc:0.796607\n",
      "[104]\tvalidation_0-auc:0.79661\n",
      "[105]\tvalidation_0-auc:0.796625\n",
      "[106]\tvalidation_0-auc:0.796656\n",
      "[107]\tvalidation_0-auc:0.796761\n",
      "[108]\tvalidation_0-auc:0.79681\n",
      "[109]\tvalidation_0-auc:0.796934\n",
      "[110]\tvalidation_0-auc:0.796946\n",
      "[111]\tvalidation_0-auc:0.796987\n",
      "[112]\tvalidation_0-auc:0.797026\n",
      "[113]\tvalidation_0-auc:0.797064\n",
      "[114]\tvalidation_0-auc:0.797077\n",
      "[115]\tvalidation_0-auc:0.797159\n",
      "[116]\tvalidation_0-auc:0.797196\n",
      "[117]\tvalidation_0-auc:0.797217\n",
      "[118]\tvalidation_0-auc:0.797282\n",
      "[119]\tvalidation_0-auc:0.797295\n",
      "[120]\tvalidation_0-auc:0.797319\n",
      "[121]\tvalidation_0-auc:0.797377\n",
      "[122]\tvalidation_0-auc:0.797419\n",
      "[123]\tvalidation_0-auc:0.79744\n",
      "[124]\tvalidation_0-auc:0.797528\n",
      "[125]\tvalidation_0-auc:0.797632\n",
      "[126]\tvalidation_0-auc:0.797674\n",
      "[127]\tvalidation_0-auc:0.797742\n",
      "[128]\tvalidation_0-auc:0.797808\n",
      "[129]\tvalidation_0-auc:0.797838\n",
      "[130]\tvalidation_0-auc:0.79785\n",
      "[131]\tvalidation_0-auc:0.797933\n",
      "[132]\tvalidation_0-auc:0.798009\n",
      "[133]\tvalidation_0-auc:0.798069\n",
      "[134]\tvalidation_0-auc:0.79814\n",
      "[135]\tvalidation_0-auc:0.798154\n",
      "[136]\tvalidation_0-auc:0.798187\n",
      "[137]\tvalidation_0-auc:0.798206\n",
      "[138]\tvalidation_0-auc:0.798247\n",
      "[139]\tvalidation_0-auc:0.798335\n",
      "[140]\tvalidation_0-auc:0.798379\n",
      "[141]\tvalidation_0-auc:0.798509\n",
      "[142]\tvalidation_0-auc:0.798513\n",
      "[143]\tvalidation_0-auc:0.798554\n",
      "[144]\tvalidation_0-auc:0.798567\n",
      "[145]\tvalidation_0-auc:0.7986\n",
      "[146]\tvalidation_0-auc:0.798606\n",
      "[147]\tvalidation_0-auc:0.798613\n",
      "[148]\tvalidation_0-auc:0.798622\n",
      "[149]\tvalidation_0-auc:0.798667\n",
      "[150]\tvalidation_0-auc:0.79866\n",
      "[151]\tvalidation_0-auc:0.798677\n",
      "[152]\tvalidation_0-auc:0.798785\n",
      "[153]\tvalidation_0-auc:0.798813\n",
      "[154]\tvalidation_0-auc:0.798819\n",
      "[155]\tvalidation_0-auc:0.798857\n",
      "[156]\tvalidation_0-auc:0.798905\n",
      "[157]\tvalidation_0-auc:0.798942\n",
      "[158]\tvalidation_0-auc:0.799008\n",
      "[159]\tvalidation_0-auc:0.799057\n",
      "[160]\tvalidation_0-auc:0.799069\n",
      "[161]\tvalidation_0-auc:0.799107\n",
      "[162]\tvalidation_0-auc:0.799173\n",
      "[163]\tvalidation_0-auc:0.799238\n",
      "[164]\tvalidation_0-auc:0.799268\n",
      "[165]\tvalidation_0-auc:0.799309\n",
      "[166]\tvalidation_0-auc:0.799423\n",
      "[167]\tvalidation_0-auc:0.799431\n",
      "[168]\tvalidation_0-auc:0.799433\n",
      "[169]\tvalidation_0-auc:0.799466\n",
      "[170]\tvalidation_0-auc:0.799481\n",
      "[171]\tvalidation_0-auc:0.799519\n",
      "[172]\tvalidation_0-auc:0.799552\n",
      "[173]\tvalidation_0-auc:0.799644\n",
      "[174]\tvalidation_0-auc:0.799658\n",
      "[175]\tvalidation_0-auc:0.799691\n",
      "[176]\tvalidation_0-auc:0.799734\n",
      "[177]\tvalidation_0-auc:0.799739\n",
      "[178]\tvalidation_0-auc:0.799786\n",
      "[179]\tvalidation_0-auc:0.79981\n",
      "[180]\tvalidation_0-auc:0.799825\n",
      "[181]\tvalidation_0-auc:0.799871\n",
      "[182]\tvalidation_0-auc:0.799952\n",
      "[183]\tvalidation_0-auc:0.799994\n",
      "[184]\tvalidation_0-auc:0.800004\n",
      "[185]\tvalidation_0-auc:0.800017\n",
      "[186]\tvalidation_0-auc:0.800049\n",
      "[187]\tvalidation_0-auc:0.800075\n",
      "[188]\tvalidation_0-auc:0.800111\n",
      "[189]\tvalidation_0-auc:0.800152\n",
      "[190]\tvalidation_0-auc:0.800195\n",
      "[191]\tvalidation_0-auc:0.800206\n",
      "[192]\tvalidation_0-auc:0.800239\n",
      "[193]\tvalidation_0-auc:0.800254\n",
      "[194]\tvalidation_0-auc:0.800269\n",
      "[195]\tvalidation_0-auc:0.800319\n",
      "[196]\tvalidation_0-auc:0.800328\n",
      "[197]\tvalidation_0-auc:0.800352\n",
      "[198]\tvalidation_0-auc:0.800374\n",
      "[199]\tvalidation_0-auc:0.800425\n",
      "[200]\tvalidation_0-auc:0.800433\n",
      "[201]\tvalidation_0-auc:0.800456\n",
      "[202]\tvalidation_0-auc:0.800466\n",
      "[203]\tvalidation_0-auc:0.800483\n",
      "[204]\tvalidation_0-auc:0.800512\n",
      "[205]\tvalidation_0-auc:0.80052\n",
      "[206]\tvalidation_0-auc:0.800559\n",
      "[207]\tvalidation_0-auc:0.800581\n",
      "[208]\tvalidation_0-auc:0.800586\n",
      "[209]\tvalidation_0-auc:0.800605\n",
      "[210]\tvalidation_0-auc:0.800642\n",
      "[211]\tvalidation_0-auc:0.800648\n",
      "[212]\tvalidation_0-auc:0.800678\n",
      "[213]\tvalidation_0-auc:0.800744\n",
      "[214]\tvalidation_0-auc:0.800745\n",
      "[215]\tvalidation_0-auc:0.800793\n",
      "[216]\tvalidation_0-auc:0.800817\n",
      "[217]\tvalidation_0-auc:0.800849\n",
      "[218]\tvalidation_0-auc:0.800879\n",
      "[219]\tvalidation_0-auc:0.800905\n",
      "[220]\tvalidation_0-auc:0.800922\n",
      "[221]\tvalidation_0-auc:0.800949\n",
      "[222]\tvalidation_0-auc:0.80103\n",
      "[223]\tvalidation_0-auc:0.801033\n",
      "[224]\tvalidation_0-auc:0.801041\n",
      "[225]\tvalidation_0-auc:0.801053\n",
      "[226]\tvalidation_0-auc:0.801083\n",
      "[227]\tvalidation_0-auc:0.801135\n",
      "[228]\tvalidation_0-auc:0.801167\n",
      "[229]\tvalidation_0-auc:0.80118\n",
      "[230]\tvalidation_0-auc:0.801239\n",
      "[231]\tvalidation_0-auc:0.801252\n",
      "[232]\tvalidation_0-auc:0.801253\n",
      "[233]\tvalidation_0-auc:0.801312\n",
      "[234]\tvalidation_0-auc:0.801334\n",
      "[235]\tvalidation_0-auc:0.801352\n",
      "[236]\tvalidation_0-auc:0.801356\n",
      "[237]\tvalidation_0-auc:0.801373\n",
      "[238]\tvalidation_0-auc:0.801397\n",
      "[239]\tvalidation_0-auc:0.801412\n",
      "[240]\tvalidation_0-auc:0.801432\n",
      "[241]\tvalidation_0-auc:0.801443\n",
      "[242]\tvalidation_0-auc:0.801451\n",
      "[243]\tvalidation_0-auc:0.801466\n",
      "[244]\tvalidation_0-auc:0.80151\n",
      "[245]\tvalidation_0-auc:0.80152\n",
      "[246]\tvalidation_0-auc:0.801523\n",
      "[247]\tvalidation_0-auc:0.801528\n",
      "[248]\tvalidation_0-auc:0.801533\n",
      "[249]\tvalidation_0-auc:0.801545\n",
      "[250]\tvalidation_0-auc:0.801579\n",
      "[251]\tvalidation_0-auc:0.801586\n",
      "[252]\tvalidation_0-auc:0.801594\n",
      "[253]\tvalidation_0-auc:0.801604\n",
      "[254]\tvalidation_0-auc:0.80161\n",
      "[255]\tvalidation_0-auc:0.801624\n",
      "[256]\tvalidation_0-auc:0.801638\n",
      "[257]\tvalidation_0-auc:0.801647\n",
      "[258]\tvalidation_0-auc:0.80167\n",
      "[259]\tvalidation_0-auc:0.801686\n"
     ]
    },
    {
     "data": {
      "text/plain": [
       "XGBClassifier(base_score=0.5, colsample_bylevel=1, colsample_bytree=0.8,\n",
       "       gamma=0, learning_rate=0.1, max_delta_step=0, max_depth=5,\n",
       "       min_child_weight=1, missing=None, n_estimators=260, nthread=-1,\n",
       "       objective='binary:logistic', reg_alpha=0, reg_lambda=1,\n",
       "       scale_pos_weight=1, seed=0, silent=True, subsample=0.8)"
      ]
     },
     "execution_count": 20,
     "metadata": {},
     "output_type": "execute_result"
    }
   ],
   "source": [
    "model.fit(X_train, y_train, eval_metric='auc', eval_set=[(X_test, y_test)], early_stopping_rounds=20)"
   ]
  },
  {
   "cell_type": "code",
   "execution_count": 24,
   "metadata": {
    "collapsed": false
   },
   "outputs": [
    {
     "name": "stderr",
     "output_type": "stream",
     "text": [
      "/home/idm/.local/anaconda3/lib/python3.5/site-packages/ipykernel/__main__.py:2: FutureWarning: sort(columns=....) is deprecated, use sort_values(by=.....)\n",
      "  from ipykernel import kernelapp as app\n"
     ]
    },
    {
     "data": {
      "text/html": [
       "<div>\n",
       "<table border=\"1\" class=\"dataframe\">\n",
       "  <thead>\n",
       "    <tr style=\"text-align: right;\">\n",
       "      <th></th>\n",
       "      <th>feature</th>\n",
       "      <th>importance</th>\n",
       "    </tr>\n",
       "  </thead>\n",
       "  <tbody>\n",
       "    <tr>\n",
       "      <th>2</th>\n",
       "      <td>price_diff_ratio</td>\n",
       "      <td>0.382829</td>\n",
       "    </tr>\n",
       "    <tr>\n",
       "      <th>0</th>\n",
       "      <td>attrsJSON_item_jaccard</td>\n",
       "      <td>0.234728</td>\n",
       "    </tr>\n",
       "    <tr>\n",
       "      <th>1</th>\n",
       "      <td>attrsJSON_key_jaccard</td>\n",
       "      <td>0.156443</td>\n",
       "    </tr>\n",
       "    <tr>\n",
       "      <th>8</th>\n",
       "      <td>same_title</td>\n",
       "      <td>0.065452</td>\n",
       "    </tr>\n",
       "    <tr>\n",
       "      <th>5</th>\n",
       "      <td>same_lat_lon</td>\n",
       "      <td>0.045431</td>\n",
       "    </tr>\n",
       "    <tr>\n",
       "      <th>7</th>\n",
       "      <td>same_metroID</td>\n",
       "      <td>0.041453</td>\n",
       "    </tr>\n",
       "    <tr>\n",
       "      <th>6</th>\n",
       "      <td>same_locationID</td>\n",
       "      <td>0.040426</td>\n",
       "    </tr>\n",
       "    <tr>\n",
       "      <th>4</th>\n",
       "      <td>same_description</td>\n",
       "      <td>0.033239</td>\n",
       "    </tr>\n",
       "    <tr>\n",
       "      <th>3</th>\n",
       "      <td>same_categoryID</td>\n",
       "      <td>0.000000</td>\n",
       "    </tr>\n",
       "  </tbody>\n",
       "</table>\n",
       "</div>"
      ],
      "text/plain": [
       "                  feature  importance\n",
       "2        price_diff_ratio    0.382829\n",
       "0  attrsJSON_item_jaccard    0.234728\n",
       "1   attrsJSON_key_jaccard    0.156443\n",
       "8              same_title    0.065452\n",
       "5            same_lat_lon    0.045431\n",
       "7            same_metroID    0.041453\n",
       "6         same_locationID    0.040426\n",
       "4        same_description    0.033239\n",
       "3         same_categoryID    0.000000"
      ]
     },
     "execution_count": 24,
     "metadata": {},
     "output_type": "execute_result"
    }
   ],
   "source": [
    "pd.DataFrame({'feature': simple_features_train.columns,\n",
    "              'importance': model.feature_importances_}).sort('importance', ascending=False)"
   ]
  },
  {
   "cell_type": "code",
   "execution_count": 22,
   "metadata": {
    "collapsed": false
   },
   "outputs": [
    {
     "name": "stdout",
     "output_type": "stream",
     "text": [
      "CPU times: user 2h 23min 47s, sys: 4min 40s, total: 2h 28min 28s\n",
      "Wall time: 3min 16s\n"
     ]
    },
    {
     "data": {
      "text/plain": [
       "XGBClassifier(base_score=0.5, colsample_bylevel=1, colsample_bytree=0.8,\n",
       "       gamma=0, learning_rate=0.1, max_delta_step=0, max_depth=5,\n",
       "       min_child_weight=1, missing=None, n_estimators=260, nthread=-1,\n",
       "       objective='binary:logistic', reg_alpha=0, reg_lambda=1,\n",
       "       scale_pos_weight=1, seed=0, silent=True, subsample=0.8)"
      ]
     },
     "execution_count": 22,
     "metadata": {},
     "output_type": "execute_result"
    }
   ],
   "source": [
    "%time model.fit(simple_features_train, item_pairs_train.isDuplicate)"
   ]
  },
  {
   "cell_type": "code",
   "execution_count": 23,
   "metadata": {
    "collapsed": false
   },
   "outputs": [
    {
     "data": {
      "text/plain": [
       "array([0, 1])"
      ]
     },
     "execution_count": 23,
     "metadata": {},
     "output_type": "execute_result"
    }
   ],
   "source": [
    "model.classes_"
   ]
  },
  {
   "cell_type": "code",
   "execution_count": 25,
   "metadata": {
    "collapsed": false
   },
   "outputs": [],
   "source": [
    "prob_test = model.predict_proba(simple_features_test)[:,1]"
   ]
  },
  {
   "cell_type": "code",
   "execution_count": 26,
   "metadata": {
    "collapsed": false
   },
   "outputs": [
    {
     "data": {
      "text/html": [
       "<div>\n",
       "<table border=\"1\" class=\"dataframe\">\n",
       "  <thead>\n",
       "    <tr style=\"text-align: right;\">\n",
       "      <th></th>\n",
       "      <th>id</th>\n",
       "      <th>itemID_1</th>\n",
       "      <th>itemID_2</th>\n",
       "    </tr>\n",
       "  </thead>\n",
       "  <tbody>\n",
       "    <tr>\n",
       "      <th>0</th>\n",
       "      <td>0</td>\n",
       "      <td>5</td>\n",
       "      <td>4670875</td>\n",
       "    </tr>\n",
       "    <tr>\n",
       "      <th>1</th>\n",
       "      <td>1</td>\n",
       "      <td>5</td>\n",
       "      <td>787210</td>\n",
       "    </tr>\n",
       "    <tr>\n",
       "      <th>2</th>\n",
       "      <td>2</td>\n",
       "      <td>6</td>\n",
       "      <td>1705280</td>\n",
       "    </tr>\n",
       "    <tr>\n",
       "      <th>3</th>\n",
       "      <td>3</td>\n",
       "      <td>11</td>\n",
       "      <td>3020777</td>\n",
       "    </tr>\n",
       "    <tr>\n",
       "      <th>4</th>\n",
       "      <td>4</td>\n",
       "      <td>23</td>\n",
       "      <td>5316130</td>\n",
       "    </tr>\n",
       "  </tbody>\n",
       "</table>\n",
       "</div>"
      ],
      "text/plain": [
       "   id  itemID_1  itemID_2\n",
       "0   0         5   4670875\n",
       "1   1         5    787210\n",
       "2   2         6   1705280\n",
       "3   3        11   3020777\n",
       "4   4        23   5316130"
      ]
     },
     "execution_count": 26,
     "metadata": {},
     "output_type": "execute_result"
    }
   ],
   "source": [
    "item_pairs_test.head()"
   ]
  },
  {
   "cell_type": "code",
   "execution_count": 28,
   "metadata": {
    "collapsed": false
   },
   "outputs": [],
   "source": [
    "pd.DataFrame({'id': item_pairs_test['id'], 'probability': prob_test}).to_csv('baseline.csv', index=False)"
   ]
  }
 ],
 "metadata": {
  "kernelspec": {
   "display_name": "Python 3",
   "language": "python",
   "name": "python3"
  },
  "language_info": {
   "codemirror_mode": {
    "name": "ipython",
    "version": 3.0
   },
   "file_extension": ".py",
   "mimetype": "text/x-python",
   "name": "python",
   "nbconvert_exporter": "python",
   "pygments_lexer": "ipython3",
   "version": "3.5.1"
  }
 },
 "nbformat": 4,
 "nbformat_minor": 0
}