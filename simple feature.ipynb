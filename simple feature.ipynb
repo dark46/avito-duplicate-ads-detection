{
 "cells": [
  {
   "cell_type": "code",
   "execution_count": 1,
   "metadata": {
    "collapsed": false
   },
   "outputs": [
    {
     "name": "stdout",
     "output_type": "stream",
     "text": [
      "CPU times: user 21.7 s, sys: 2.61 s, total: 24.3 s\n",
      "Wall time: 24.3 s\n"
     ]
    }
   ],
   "source": [
    "%%time \n",
    "from data import *\n",
    "from data.pair_feature import *"
   ]
  },
  {
   "cell_type": "code",
   "execution_count": 4,
   "metadata": {
    "collapsed": false
   },
   "outputs": [
    {
     "data": {
      "text/plain": [
       "(2991396, 9)"
      ]
     },
     "execution_count": 4,
     "metadata": {},
     "output_type": "execute_result"
    }
   ],
   "source": [
    "simple_features_train.shape"
   ]
  },
  {
   "cell_type": "code",
   "execution_count": 5,
   "metadata": {
    "collapsed": false
   },
   "outputs": [
    {
     "data": {
      "text/plain": [
       "(1044196, 9)"
      ]
     },
     "execution_count": 5,
     "metadata": {},
     "output_type": "execute_result"
    }
   ],
   "source": [
    "simple_features_test.shape"
   ]
  },
  {
   "cell_type": "code",
   "execution_count": 6,
   "metadata": {
    "collapsed": true
   },
   "outputs": [],
   "source": [
    "from xgboost.sklearn import XGBClassifier"
   ]
  },
  {
   "cell_type": "code",
   "execution_count": 16,
   "metadata": {
    "collapsed": true
   },
   "outputs": [],
   "source": [
    "from sklearn.cross_validation import train_test_split"
   ]
  },
  {
   "cell_type": "code",
   "execution_count": 25,
   "metadata": {
    "collapsed": true
   },
   "outputs": [],
   "source": [
    "X_train, X_test, y_train, y_test = train_test_split(simple_features_train.values, item_pairs_train.isDuplicate.values, test_size=0.2)"
   ]
  },
  {
   "cell_type": "code",
   "execution_count": 7,
   "metadata": {
    "collapsed": true
   },
   "outputs": [],
   "source": [
    "model = XGBClassifier()"
   ]
  },
  {
   "cell_type": "code",
   "execution_count": 37,
   "metadata": {
    "collapsed": false
   },
   "outputs": [
    {
     "data": {
      "text/html": [
       "<div>\n",
       "<table border=\"1\" class=\"dataframe\">\n",
       "  <thead>\n",
       "    <tr style=\"text-align: right;\">\n",
       "      <th></th>\n",
       "      <th>categoryID</th>\n",
       "      <th>title</th>\n",
       "      <th>description</th>\n",
       "      <th>images_array</th>\n",
       "      <th>attrsJSON</th>\n",
       "      <th>price</th>\n",
       "      <th>locationID</th>\n",
       "      <th>metroID</th>\n",
       "      <th>lat</th>\n",
       "      <th>lon</th>\n",
       "    </tr>\n",
       "    <tr>\n",
       "      <th>itemID</th>\n",
       "      <th></th>\n",
       "      <th></th>\n",
       "      <th></th>\n",
       "      <th></th>\n",
       "      <th></th>\n",
       "      <th></th>\n",
       "      <th></th>\n",
       "      <th></th>\n",
       "      <th></th>\n",
       "      <th></th>\n",
       "    </tr>\n",
       "  </thead>\n",
       "  <tbody>\n",
       "    <tr>\n",
       "      <th>1</th>\n",
       "      <td>81</td>\n",
       "      <td>Продам Камаз 6520</td>\n",
       "      <td>Продам Камаз 6520 20 тонн</td>\n",
       "      <td>[1064094, 5252822, 6645873, 6960145, 9230265]</td>\n",
       "      <td>{'Вид техники': 'Грузовики'}</td>\n",
       "      <td>300000.0</td>\n",
       "      <td>648140</td>\n",
       "      <td>NaN</td>\n",
       "      <td>64.686946</td>\n",
       "      <td>30.815924</td>\n",
       "    </tr>\n",
       "    <tr>\n",
       "      <th>3</th>\n",
       "      <td>14</td>\n",
       "      <td>Yamaha r6</td>\n",
       "      <td>Весь в тюнинге.</td>\n",
       "      <td>[11919573, 14412228, 3204180, 6646877]</td>\n",
       "      <td>{'Вид мотоцикла': 'Спортивные', 'Вид техники':...</td>\n",
       "      <td>300000.0</td>\n",
       "      <td>639040</td>\n",
       "      <td>NaN</td>\n",
       "      <td>55.678037</td>\n",
       "      <td>37.256548</td>\n",
       "    </tr>\n",
       "    <tr>\n",
       "      <th>4</th>\n",
       "      <td>84</td>\n",
       "      <td>iPhone 3gs 8gb</td>\n",
       "      <td>Телефон в хорошем состоянии, трещин и сколов н...</td>\n",
       "      <td>[14384831, 6102021]</td>\n",
       "      <td>{'Вид телефона': 'iPhone'}</td>\n",
       "      <td>3500.0</td>\n",
       "      <td>640650</td>\n",
       "      <td>NaN</td>\n",
       "      <td>56.239398</td>\n",
       "      <td>43.460458</td>\n",
       "    </tr>\n",
       "    <tr>\n",
       "      <th>7</th>\n",
       "      <td>84</td>\n",
       "      <td>Xiaomi Mi4 3гб RAM + 16гб ROM белый</td>\n",
       "      <td>Отличный подарок на новый год от \"китайской ap...</td>\n",
       "      <td>[]</td>\n",
       "      <td>{'Вид телефона': 'Другие марки'}</td>\n",
       "      <td>13500.0</td>\n",
       "      <td>662210</td>\n",
       "      <td>NaN</td>\n",
       "      <td>55.777170</td>\n",
       "      <td>37.586194</td>\n",
       "    </tr>\n",
       "    <tr>\n",
       "      <th>8</th>\n",
       "      <td>39</td>\n",
       "      <td>Лыжные ботинки</td>\n",
       "      <td>Лыжные ботинки в хорошем состоянии, 34 размер</td>\n",
       "      <td>[13718854, 4787310]</td>\n",
       "      <td>{'Вид товара': 'Зимние виды спорта'}</td>\n",
       "      <td>500.0</td>\n",
       "      <td>624360</td>\n",
       "      <td>NaN</td>\n",
       "      <td>55.777170</td>\n",
       "      <td>37.586194</td>\n",
       "    </tr>\n",
       "  </tbody>\n",
       "</table>\n",
       "</div>"
      ],
      "text/plain": [
       "        categoryID                                title  \\\n",
       "itemID                                                    \n",
       "1               81                    Продам Камаз 6520   \n",
       "3               14                            Yamaha r6   \n",
       "4               84                       iPhone 3gs 8gb   \n",
       "7               84  Xiaomi Mi4 3гб RAM + 16гб ROM белый   \n",
       "8               39                       Лыжные ботинки   \n",
       "\n",
       "                                              description  \\\n",
       "itemID                                                      \n",
       "1                               Продам Камаз 6520 20 тонн   \n",
       "3                                         Весь в тюнинге.   \n",
       "4       Телефон в хорошем состоянии, трещин и сколов н...   \n",
       "7       Отличный подарок на новый год от \"китайской ap...   \n",
       "8           Лыжные ботинки в хорошем состоянии, 34 размер   \n",
       "\n",
       "                                         images_array  \\\n",
       "itemID                                                  \n",
       "1       [1064094, 5252822, 6645873, 6960145, 9230265]   \n",
       "3              [11919573, 14412228, 3204180, 6646877]   \n",
       "4                                 [14384831, 6102021]   \n",
       "7                                                  []   \n",
       "8                                 [13718854, 4787310]   \n",
       "\n",
       "                                                attrsJSON     price  \\\n",
       "itemID                                                                \n",
       "1                            {'Вид техники': 'Грузовики'}  300000.0   \n",
       "3       {'Вид мотоцикла': 'Спортивные', 'Вид техники':...  300000.0   \n",
       "4                              {'Вид телефона': 'iPhone'}    3500.0   \n",
       "7                        {'Вид телефона': 'Другие марки'}   13500.0   \n",
       "8                    {'Вид товара': 'Зимние виды спорта'}     500.0   \n",
       "\n",
       "        locationID  metroID        lat        lon  \n",
       "itemID                                             \n",
       "1           648140      NaN  64.686946  30.815924  \n",
       "3           639040      NaN  55.678037  37.256548  \n",
       "4           640650      NaN  56.239398  43.460458  \n",
       "7           662210      NaN  55.777170  37.586194  \n",
       "8           624360      NaN  55.777170  37.586194  "
      ]
     },
     "execution_count": 37,
     "metadata": {},
     "output_type": "execute_result"
    }
   ],
   "source": [
    "item_info_train.head()"
   ]
  },
  {
   "cell_type": "code",
   "execution_count": 32,
   "metadata": {
    "collapsed": false
   },
   "outputs": [
    {
     "name": "stdout",
     "output_type": "stream",
     "text": [
      "[0]\tvalidation_0-auc:0.746837\n",
      "[1]\tvalidation_0-auc:0.755587\n",
      "[2]\tvalidation_0-auc:0.756284\n",
      "[3]\tvalidation_0-auc:0.75765\n",
      "[4]\tvalidation_0-auc:0.758805\n",
      "[5]\tvalidation_0-auc:0.764109\n",
      "[6]\tvalidation_0-auc:0.765302\n",
      "[7]\tvalidation_0-auc:0.768004\n",
      "[8]\tvalidation_0-auc:0.768\n",
      "[9]\tvalidation_0-auc:0.768049\n",
      "[10]\tvalidation_0-auc:0.768709\n",
      "[11]\tvalidation_0-auc:0.769508\n",
      "[12]\tvalidation_0-auc:0.77042\n",
      "[13]\tvalidation_0-auc:0.771376\n",
      "[14]\tvalidation_0-auc:0.771662\n",
      "[15]\tvalidation_0-auc:0.771901\n",
      "[16]\tvalidation_0-auc:0.772379\n",
      "[17]\tvalidation_0-auc:0.773065\n",
      "[18]\tvalidation_0-auc:0.773906\n",
      "[19]\tvalidation_0-auc:0.774738\n",
      "[20]\tvalidation_0-auc:0.775083\n",
      "[21]\tvalidation_0-auc:0.775325\n",
      "[22]\tvalidation_0-auc:0.775734\n",
      "[23]\tvalidation_0-auc:0.776163\n",
      "[24]\tvalidation_0-auc:0.776408\n",
      "[25]\tvalidation_0-auc:0.776774\n",
      "[26]\tvalidation_0-auc:0.777203\n",
      "[27]\tvalidation_0-auc:0.777463\n",
      "[28]\tvalidation_0-auc:0.777736\n",
      "[29]\tvalidation_0-auc:0.777846\n",
      "[30]\tvalidation_0-auc:0.777972\n",
      "[31]\tvalidation_0-auc:0.778158\n",
      "[32]\tvalidation_0-auc:0.778398\n",
      "[33]\tvalidation_0-auc:0.778712\n",
      "[34]\tvalidation_0-auc:0.778927\n",
      "[35]\tvalidation_0-auc:0.779568\n",
      "[36]\tvalidation_0-auc:0.77966\n",
      "[37]\tvalidation_0-auc:0.78004\n",
      "[38]\tvalidation_0-auc:0.780285\n",
      "[39]\tvalidation_0-auc:0.780694\n",
      "[40]\tvalidation_0-auc:0.780788\n",
      "[41]\tvalidation_0-auc:0.780849\n",
      "[42]\tvalidation_0-auc:0.781152\n",
      "[43]\tvalidation_0-auc:0.781365\n",
      "[44]\tvalidation_0-auc:0.781714\n",
      "[45]\tvalidation_0-auc:0.781844\n",
      "[46]\tvalidation_0-auc:0.781865\n",
      "[47]\tvalidation_0-auc:0.782055\n",
      "[48]\tvalidation_0-auc:0.782344\n",
      "[49]\tvalidation_0-auc:0.782426\n",
      "[50]\tvalidation_0-auc:0.782571\n",
      "[51]\tvalidation_0-auc:0.782741\n",
      "[52]\tvalidation_0-auc:0.782817\n",
      "[53]\tvalidation_0-auc:0.7829\n",
      "[54]\tvalidation_0-auc:0.783108\n",
      "[55]\tvalidation_0-auc:0.783221\n",
      "[56]\tvalidation_0-auc:0.783377\n",
      "[57]\tvalidation_0-auc:0.783428\n",
      "[58]\tvalidation_0-auc:0.783496\n",
      "[59]\tvalidation_0-auc:0.783637\n",
      "[60]\tvalidation_0-auc:0.783677\n",
      "[61]\tvalidation_0-auc:0.783891\n",
      "[62]\tvalidation_0-auc:0.784201\n",
      "[63]\tvalidation_0-auc:0.784366\n",
      "[64]\tvalidation_0-auc:0.784529\n",
      "[65]\tvalidation_0-auc:0.784661\n",
      "[66]\tvalidation_0-auc:0.784675\n",
      "[67]\tvalidation_0-auc:0.784715\n",
      "[68]\tvalidation_0-auc:0.784833\n",
      "[69]\tvalidation_0-auc:0.784858\n",
      "[70]\tvalidation_0-auc:0.785085\n",
      "[71]\tvalidation_0-auc:0.78513\n",
      "[72]\tvalidation_0-auc:0.785169\n",
      "[73]\tvalidation_0-auc:0.785314\n",
      "[74]\tvalidation_0-auc:0.785406\n",
      "[75]\tvalidation_0-auc:0.785443\n",
      "[76]\tvalidation_0-auc:0.785532\n",
      "[77]\tvalidation_0-auc:0.785551\n",
      "[78]\tvalidation_0-auc:0.785612\n",
      "[79]\tvalidation_0-auc:0.785656\n",
      "[80]\tvalidation_0-auc:0.78567\n",
      "[81]\tvalidation_0-auc:0.785862\n",
      "[82]\tvalidation_0-auc:0.785981\n",
      "[83]\tvalidation_0-auc:0.785992\n",
      "[84]\tvalidation_0-auc:0.786\n",
      "[85]\tvalidation_0-auc:0.786156\n",
      "[86]\tvalidation_0-auc:0.786202\n",
      "[87]\tvalidation_0-auc:0.786307\n",
      "[88]\tvalidation_0-auc:0.786338\n",
      "[89]\tvalidation_0-auc:0.786418\n",
      "[90]\tvalidation_0-auc:0.786526\n",
      "[91]\tvalidation_0-auc:0.786557\n",
      "[92]\tvalidation_0-auc:0.786592\n",
      "[93]\tvalidation_0-auc:0.786648\n",
      "[94]\tvalidation_0-auc:0.786672\n",
      "[95]\tvalidation_0-auc:0.786712\n",
      "[96]\tvalidation_0-auc:0.786791\n",
      "[97]\tvalidation_0-auc:0.786986\n",
      "[98]\tvalidation_0-auc:0.787037\n",
      "[99]\tvalidation_0-auc:0.787121\n"
     ]
    },
    {
     "data": {
      "text/plain": [
       "XGBClassifier(base_score=0.5, colsample_bylevel=1, colsample_bytree=1,\n",
       "       gamma=0, learning_rate=0.1, max_delta_step=0, max_depth=3,\n",
       "       min_child_weight=1, missing=None, n_estimators=100, nthread=-1,\n",
       "       objective='binary:logistic', reg_alpha=0, reg_lambda=1,\n",
       "       scale_pos_weight=1, seed=0, silent=True, subsample=1)"
      ]
     },
     "execution_count": 32,
     "metadata": {},
     "output_type": "execute_result"
    }
   ],
   "source": [
    "model.fit(X_train, y_train, eval_metric='auc', eval_set=[(X_test, y_test)])"
   ]
  },
  {
   "cell_type": "code",
   "execution_count": 35,
   "metadata": {
    "collapsed": false
   },
   "outputs": [
    {
     "name": "stderr",
     "output_type": "stream",
     "text": [
      "/home/lq/.local/anaconda3/lib/python3.5/site-packages/ipykernel/__main__.py:2: FutureWarning: sort(columns=....) is deprecated, use sort_values(by=.....)\n",
      "  from ipykernel import kernelapp as app\n"
     ]
    },
    {
     "data": {
      "text/html": [
       "<div>\n",
       "<table border=\"1\" class=\"dataframe\">\n",
       "  <thead>\n",
       "    <tr style=\"text-align: right;\">\n",
       "      <th></th>\n",
       "      <th>feature</th>\n",
       "      <th>importance</th>\n",
       "    </tr>\n",
       "  </thead>\n",
       "  <tbody>\n",
       "    <tr>\n",
       "      <th>0</th>\n",
       "      <td>attrsJSON_item_jaccard</td>\n",
       "      <td>0.357143</td>\n",
       "    </tr>\n",
       "    <tr>\n",
       "      <th>2</th>\n",
       "      <td>price_diff_ratio</td>\n",
       "      <td>0.302857</td>\n",
       "    </tr>\n",
       "    <tr>\n",
       "      <th>1</th>\n",
       "      <td>attrsJSON_key_jaccard</td>\n",
       "      <td>0.085714</td>\n",
       "    </tr>\n",
       "    <tr>\n",
       "      <th>8</th>\n",
       "      <td>same_title</td>\n",
       "      <td>0.081429</td>\n",
       "    </tr>\n",
       "    <tr>\n",
       "      <th>7</th>\n",
       "      <td>same_metroID</td>\n",
       "      <td>0.054286</td>\n",
       "    </tr>\n",
       "    <tr>\n",
       "      <th>4</th>\n",
       "      <td>same_description</td>\n",
       "      <td>0.048571</td>\n",
       "    </tr>\n",
       "    <tr>\n",
       "      <th>5</th>\n",
       "      <td>same_lat_lon</td>\n",
       "      <td>0.038571</td>\n",
       "    </tr>\n",
       "    <tr>\n",
       "      <th>6</th>\n",
       "      <td>same_locationID</td>\n",
       "      <td>0.031429</td>\n",
       "    </tr>\n",
       "    <tr>\n",
       "      <th>3</th>\n",
       "      <td>same_categoryID</td>\n",
       "      <td>0.000000</td>\n",
       "    </tr>\n",
       "  </tbody>\n",
       "</table>\n",
       "</div>"
      ],
      "text/plain": [
       "                  feature  importance\n",
       "0  attrsJSON_item_jaccard    0.357143\n",
       "2        price_diff_ratio    0.302857\n",
       "1   attrsJSON_key_jaccard    0.085714\n",
       "8              same_title    0.081429\n",
       "7            same_metroID    0.054286\n",
       "4        same_description    0.048571\n",
       "5            same_lat_lon    0.038571\n",
       "6         same_locationID    0.031429\n",
       "3         same_categoryID    0.000000"
      ]
     },
     "execution_count": 35,
     "metadata": {},
     "output_type": "execute_result"
    }
   ],
   "source": [
    "pd.DataFrame({'feature': simple_features_train.columns,\n",
    "              'importance': model.feature_importances_}).sort('importance', ascending=False)"
   ]
  },
  {
   "cell_type": "code",
   "execution_count": 38,
   "metadata": {
    "collapsed": false
   },
   "outputs": [
    {
     "name": "stdout",
     "output_type": "stream",
     "text": [
      "CPU times: user 2min 56s, sys: 2.69 s, total: 2min 58s\n",
      "Wall time: 52.4 s\n"
     ]
    },
    {
     "data": {
      "text/plain": [
       "XGBClassifier(base_score=0.5, colsample_bylevel=1, colsample_bytree=1,\n",
       "       gamma=0, learning_rate=0.1, max_delta_step=0, max_depth=3,\n",
       "       min_child_weight=1, missing=None, n_estimators=100, nthread=-1,\n",
       "       objective='binary:logistic', reg_alpha=0, reg_lambda=1,\n",
       "       scale_pos_weight=1, seed=0, silent=True, subsample=1)"
      ]
     },
     "execution_count": 38,
     "metadata": {},
     "output_type": "execute_result"
    }
   ],
   "source": [
    "%time model.fit(simple_features_train, item_pairs_train.isDuplicate)"
   ]
  },
  {
   "cell_type": "code",
   "execution_count": 40,
   "metadata": {
    "collapsed": false
   },
   "outputs": [
    {
     "data": {
      "text/plain": [
       "array([0, 1])"
      ]
     },
     "execution_count": 40,
     "metadata": {},
     "output_type": "execute_result"
    }
   ],
   "source": [
    "model.classes_"
   ]
  },
  {
   "cell_type": "code",
   "execution_count": 41,
   "metadata": {
    "collapsed": false
   },
   "outputs": [],
   "source": [
    "prob_test = model.predict_proba(simple_features_test)[:,1]"
   ]
  },
  {
   "cell_type": "code",
   "execution_count": 43,
   "metadata": {
    "collapsed": false
   },
   "outputs": [
    {
     "data": {
      "text/html": [
       "<div>\n",
       "<table border=\"1\" class=\"dataframe\">\n",
       "  <thead>\n",
       "    <tr style=\"text-align: right;\">\n",
       "      <th></th>\n",
       "      <th>id</th>\n",
       "      <th>itemID_1</th>\n",
       "      <th>itemID_2</th>\n",
       "    </tr>\n",
       "  </thead>\n",
       "  <tbody>\n",
       "    <tr>\n",
       "      <th>0</th>\n",
       "      <td>0</td>\n",
       "      <td>5</td>\n",
       "      <td>4670875</td>\n",
       "    </tr>\n",
       "    <tr>\n",
       "      <th>1</th>\n",
       "      <td>1</td>\n",
       "      <td>5</td>\n",
       "      <td>787210</td>\n",
       "    </tr>\n",
       "    <tr>\n",
       "      <th>2</th>\n",
       "      <td>2</td>\n",
       "      <td>6</td>\n",
       "      <td>1705280</td>\n",
       "    </tr>\n",
       "    <tr>\n",
       "      <th>3</th>\n",
       "      <td>3</td>\n",
       "      <td>11</td>\n",
       "      <td>3020777</td>\n",
       "    </tr>\n",
       "    <tr>\n",
       "      <th>4</th>\n",
       "      <td>4</td>\n",
       "      <td>23</td>\n",
       "      <td>5316130</td>\n",
       "    </tr>\n",
       "  </tbody>\n",
       "</table>\n",
       "</div>"
      ],
      "text/plain": [
       "   id  itemID_1  itemID_2\n",
       "0   0         5   4670875\n",
       "1   1         5    787210\n",
       "2   2         6   1705280\n",
       "3   3        11   3020777\n",
       "4   4        23   5316130"
      ]
     },
     "execution_count": 43,
     "metadata": {},
     "output_type": "execute_result"
    }
   ],
   "source": [
    "item_pairs_test.head()"
   ]
  },
  {
   "cell_type": "code",
   "execution_count": 45,
   "metadata": {
    "collapsed": false
   },
   "outputs": [],
   "source": [
    "pd.DataFrame({'id': item_pairs_test['id'], 'probability': prob_test}).to_csv('baseline.csv', index=False)"
   ]
  }
 ],
 "metadata": {
  "kernelspec": {
   "display_name": "Python 3",
   "language": "python",
   "name": "python3"
  },
  "language_info": {
   "codemirror_mode": {
    "name": "ipython",
    "version": 3
   },
   "file_extension": ".py",
   "mimetype": "text/x-python",
   "name": "python",
   "nbconvert_exporter": "python",
   "pygments_lexer": "ipython3",
   "version": "3.5.1"
  }
 },
 "nbformat": 4,
 "nbformat_minor": 0
}
