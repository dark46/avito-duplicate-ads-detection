{
 "cells": [
  {
   "cell_type": "code",
   "execution_count": 2,
   "metadata": {
    "collapsed": true,
    "slideshow": {
     "slide_type": "skip"
    }
   },
   "outputs": [],
   "source": [
    "import pandas as pd"
   ]
  },
  {
   "cell_type": "markdown",
   "metadata": {
    "slideshow": {
     "slide_type": "slide"
    }
   },
   "source": [
    "# Avito Duplicate Ads Detection\n",
    "\n",
    "luoq08@gmail.com OR hzluoqiang@corp.netease.com"
   ]
  },
  {
   "cell_type": "markdown",
   "metadata": {
    "slideshow": {
     "slide_type": "slide"
    }
   },
   "source": [
    "## data\n",
    "\n",
    "![data](avito-dup.svg)"
   ]
  },
  {
   "cell_type": "markdown",
   "metadata": {
    "slideshow": {
     "slide_type": "subslide"
    }
   },
   "source": [
    "### size\n",
    "\n",
    "* train pair: 2991396\n",
    "* test pair: 1044196\n",
    "* train info: 3344613\n",
    "* train test: 1315205\n",
    "* image: 11380670"
   ]
  },
  {
   "cell_type": "markdown",
   "metadata": {
    "slideshow": {
     "slide_type": "slide"
    }
   },
   "source": [
    "## solution\n",
    "\n",
    "[detail](solution.md)"
   ]
  },
  {
   "cell_type": "markdown",
   "metadata": {
    "slideshow": {
     "slide_type": "subslide"
    }
   },
   "source": [
    "### feature contribution\n",
    "\n",
    "impact on final result(from old model)"
   ]
  },
  {
   "cell_type": "code",
   "execution_count": 4,
   "metadata": {
    "collapsed": false,
    "slideshow": {
     "slide_type": "-"
    }
   },
   "outputs": [
    {
     "data": {
      "text/html": [
       "<div>\n",
       "<table border=\"1\" class=\"dataframe\">\n",
       "  <thead>\n",
       "    <tr style=\"text-align: right;\">\n",
       "      <th></th>\n",
       "      <th>model</th>\n",
       "      <th>features</th>\n",
       "      <th>test set</th>\n",
       "      <th>public leaderboard</th>\n",
       "      <th>gap</th>\n",
       "    </tr>\n",
       "  </thead>\n",
       "  <tbody>\n",
       "    <tr>\n",
       "      <th>0</th>\n",
       "      <td>xgboost.26.weighted</td>\n",
       "      <td>all</td>\n",
       "      <td>0.956060</td>\n",
       "      <td>0.91957</td>\n",
       "      <td>0.036490</td>\n",
       "    </tr>\n",
       "    <tr>\n",
       "      <th>1</th>\n",
       "      <td>xgboost.27.weighted</td>\n",
       "      <td>-image</td>\n",
       "      <td>0.929910</td>\n",
       "      <td>0.86827</td>\n",
       "      <td>0.061640</td>\n",
       "    </tr>\n",
       "    <tr>\n",
       "      <th>2</th>\n",
       "      <td>xgboost.28.weighted</td>\n",
       "      <td>-image, -corpus</td>\n",
       "      <td>0.922269</td>\n",
       "      <td>0.85488</td>\n",
       "      <td>0.067389</td>\n",
       "    </tr>\n",
       "    <tr>\n",
       "      <th>3</th>\n",
       "      <td>Xgboost.29.weighted</td>\n",
       "      <td>-corpus</td>\n",
       "      <td>0.952553</td>\n",
       "      <td>0.91441</td>\n",
       "      <td>0.038143</td>\n",
       "    </tr>\n",
       "    <tr>\n",
       "      <th>4</th>\n",
       "      <td>lr_text.1</td>\n",
       "      <td>title_description_dtm_0</td>\n",
       "      <td>0.793570</td>\n",
       "      <td>0.64333</td>\n",
       "      <td>0.150240</td>\n",
       "    </tr>\n",
       "    <tr>\n",
       "      <th>5</th>\n",
       "      <td>Xgboost.31.weighted</td>\n",
       "      <td>+description_sentence__binary__agg_cosine</td>\n",
       "      <td>0.956172</td>\n",
       "      <td>0.91963</td>\n",
       "      <td>0.036542</td>\n",
       "    </tr>\n",
       "  </tbody>\n",
       "</table>\n",
       "</div>"
      ],
      "text/plain": [
       "                 model                                   features  test set  \\\n",
       "0  xgboost.26.weighted                                        all  0.956060   \n",
       "1  xgboost.27.weighted                                     -image  0.929910   \n",
       "2  xgboost.28.weighted                            -image, -corpus  0.922269   \n",
       "3  Xgboost.29.weighted                                    -corpus  0.952553   \n",
       "4            lr_text.1                    title_description_dtm_0  0.793570   \n",
       "5  Xgboost.31.weighted  +description_sentence__binary__agg_cosine  0.956172   \n",
       "\n",
       "   public leaderboard       gap  \n",
       "0             0.91957  0.036490  \n",
       "1             0.86827  0.061640  \n",
       "2             0.85488  0.067389  \n",
       "3             0.91441  0.038143  \n",
       "4             0.64333  0.150240  \n",
       "5             0.91963  0.036542  "
      ]
     },
     "execution_count": 4,
     "metadata": {},
     "output_type": "execute_result"
    }
   ],
   "source": [
    "pd.read_csv('auc.old.csv')"
   ]
  },
  {
   "cell_type": "markdown",
   "metadata": {
    "slideshow": {
     "slide_type": "subslide"
    }
   },
   "source": [
    "### feature importance\n",
    "\n",
    "in final model(without)"
   ]
  },
  {
   "cell_type": "markdown",
   "metadata": {
    "slideshow": {
     "slide_type": "subslide"
    }
   },
   "source": [
    "### interesting finding\n",
    "\n",
    "* gap between train and test\n",
    "  * not iid\n",
    "  * ordered by time\n",
    "  * text feature "
   ]
  },
  {
   "cell_type": "code",
   "execution_count": null,
   "metadata": {
    "collapsed": true
   },
   "outputs": [],
   "source": []
  }
 ],
 "metadata": {
  "celltoolbar": "Slideshow",
  "kernelspec": {
   "display_name": "Python 3",
   "language": "python",
   "name": "python3"
  },
  "language_info": {
   "codemirror_mode": {
    "name": "ipython",
    "version": 3
   },
   "file_extension": ".py",
   "mimetype": "text/x-python",
   "name": "python",
   "nbconvert_exporter": "python",
   "pygments_lexer": "ipython3",
   "version": "3.5.2"
  }
 },
 "nbformat": 4,
 "nbformat_minor": 0
}
