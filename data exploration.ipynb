{
 "cells": [
  {
   "cell_type": "code",
   "execution_count": 1,
   "metadata": {
    "collapsed": false
   },
   "outputs": [],
   "source": [
    "%load_ext autoreload"
   ]
  },
  {
   "cell_type": "code",
   "execution_count": 2,
   "metadata": {
    "collapsed": true
   },
   "outputs": [],
   "source": [
    "%autoreload 2"
   ]
  },
  {
   "cell_type": "code",
   "execution_count": 3,
   "metadata": {
    "collapsed": false
   },
   "outputs": [
    {
     "name": "stdout",
     "output_type": "stream",
     "text": [
      "CPU times: user 43.1 s, sys: 7.3 s, total: 50.4 s\n",
      "Wall time: 50.5 s\n"
     ]
    }
   ],
   "source": [
    "%time from data import *"
   ]
  },
  {
   "cell_type": "code",
   "execution_count": 4,
   "metadata": {
    "collapsed": false
   },
   "outputs": [
    {
     "data": {
      "text/html": [
       "\n",
       "    <div class=\"bk-banner\">\n",
       "        <a href=\"http://bokeh.pydata.org\" target=\"_blank\" class=\"bk-logo bk-logo-small bk-logo-notebook\"></a>\n",
       "        <span id=\"235fbd4a-d1f1-487d-8f09-5f4d883cafb4\">Loading BokehJS ...</span>\n",
       "    </div>"
      ]
     },
     "metadata": {},
     "output_type": "display_data"
    },
    {
     "data": {
      "application/javascript": [
       "\n",
       "(function(global) {\n",
       "  function now() {\n",
       "    return new Date();\n",
       "  }\n",
       "\n",
       "  if (typeof (window._bokeh_onload_callbacks) === \"undefined\") {\n",
       "    window._bokeh_onload_callbacks = [];\n",
       "  }\n",
       "\n",
       "  function run_callbacks() {\n",
       "    window._bokeh_onload_callbacks.forEach(function(callback) { callback() });\n",
       "    delete window._bokeh_onload_callbacks\n",
       "    console.info(\"Bokeh: all callbacks have finished\");\n",
       "  }\n",
       "\n",
       "  function load_libs(js_urls, callback) {\n",
       "    window._bokeh_onload_callbacks.push(callback);\n",
       "    if (window._bokeh_is_loading > 0) {\n",
       "      console.log(\"Bokeh: BokehJS is being loaded, scheduling callback at\", now());\n",
       "      return null;\n",
       "    }\n",
       "    if (js_urls == null || js_urls.length === 0) {\n",
       "      run_callbacks();\n",
       "      return null;\n",
       "    }\n",
       "    console.log(\"Bokeh: BokehJS not loaded, scheduling load and callback at\", now());\n",
       "    window._bokeh_is_loading = js_urls.length;\n",
       "    for (var i = 0; i < js_urls.length; i++) {\n",
       "      var url = js_urls[i];\n",
       "      var s = document.createElement('script');\n",
       "      s.src = url;\n",
       "      s.async = false;\n",
       "      s.onreadystatechange = s.onload = function() {\n",
       "        window._bokeh_is_loading--;\n",
       "        if (window._bokeh_is_loading === 0) {\n",
       "          console.log(\"Bokeh: all BokehJS libraries loaded\");\n",
       "          run_callbacks()\n",
       "        }\n",
       "      };\n",
       "      s.onerror = function() {\n",
       "        console.warn(\"failed to load library \" + url);\n",
       "      };\n",
       "      console.log(\"Bokeh: injecting script tag for BokehJS library: \", url);\n",
       "      document.getElementsByTagName(\"head\")[0].appendChild(s);\n",
       "    }\n",
       "  };\n",
       "\n",
       "  var js_urls = ['https://cdn.pydata.org/bokeh/release/bokeh-0.11.1.min.js', 'https://cdn.pydata.org/bokeh/release/bokeh-widgets-0.11.1.min.js', 'https://cdn.pydata.org/bokeh/release/bokeh-compiler-0.11.1.min.js'];\n",
       "\n",
       "  var inline_js = [\n",
       "    function(Bokeh) {\n",
       "      Bokeh.set_log_level(\"info\");\n",
       "    },\n",
       "    \n",
       "    function(Bokeh) {\n",
       "      Bokeh.$(\"#235fbd4a-d1f1-487d-8f09-5f4d883cafb4\").text(\"BokehJS successfully loaded\");\n",
       "    },\n",
       "    function(Bokeh) {\n",
       "      console.log(\"Bokeh: injecting CSS: https://cdn.pydata.org/bokeh/release/bokeh-0.11.1.min.css\");\n",
       "      Bokeh.embed.inject_css(\"https://cdn.pydata.org/bokeh/release/bokeh-0.11.1.min.css\");\n",
       "      console.log(\"Bokeh: injecting CSS: https://cdn.pydata.org/bokeh/release/bokeh-widgets-0.11.1.min.css\");\n",
       "      Bokeh.embed.inject_css(\"https://cdn.pydata.org/bokeh/release/bokeh-widgets-0.11.1.min.css\");\n",
       "    }\n",
       "  ];\n",
       "\n",
       "  function run_inline_js() {\n",
       "    for (var i = 0; i < inline_js.length; i++) {\n",
       "      inline_js[i](window.Bokeh);\n",
       "    }\n",
       "  }\n",
       "\n",
       "  if (window._bokeh_is_loading === 0) {\n",
       "    console.log(\"Bokeh: BokehJS loaded, going straight to plotting\");\n",
       "    run_inline_js();\n",
       "  } else {\n",
       "    load_libs(js_urls, function() {\n",
       "      console.log(\"Bokeh: BokehJS plotting callback run at\", now());\n",
       "      run_inline_js();\n",
       "    });\n",
       "  }\n",
       "}(this));"
      ]
     },
     "metadata": {},
     "output_type": "display_data"
    }
   ],
   "source": [
    "import pandas as pd\n",
    "import numpy as np\n",
    "\n",
    "\n",
    "from bokeh.io import output_notebook, show\n",
    "output_notebook()\n",
    "from bokeh.charts import Bar\n",
    "\n",
    "\n",
    "%matplotlib inline\n",
    "import seaborn\n",
    "seaborn.set()"
   ]
  },
  {
   "cell_type": "markdown",
   "metadata": {},
   "source": [
    "# item info display"
   ]
  },
  {
   "cell_type": "code",
   "execution_count": 126,
   "metadata": {
    "collapsed": false
   },
   "outputs": [
    {
     "name": "stderr",
     "output_type": "stream",
     "text": [
      "[autoreload of feature failed: Traceback (most recent call last):\n",
      "  File \"/home/idm/.local/anaconda3/lib/python3.5/site-packages/IPython/extensions/autoreload.py\", line 247, in check\n",
      "    superreload(m, reload, self.old_objects)\n",
      "ImportError: cannot import name 'word_ngrams'\n",
      "]\n",
      "[autoreload of dateutil.rrule failed: Traceback (most recent call last):\n",
      "  File \"/home/idm/.local/anaconda3/lib/python3.5/site-packages/IPython/extensions/autoreload.py\", line 247, in check\n",
      "    superreload(m, reload, self.old_objects)\n",
      "ValueError: inner_func() requires a code object with 1 free vars, not 0\n",
      "]\n",
      "[autoreload of data.pair_feature failed: Traceback (most recent call last):\n",
      "  File \"/home/idm/.local/anaconda3/lib/python3.5/site-packages/IPython/extensions/autoreload.py\", line 247, in check\n",
      "    superreload(m, reload, self.old_objects)\n",
      "NameError: name 'gen_description_feature' is not defined\n",
      "]\n"
     ]
    }
   ],
   "source": [
    "from feature import *"
   ]
  },
  {
   "cell_type": "code",
   "execution_count": 7,
   "metadata": {
    "collapsed": false
   },
   "outputs": [
    {
     "data": {
      "text/html": [
       "<div>\n",
       "<table border=\"1\" class=\"dataframe\">\n",
       "  <thead>\n",
       "    <tr style=\"text-align: right;\">\n",
       "      <th></th>\n",
       "      <th>itemID_1</th>\n",
       "      <th>itemID_2</th>\n",
       "      <th>isDuplicate</th>\n",
       "      <th>generationMethod</th>\n",
       "    </tr>\n",
       "  </thead>\n",
       "  <tbody>\n",
       "    <tr>\n",
       "      <th>0</th>\n",
       "      <td>1</td>\n",
       "      <td>4112648</td>\n",
       "      <td>1</td>\n",
       "      <td>1</td>\n",
       "    </tr>\n",
       "    <tr>\n",
       "      <th>1</th>\n",
       "      <td>3</td>\n",
       "      <td>1991275</td>\n",
       "      <td>1</td>\n",
       "      <td>1</td>\n",
       "    </tr>\n",
       "    <tr>\n",
       "      <th>2</th>\n",
       "      <td>4</td>\n",
       "      <td>1223296</td>\n",
       "      <td>0</td>\n",
       "      <td>1</td>\n",
       "    </tr>\n",
       "    <tr>\n",
       "      <th>3</th>\n",
       "      <td>7</td>\n",
       "      <td>1058851</td>\n",
       "      <td>1</td>\n",
       "      <td>1</td>\n",
       "    </tr>\n",
       "    <tr>\n",
       "      <th>4</th>\n",
       "      <td>8</td>\n",
       "      <td>2161930</td>\n",
       "      <td>1</td>\n",
       "      <td>1</td>\n",
       "    </tr>\n",
       "  </tbody>\n",
       "</table>\n",
       "</div>"
      ],
      "text/plain": [
       "   itemID_1  itemID_2  isDuplicate  generationMethod\n",
       "0         1   4112648            1                 1\n",
       "1         3   1991275            1                 1\n",
       "2         4   1223296            0                 1\n",
       "3         7   1058851            1                 1\n",
       "4         8   2161930            1                 1"
      ]
     },
     "execution_count": 7,
     "metadata": {},
     "output_type": "execute_result"
    }
   ],
   "source": [
    "item_pairs_train.head(5)"
   ]
  },
  {
   "cell_type": "code",
   "execution_count": 8,
   "metadata": {
    "collapsed": false
   },
   "outputs": [
    {
     "data": {
      "text/html": [
       "<!DOCTYPE html>\n",
       "\n",
       "<head>\n",
       "    <meta charset=\"UTF-8\">\n",
       "    <title>item pair: 4, 1223296</title>\n",
       "    <style>\n",
       "        \n",
       "        .item_info_container{\n",
       "            display:flex;\n",
       "        }\n",
       "        .item_info{\n",
       "            width: 50%;\n",
       "        }\n",
       "        .item_info\n",
       "    </style>\n",
       "</head>\n",
       "<body>\n",
       "<div class=\"item_info_container\">\n",
       "    <div class=\"item_info\">\n",
       "        <h1>itemID: 4</h1>\n",
       "        \n",
       "<h2>title</h2>\n",
       "iPhone 3gs 8gb\n",
       "<h2>description</h2>\n",
       "Телефон в хорошем состоянии, трещин и сколов нет, за все время менялся только аккумулятор(поэтому заряд держит хорошо), остальное все родное, в целом работает отлично! В комплекте кабель. Обмен не интересен. Лежит без дела, только продажа.\n",
       "<h2>categoryID</h2>\n",
       "84\n",
       "<h2>price</h2>\n",
       "3500.0\n",
       "<h2> locationID</h2>\n",
       "640650\n",
       "<h2> location </h2>\n",
       "<a href=\"https://maps.google.com/?q=56.239398,43.460458\">56.239398, 43.460458</a>\n",
       "<h2> metroID </h2>\n",
       "nan\n",
       "<h2> attrsJSON </h2>\n",
       "<dl>\n",
       "    \n",
       "    <dt>Вид телефона</dt> <dd>iPhone</dd>\n",
       "    \n",
       "</dl>\n",
       "\n",
       "    </div>\n",
       "    <div class=\"item_info\">\n",
       "        <h1>itemID: 1223296</h1>\n",
       "        \n",
       "<h2>title</h2>\n",
       "iPhone 3gs 32gb\n",
       "<h2>description</h2>\n",
       "В отличном состоянии, в комплекте зарядник и кабель. Без обмена.\n",
       "<h2>categoryID</h2>\n",
       "84\n",
       "<h2>price</h2>\n",
       "3500.0\n",
       "<h2> locationID</h2>\n",
       "640650\n",
       "<h2> location </h2>\n",
       "<a href=\"https://maps.google.com/?q=56.239398,43.460458\">56.239398, 43.460458</a>\n",
       "<h2> metroID </h2>\n",
       "nan\n",
       "<h2> attrsJSON </h2>\n",
       "<dl>\n",
       "    \n",
       "    <dt>Вид телефона</dt> <dd>iPhone</dd>\n",
       "    \n",
       "</dl>\n",
       "\n",
       "    </div>\n",
       "</div>\n",
       "</body>\n",
       "</html>"
      ],
      "text/plain": [
       "<IPython.core.display.HTML object>"
      ]
     },
     "execution_count": 8,
     "metadata": {},
     "output_type": "execute_result"
    }
   ],
   "source": [
    "show_item_pair(4, 1223296)"
   ]
  },
  {
   "cell_type": "markdown",
   "metadata": {},
   "source": [
    "# pair feature"
   ]
  },
  {
   "cell_type": "raw",
   "metadata": {},
   "source": [
    "item_info_train_values = item_info_train.values\n",
    "item_info_train.loc[3045157]\n",
    "item_info_train.iloc[1672306]\n",
    "item_info_train_values[1672306]"
   ]
  },
  {
   "cell_type": "code",
   "execution_count": 9,
   "metadata": {
    "collapsed": true
   },
   "outputs": [],
   "source": [
    "from data.pair_feature import *"
   ]
  },
  {
   "cell_type": "code",
   "execution_count": 12,
   "metadata": {
    "collapsed": false
   },
   "outputs": [
    {
     "data": {
      "text/plain": [
       "attrsJSON_item_jaccard    0.772156\n",
       "attrsJSON_key_jaccard     0.937737\n",
       "price_diff_ratio          0.153077\n",
       "same_categoryID           1.000000\n",
       "same_description          0.062473\n",
       "same_lat_lon              0.818989\n",
       "same_locationID           0.928745\n",
       "same_metroID              0.303359\n",
       "same_title                0.230323\n",
       "dtype: float64"
      ]
     },
     "execution_count": 12,
     "metadata": {},
     "output_type": "execute_result"
    }
   ],
   "source": [
    "simple_features_train.mean()"
   ]
  },
  {
   "cell_type": "code",
   "execution_count": 11,
   "metadata": {
    "collapsed": false
   },
   "outputs": [
    {
     "data": {
      "text/plain": [
       "attrsJSON_item_jaccard    0.790670\n",
       "attrsJSON_key_jaccard     0.938827\n",
       "price_diff_ratio          0.137276\n",
       "same_categoryID           1.000000\n",
       "same_description          0.072985\n",
       "same_lat_lon              0.831548\n",
       "same_locationID           0.897387\n",
       "same_metroID              0.246187\n",
       "same_title                0.250316\n",
       "dtype: float64"
      ]
     },
     "execution_count": 11,
     "metadata": {},
     "output_type": "execute_result"
    }
   ],
   "source": [
    "simple_features_test.mean()"
   ]
  },
  {
   "cell_type": "markdown",
   "metadata": {},
   "source": [
    "# pair exploration"
   ]
  },
  {
   "cell_type": "code",
   "execution_count": 13,
   "metadata": {
    "collapsed": false,
    "scrolled": false
   },
   "outputs": [
    {
     "data": {
      "text/plain": [
       "0    0.577362\n",
       "1    0.422638\n",
       "Name: isDuplicate, dtype: float64"
      ]
     },
     "execution_count": 13,
     "metadata": {},
     "output_type": "execute_result"
    }
   ],
   "source": [
    "item_pairs_train.isDuplicate.value_counts(normalize=True)"
   ]
  },
  {
   "cell_type": "raw",
   "metadata": {},
   "source": [
    "generationMethod – training data generation method. Different generation methods have different noise levels.\n",
    "1 = targets produced by humans when they consider only pair of ads.\n",
    "2 = targets produced by automatic algorithms.\n",
    "3 = targets produced by humans during analyses of all ads for the same owner."
   ]
  },
  {
   "cell_type": "code",
   "execution_count": 14,
   "metadata": {
    "collapsed": false
   },
   "outputs": [
    {
     "data": {
      "text/plain": [
       "1    0.682492\n",
       "3    0.270067\n",
       "2    0.047441\n",
       "Name: generationMethod, dtype: float64"
      ]
     },
     "execution_count": 14,
     "metadata": {},
     "output_type": "execute_result"
    }
   ],
   "source": [
    "item_pairs_train.generationMethod.value_counts(normalize=True)"
   ]
  },
  {
   "cell_type": "code",
   "execution_count": 15,
   "metadata": {
    "collapsed": false
   },
   "outputs": [
    {
     "data": {
      "text/plain": [
       "generationMethod\n",
       "1    0.508611\n",
       "2    1.000000\n",
       "3    0.103955\n",
       "Name: isDuplicate, dtype: float64"
      ]
     },
     "execution_count": 15,
     "metadata": {},
     "output_type": "execute_result"
    }
   ],
   "source": [
    "item_pairs_train.groupby('generationMethod')['isDuplicate'].mean()"
   ]
  },
  {
   "cell_type": "markdown",
   "metadata": {},
   "source": [
    "duplication ratio is quite diffent acrosss generationMethod"
   ]
  },
  {
   "cell_type": "code",
   "execution_count": 16,
   "metadata": {
    "collapsed": false
   },
   "outputs": [
    {
     "data": {
      "text/plain": [
       "True"
      ]
     },
     "execution_count": 16,
     "metadata": {},
     "output_type": "execute_result"
    }
   ],
   "source": [
    "(item_pairs_train.itemID_1 < item_pairs_train.itemID_2).all()"
   ]
  },
  {
   "cell_type": "code",
   "execution_count": 18,
   "metadata": {
    "collapsed": false
   },
   "outputs": [
    {
     "data": {
      "text/plain": [
       "True"
      ]
     },
     "execution_count": 18,
     "metadata": {},
     "output_type": "execute_result"
    }
   ],
   "source": [
    "(item_pairs_test.itemID_1 < item_pairs_test.itemID_2).all()"
   ]
  },
  {
   "cell_type": "markdown",
   "metadata": {},
   "source": [
    "itemID_1 < itemID_2"
   ]
  },
  {
   "cell_type": "code",
   "execution_count": 19,
   "metadata": {
    "collapsed": false
   },
   "outputs": [
    {
     "data": {
      "text/html": [
       "<div>\n",
       "<table border=\"1\" class=\"dataframe\">\n",
       "  <thead>\n",
       "    <tr style=\"text-align: right;\">\n",
       "      <th></th>\n",
       "      <th>itemID_1</th>\n",
       "      <th>itemID_2</th>\n",
       "      <th>isDuplicate</th>\n",
       "      <th>generationMethod</th>\n",
       "    </tr>\n",
       "  </thead>\n",
       "  <tbody>\n",
       "    <tr>\n",
       "      <th>0</th>\n",
       "      <td>1</td>\n",
       "      <td>4112648</td>\n",
       "      <td>1</td>\n",
       "      <td>1</td>\n",
       "    </tr>\n",
       "    <tr>\n",
       "      <th>1</th>\n",
       "      <td>3</td>\n",
       "      <td>1991275</td>\n",
       "      <td>1</td>\n",
       "      <td>1</td>\n",
       "    </tr>\n",
       "    <tr>\n",
       "      <th>2</th>\n",
       "      <td>4</td>\n",
       "      <td>1223296</td>\n",
       "      <td>0</td>\n",
       "      <td>1</td>\n",
       "    </tr>\n",
       "    <tr>\n",
       "      <th>3</th>\n",
       "      <td>7</td>\n",
       "      <td>1058851</td>\n",
       "      <td>1</td>\n",
       "      <td>1</td>\n",
       "    </tr>\n",
       "    <tr>\n",
       "      <th>4</th>\n",
       "      <td>8</td>\n",
       "      <td>2161930</td>\n",
       "      <td>1</td>\n",
       "      <td>1</td>\n",
       "    </tr>\n",
       "  </tbody>\n",
       "</table>\n",
       "</div>"
      ],
      "text/plain": [
       "   itemID_1  itemID_2  isDuplicate  generationMethod\n",
       "0         1   4112648            1                 1\n",
       "1         3   1991275            1                 1\n",
       "2         4   1223296            0                 1\n",
       "3         7   1058851            1                 1\n",
       "4         8   2161930            1                 1"
      ]
     },
     "execution_count": 19,
     "metadata": {},
     "output_type": "execute_result"
    }
   ],
   "source": [
    "item_pairs_train.head()"
   ]
  },
  {
   "cell_type": "code",
   "execution_count": 20,
   "metadata": {
    "collapsed": false
   },
   "outputs": [
    {
     "data": {
      "text/plain": [
       "1"
      ]
     },
     "execution_count": 20,
     "metadata": {},
     "output_type": "execute_result"
    }
   ],
   "source": [
    "item_pairs_train.groupby(['itemID_1', 'itemID_2'])['isDuplicate'].count().max()"
   ]
  },
  {
   "cell_type": "code",
   "execution_count": 21,
   "metadata": {
    "collapsed": false
   },
   "outputs": [
    {
     "data": {
      "text/plain": [
       "1"
      ]
     },
     "execution_count": 21,
     "metadata": {},
     "output_type": "execute_result"
    }
   ],
   "source": [
    "item_pairs_test.groupby(['itemID_1', 'itemID_2'])['itemID_1'].count().max()"
   ]
  },
  {
   "cell_type": "markdown",
   "metadata": {},
   "source": [
    "item pair is unique"
   ]
  },
  {
   "cell_type": "code",
   "execution_count": 22,
   "metadata": {
    "collapsed": false
   },
   "outputs": [
    {
     "name": "stdout",
     "output_type": "stream",
     "text": [
      "3344613\n"
     ]
    }
   ],
   "source": [
    "ids_train = set(item_pairs_train.itemID_1.tolist() + item_pairs_train.itemID_2.tolist())\n",
    "n_ids_train = len(ids_train)\n",
    "print(n_ids_train)"
   ]
  },
  {
   "cell_type": "code",
   "execution_count": 23,
   "metadata": {
    "collapsed": false
   },
   "outputs": [
    {
     "name": "stdout",
     "output_type": "stream",
     "text": [
      "2991396\n"
     ]
    },
    {
     "data": {
      "text/plain": [
       "5.348257232893055e-07"
      ]
     },
     "execution_count": 23,
     "metadata": {},
     "output_type": "execute_result"
    }
   ],
   "source": [
    "print(item_pairs_train.shape[0])\n",
    "item_pairs_train.shape[0] / ((n_ids_train**2 -n_ids_train)/2)"
   ]
  },
  {
   "cell_type": "code",
   "execution_count": 24,
   "metadata": {
    "collapsed": false
   },
   "outputs": [
    {
     "name": "stdout",
     "output_type": "stream",
     "text": [
      "1315205\n"
     ]
    }
   ],
   "source": [
    "ids_test = set(item_pairs_test.itemID_1.tolist() + item_pairs_test.itemID_2.tolist())\n",
    "n_ids_test = len(ids_test)\n",
    "print(n_ids_test)"
   ]
  },
  {
   "cell_type": "code",
   "execution_count": 25,
   "metadata": {
    "collapsed": false
   },
   "outputs": [
    {
     "name": "stdout",
     "output_type": "stream",
     "text": [
      "1044196\n"
     ]
    },
    {
     "data": {
      "text/plain": [
       "1.2073284887691106e-06"
      ]
     },
     "execution_count": 25,
     "metadata": {},
     "output_type": "execute_result"
    }
   ],
   "source": [
    "print(item_pairs_test.shape[0])\n",
    "item_pairs_test.shape[0] / ((n_ids_test**2 -n_ids_test)/2)"
   ]
  },
  {
   "cell_type": "markdown",
   "metadata": {},
   "source": [
    "* only tiny fraction is labelled\n",
    "* test pair is more than train"
   ]
  },
  {
   "cell_type": "code",
   "execution_count": 26,
   "metadata": {
    "collapsed": false
   },
   "outputs": [
    {
     "data": {
      "text/plain": [
       "set()"
      ]
     },
     "execution_count": 26,
     "metadata": {},
     "output_type": "execute_result"
    }
   ],
   "source": [
    "ids_train.intersection(ids_test)"
   ]
  },
  {
   "cell_type": "code",
   "execution_count": 27,
   "metadata": {
    "collapsed": false
   },
   "outputs": [
    {
     "data": {
      "text/plain": [
       "[1, 3, 4, 7, 8, 9, 12, 15, 16, 19, 20, 21, 22, 26, 28, 29, 32, 33, 35, 39]"
      ]
     },
     "execution_count": 27,
     "metadata": {},
     "output_type": "execute_result"
    }
   ],
   "source": [
    "sorted(ids_train)[:20]"
   ]
  },
  {
   "cell_type": "code",
   "execution_count": 28,
   "metadata": {
    "collapsed": false
   },
   "outputs": [
    {
     "data": {
      "text/plain": [
       "[5, 6, 11, 23, 30, 31, 36, 47, 48, 52]"
      ]
     },
     "execution_count": 28,
     "metadata": {},
     "output_type": "execute_result"
    }
   ],
   "source": [
    "sorted(ids_test)[:10]"
   ]
  },
  {
   "cell_type": "code",
   "execution_count": 29,
   "metadata": {
    "collapsed": false
   },
   "outputs": [
    {
     "data": {
      "text/plain": [
       "-1452185"
      ]
     },
     "execution_count": 29,
     "metadata": {},
     "output_type": "execute_result"
    }
   ],
   "source": [
    "len(ids_train) + len(ids_test) - max(max(ids_train), max(ids_test))"
   ]
  },
  {
   "cell_type": "markdown",
   "metadata": {},
   "source": [
    "* train, test id has no intersection\n",
    "* it's not complete as id"
   ]
  },
  {
   "cell_type": "markdown",
   "metadata": {},
   "source": [
    "# category"
   ]
  },
  {
   "cell_type": "code",
   "execution_count": 30,
   "metadata": {
    "collapsed": false
   },
   "outputs": [
    {
     "data": {
      "text/plain": [
       "6      9\n",
       "7      7\n",
       "4      7\n",
       "35     6\n",
       "2      6\n",
       "5      5\n",
       "1      5\n",
       "113    2\n",
       "110    2\n",
       "8      2\n",
       "Name: parentCategoryID, dtype: int64"
      ]
     },
     "execution_count": 30,
     "metadata": {},
     "output_type": "execute_result"
    }
   ],
   "source": [
    "category_parent.parentCategoryID.value_counts()"
   ]
  },
  {
   "cell_type": "code",
   "execution_count": null,
   "metadata": {
    "collapsed": true
   },
   "outputs": [],
   "source": [
    "import networkx as nx\n",
    "category_tree = nx.DiGraph()\n",
    "category_tree.add_edges_from(category_parent.to_records(index=False))\n",
    "from networkx.drawing.nx_agraph import graphviz_layout\n",
    "nx.draw(category_tree, graphviz_layout(category_tree),\n",
    "        node_size=400,\n",
    "        with_labels=True, arrows=True)"
   ]
  },
  {
   "cell_type": "markdown",
   "metadata": {},
   "source": [
    "# info"
   ]
  },
  {
   "cell_type": "code",
   "execution_count": 34,
   "metadata": {
    "collapsed": false
   },
   "outputs": [
    {
     "data": {
      "text/plain": [
       "True"
      ]
     },
     "execution_count": 34,
     "metadata": {},
     "output_type": "execute_result"
    }
   ],
   "source": [
    "set(item_info_train.index) == ids_train"
   ]
  },
  {
   "cell_type": "code",
   "execution_count": 35,
   "metadata": {
    "collapsed": false
   },
   "outputs": [
    {
     "data": {
      "text/plain": [
       "True"
      ]
     },
     "execution_count": 35,
     "metadata": {},
     "output_type": "execute_result"
    }
   ],
   "source": [
    "set(item_info_test.index) == ids_test"
   ]
  },
  {
   "cell_type": "markdown",
   "metadata": {},
   "source": [
    "data is consistent"
   ]
  },
  {
   "cell_type": "code",
   "execution_count": 36,
   "metadata": {
    "collapsed": false
   },
   "outputs": [
    {
     "data": {
      "text/html": [
       "<div>\n",
       "<table border=\"1\" class=\"dataframe\">\n",
       "  <thead>\n",
       "    <tr style=\"text-align: right;\">\n",
       "      <th></th>\n",
       "      <th>categoryID</th>\n",
       "      <th>title</th>\n",
       "      <th>description</th>\n",
       "      <th>images_array</th>\n",
       "      <th>attrsJSON</th>\n",
       "      <th>price</th>\n",
       "      <th>locationID</th>\n",
       "      <th>metroID</th>\n",
       "      <th>lat</th>\n",
       "      <th>lon</th>\n",
       "    </tr>\n",
       "    <tr>\n",
       "      <th>itemID</th>\n",
       "      <th></th>\n",
       "      <th></th>\n",
       "      <th></th>\n",
       "      <th></th>\n",
       "      <th></th>\n",
       "      <th></th>\n",
       "      <th></th>\n",
       "      <th></th>\n",
       "      <th></th>\n",
       "      <th></th>\n",
       "    </tr>\n",
       "  </thead>\n",
       "  <tbody>\n",
       "    <tr>\n",
       "      <th>1</th>\n",
       "      <td>81</td>\n",
       "      <td>Продам Камаз 6520</td>\n",
       "      <td>Продам Камаз 6520 20 тонн</td>\n",
       "      <td>[1064094, 5252822, 6645873, 6960145, 9230265]</td>\n",
       "      <td>{'Вид техники': 'Грузовики'}</td>\n",
       "      <td>300000.0</td>\n",
       "      <td>648140</td>\n",
       "      <td>NaN</td>\n",
       "      <td>64.686946</td>\n",
       "      <td>30.815924</td>\n",
       "    </tr>\n",
       "    <tr>\n",
       "      <th>3</th>\n",
       "      <td>14</td>\n",
       "      <td>Yamaha r6</td>\n",
       "      <td>Весь в тюнинге.</td>\n",
       "      <td>[11919573, 14412228, 3204180, 6646877]</td>\n",
       "      <td>{'Вид техники': 'Мотоциклы', 'Вид мотоцикла': ...</td>\n",
       "      <td>300000.0</td>\n",
       "      <td>639040</td>\n",
       "      <td>NaN</td>\n",
       "      <td>55.678037</td>\n",
       "      <td>37.256548</td>\n",
       "    </tr>\n",
       "    <tr>\n",
       "      <th>4</th>\n",
       "      <td>84</td>\n",
       "      <td>iPhone 3gs 8gb</td>\n",
       "      <td>Телефон в хорошем состоянии, трещин и сколов н...</td>\n",
       "      <td>[14384831, 6102021]</td>\n",
       "      <td>{'Вид телефона': 'iPhone'}</td>\n",
       "      <td>3500.0</td>\n",
       "      <td>640650</td>\n",
       "      <td>NaN</td>\n",
       "      <td>56.239398</td>\n",
       "      <td>43.460458</td>\n",
       "    </tr>\n",
       "    <tr>\n",
       "      <th>7</th>\n",
       "      <td>84</td>\n",
       "      <td>Xiaomi Mi4 3гб RAM + 16гб ROM белый</td>\n",
       "      <td>Отличный подарок на новый год от \"китайской ap...</td>\n",
       "      <td>[]</td>\n",
       "      <td>{'Вид телефона': 'Другие марки'}</td>\n",
       "      <td>13500.0</td>\n",
       "      <td>662210</td>\n",
       "      <td>NaN</td>\n",
       "      <td>55.777170</td>\n",
       "      <td>37.586194</td>\n",
       "    </tr>\n",
       "    <tr>\n",
       "      <th>8</th>\n",
       "      <td>39</td>\n",
       "      <td>Лыжные ботинки</td>\n",
       "      <td>Лыжные ботинки в хорошем состоянии, 34 размер</td>\n",
       "      <td>[13718854, 4787310]</td>\n",
       "      <td>{'Вид товара': 'Зимние виды спорта'}</td>\n",
       "      <td>500.0</td>\n",
       "      <td>624360</td>\n",
       "      <td>NaN</td>\n",
       "      <td>55.777170</td>\n",
       "      <td>37.586194</td>\n",
       "    </tr>\n",
       "  </tbody>\n",
       "</table>\n",
       "</div>"
      ],
      "text/plain": [
       "        categoryID                                title  \\\n",
       "itemID                                                    \n",
       "1               81                    Продам Камаз 6520   \n",
       "3               14                            Yamaha r6   \n",
       "4               84                       iPhone 3gs 8gb   \n",
       "7               84  Xiaomi Mi4 3гб RAM + 16гб ROM белый   \n",
       "8               39                       Лыжные ботинки   \n",
       "\n",
       "                                              description  \\\n",
       "itemID                                                      \n",
       "1                               Продам Камаз 6520 20 тонн   \n",
       "3                                         Весь в тюнинге.   \n",
       "4       Телефон в хорошем состоянии, трещин и сколов н...   \n",
       "7       Отличный подарок на новый год от \"китайской ap...   \n",
       "8           Лыжные ботинки в хорошем состоянии, 34 размер   \n",
       "\n",
       "                                         images_array  \\\n",
       "itemID                                                  \n",
       "1       [1064094, 5252822, 6645873, 6960145, 9230265]   \n",
       "3              [11919573, 14412228, 3204180, 6646877]   \n",
       "4                                 [14384831, 6102021]   \n",
       "7                                                  []   \n",
       "8                                 [13718854, 4787310]   \n",
       "\n",
       "                                                attrsJSON     price  \\\n",
       "itemID                                                                \n",
       "1                            {'Вид техники': 'Грузовики'}  300000.0   \n",
       "3       {'Вид техники': 'Мотоциклы', 'Вид мотоцикла': ...  300000.0   \n",
       "4                              {'Вид телефона': 'iPhone'}    3500.0   \n",
       "7                        {'Вид телефона': 'Другие марки'}   13500.0   \n",
       "8                    {'Вид товара': 'Зимние виды спорта'}     500.0   \n",
       "\n",
       "        locationID  metroID        lat        lon  \n",
       "itemID                                             \n",
       "1           648140      NaN  64.686946  30.815924  \n",
       "3           639040      NaN  55.678037  37.256548  \n",
       "4           640650      NaN  56.239398  43.460458  \n",
       "7           662210      NaN  55.777170  37.586194  \n",
       "8           624360      NaN  55.777170  37.586194  "
      ]
     },
     "execution_count": 36,
     "metadata": {},
     "output_type": "execute_result"
    }
   ],
   "source": [
    "item_info_train.head()"
   ]
  },
  {
   "cell_type": "code",
   "execution_count": 37,
   "metadata": {
    "collapsed": false
   },
   "outputs": [
    {
     "data": {
      "text/plain": [
       "3344613"
      ]
     },
     "execution_count": 37,
     "metadata": {},
     "output_type": "execute_result"
    }
   ],
   "source": [
    "item_info_train.shape[0]"
   ]
  },
  {
   "cell_type": "markdown",
   "metadata": {},
   "source": [
    "## missing value"
   ]
  },
  {
   "cell_type": "code",
   "execution_count": 38,
   "metadata": {
    "collapsed": false
   },
   "outputs": [
    {
     "data": {
      "text/plain": [
       "categoryID      0.000000e+00\n",
       "title           2.989883e-07\n",
       "description     3.139377e-05\n",
       "images_array    0.000000e+00\n",
       "attrsJSON       0.000000e+00\n",
       "price           9.631189e-02\n",
       "locationID      0.000000e+00\n",
       "metroID         6.708752e-01\n",
       "lat             0.000000e+00\n",
       "lon             0.000000e+00\n",
       "dtype: float64"
      ]
     },
     "execution_count": 38,
     "metadata": {},
     "output_type": "execute_result"
    }
   ],
   "source": [
    "item_info_train.isnull().mean()"
   ]
  },
  {
   "cell_type": "markdown",
   "metadata": {},
   "source": [
    "* categoryID, price, locationID, lat, lon is never missing\n",
    "* one title is missing\n",
    "* description has a tiny fraction missing\n",
    "* price, metroID has fair missing"
   ]
  },
  {
   "cell_type": "code",
   "execution_count": 39,
   "metadata": {
    "collapsed": false
   },
   "outputs": [
    {
     "data": {
      "text/html": [
       "<div>\n",
       "<table border=\"1\" class=\"dataframe\">\n",
       "  <thead>\n",
       "    <tr style=\"text-align: right;\">\n",
       "      <th></th>\n",
       "      <th>categoryID</th>\n",
       "      <th>title</th>\n",
       "      <th>description</th>\n",
       "      <th>images_array</th>\n",
       "      <th>attrsJSON</th>\n",
       "      <th>price</th>\n",
       "      <th>locationID</th>\n",
       "      <th>metroID</th>\n",
       "      <th>lat</th>\n",
       "      <th>lon</th>\n",
       "    </tr>\n",
       "    <tr>\n",
       "      <th>itemID</th>\n",
       "      <th></th>\n",
       "      <th></th>\n",
       "      <th></th>\n",
       "      <th></th>\n",
       "      <th></th>\n",
       "      <th></th>\n",
       "      <th></th>\n",
       "      <th></th>\n",
       "      <th></th>\n",
       "      <th></th>\n",
       "    </tr>\n",
       "  </thead>\n",
       "  <tbody>\n",
       "    <tr>\n",
       "      <th>3504881</th>\n",
       "      <td>90</td>\n",
       "      <td>NaN</td>\n",
       "      <td>NaN</td>\n",
       "      <td>[]</td>\n",
       "      <td>{'Порода': 'Шотландская'}</td>\n",
       "      <td>NaN</td>\n",
       "      <td>635320</td>\n",
       "      <td>NaN</td>\n",
       "      <td>56.008691</td>\n",
       "      <td>92.870529</td>\n",
       "    </tr>\n",
       "  </tbody>\n",
       "</table>\n",
       "</div>"
      ],
      "text/plain": [
       "         categoryID title description images_array                  attrsJSON  \\\n",
       "itemID                                                                          \n",
       "3504881          90   NaN         NaN           []  {'Порода': 'Шотландская'}   \n",
       "\n",
       "         price  locationID  metroID        lat        lon  \n",
       "itemID                                                     \n",
       "3504881    NaN      635320      NaN  56.008691  92.870529  "
      ]
     },
     "execution_count": 39,
     "metadata": {},
     "output_type": "execute_result"
    }
   ],
   "source": [
    "item_info_train[item_info_train.title.isnull()]"
   ]
  },
  {
   "cell_type": "markdown",
   "metadata": {},
   "source": [
    "item with null title"
   ]
  },
  {
   "cell_type": "code",
   "execution_count": 40,
   "metadata": {
    "collapsed": false,
    "scrolled": false
   },
   "outputs": [
    {
     "data": {
      "text/html": [
       "<div>\n",
       "<table border=\"1\" class=\"dataframe\">\n",
       "  <thead>\n",
       "    <tr style=\"text-align: right;\">\n",
       "      <th></th>\n",
       "      <th>categoryID</th>\n",
       "      <th>title</th>\n",
       "      <th>description</th>\n",
       "      <th>images_array</th>\n",
       "      <th>attrsJSON</th>\n",
       "      <th>price</th>\n",
       "      <th>locationID</th>\n",
       "      <th>metroID</th>\n",
       "      <th>lat</th>\n",
       "      <th>lon</th>\n",
       "    </tr>\n",
       "    <tr>\n",
       "      <th>itemID</th>\n",
       "      <th></th>\n",
       "      <th></th>\n",
       "      <th></th>\n",
       "      <th></th>\n",
       "      <th></th>\n",
       "      <th></th>\n",
       "      <th></th>\n",
       "      <th></th>\n",
       "      <th></th>\n",
       "      <th></th>\n",
       "    </tr>\n",
       "  </thead>\n",
       "  <tbody>\n",
       "    <tr>\n",
       "      <th>553</th>\n",
       "      <td>29</td>\n",
       "      <td>Джинсовая курточка 98р</td>\n",
       "      <td>NaN</td>\n",
       "      <td>[12702386]</td>\n",
       "      <td>{'Предмет одежды': 'Другое', 'Вид одежды': 'Дл...</td>\n",
       "      <td>300.0</td>\n",
       "      <td>653240</td>\n",
       "      <td>437.0</td>\n",
       "      <td>59.829328</td>\n",
       "      <td>30.375588</td>\n",
       "    </tr>\n",
       "    <tr>\n",
       "      <th>9638</th>\n",
       "      <td>19</td>\n",
       "      <td>Котёл на отработанном масле</td>\n",
       "      <td>NaN</td>\n",
       "      <td>[11183239, 254576, 4062573]</td>\n",
       "      <td>{'Вид товара': 'Камины и обогреватели'}</td>\n",
       "      <td>7000.0</td>\n",
       "      <td>640860</td>\n",
       "      <td>149.0</td>\n",
       "      <td>56.241596</td>\n",
       "      <td>43.860172</td>\n",
       "    </tr>\n",
       "    <tr>\n",
       "      <th>24724</th>\n",
       "      <td>27</td>\n",
       "      <td>DG</td>\n",
       "      <td>NaN</td>\n",
       "      <td>[8260717]</td>\n",
       "      <td>{'Предмет одежды': 'Обувь', 'Размер': '38', 'В...</td>\n",
       "      <td>NaN</td>\n",
       "      <td>630090</td>\n",
       "      <td>NaN</td>\n",
       "      <td>54.710303</td>\n",
       "      <td>20.510784</td>\n",
       "    </tr>\n",
       "    <tr>\n",
       "      <th>57639</th>\n",
       "      <td>97</td>\n",
       "      <td>USB Hard-Drive Transfer Kit Xbox 360</td>\n",
       "      <td>NaN</td>\n",
       "      <td>[6078535]</td>\n",
       "      <td>{'Вид товара': 'Игровые приставки'}</td>\n",
       "      <td>400.0</td>\n",
       "      <td>632490</td>\n",
       "      <td>NaN</td>\n",
       "      <td>57.767256</td>\n",
       "      <td>40.926984</td>\n",
       "    </tr>\n",
       "    <tr>\n",
       "      <th>240714</th>\n",
       "      <td>29</td>\n",
       "      <td>Брючки next 4-5л. 110см</td>\n",
       "      <td>NaN</td>\n",
       "      <td>[12532849, 4075481, 5460728]</td>\n",
       "      <td>{'Предмет одежды': 'Брюки', 'Размер': 'Без раз...</td>\n",
       "      <td>650.0</td>\n",
       "      <td>653240</td>\n",
       "      <td>437.0</td>\n",
       "      <td>59.829328</td>\n",
       "      <td>30.375588</td>\n",
       "    </tr>\n",
       "  </tbody>\n",
       "</table>\n",
       "</div>"
      ],
      "text/plain": [
       "        categoryID                                 title description  \\\n",
       "itemID                                                                 \n",
       "553             29                Джинсовая курточка 98р         NaN   \n",
       "9638            19           Котёл на отработанном масле         NaN   \n",
       "24724           27                                    DG         NaN   \n",
       "57639           97  USB Hard-Drive Transfer Kit Xbox 360         NaN   \n",
       "240714          29               Брючки next 4-5л. 110см         NaN   \n",
       "\n",
       "                        images_array  \\\n",
       "itemID                                 \n",
       "553                       [12702386]   \n",
       "9638     [11183239, 254576, 4062573]   \n",
       "24724                      [8260717]   \n",
       "57639                      [6078535]   \n",
       "240714  [12532849, 4075481, 5460728]   \n",
       "\n",
       "                                                attrsJSON   price  locationID  \\\n",
       "itemID                                                                          \n",
       "553     {'Предмет одежды': 'Другое', 'Вид одежды': 'Дл...   300.0      653240   \n",
       "9638              {'Вид товара': 'Камины и обогреватели'}  7000.0      640860   \n",
       "24724   {'Предмет одежды': 'Обувь', 'Размер': '38', 'В...     NaN      630090   \n",
       "57639                 {'Вид товара': 'Игровые приставки'}   400.0      632490   \n",
       "240714  {'Предмет одежды': 'Брюки', 'Размер': 'Без раз...   650.0      653240   \n",
       "\n",
       "        metroID        lat        lon  \n",
       "itemID                                 \n",
       "553       437.0  59.829328  30.375588  \n",
       "9638      149.0  56.241596  43.860172  \n",
       "24724       NaN  54.710303  20.510784  \n",
       "57639       NaN  57.767256  40.926984  \n",
       "240714    437.0  59.829328  30.375588  "
      ]
     },
     "execution_count": 40,
     "metadata": {},
     "output_type": "execute_result"
    }
   ],
   "source": [
    "item_info_train[item_info_train.description.isnull()].head()"
   ]
  },
  {
   "cell_type": "markdown",
   "metadata": {},
   "source": [
    "## frequent title"
   ]
  },
  {
   "cell_type": "code",
   "execution_count": 41,
   "metadata": {
    "collapsed": false
   },
   "outputs": [],
   "source": [
    "title_freq = item_info_train.title.value_counts(normalize=True)"
   ]
  },
  {
   "cell_type": "code",
   "execution_count": 42,
   "metadata": {
    "collapsed": false
   },
   "outputs": [
    {
     "data": {
      "text/plain": [
       "Ищу работу       0.005867\n",
       "Платье           0.003731\n",
       "Сниму комнату    0.001410\n",
       "Куртка           0.001141\n",
       "Водитель         0.001029\n",
       "Name: title, dtype: float64"
      ]
     },
     "execution_count": 42,
     "metadata": {},
     "output_type": "execute_result"
    }
   ],
   "source": [
    "title_freq.head()"
   ]
  },
  {
   "cell_type": "markdown",
   "metadata": {},
   "source": [
    "* Ищу работу: Looking for work\n",
    "* Платье: Dress\n",
    "* Сниму комнату: Renting a Room\n",
    "* Куртка: Jacket\n",
    "* Водитель: Driver"
   ]
  },
  {
   "cell_type": "code",
   "execution_count": 43,
   "metadata": {
    "collapsed": true
   },
   "outputs": [],
   "source": [
    "title_freq_high = title_freq[title_freq > 5e-4]"
   ]
  },
  {
   "cell_type": "code",
   "execution_count": 44,
   "metadata": {
    "collapsed": false
   },
   "outputs": [
    {
     "data": {
      "text/html": [
       "\n",
       "\n",
       "    <div class=\"plotdiv\" id=\"eced2996-7707-4595-9b7c-013a235e0b7d\"></div>\n",
       "<script type=\"text/javascript\">\n",
       "  \n",
       "  (function(global) {\n",
       "    function now() {\n",
       "      return new Date();\n",
       "    }\n",
       "  \n",
       "    if (typeof (window._bokeh_onload_callbacks) === \"undefined\") {\n",
       "      window._bokeh_onload_callbacks = [];\n",
       "    }\n",
       "  \n",
       "    function run_callbacks() {\n",
       "      window._bokeh_onload_callbacks.forEach(function(callback) { callback() });\n",
       "      delete window._bokeh_onload_callbacks\n",
       "      console.info(\"Bokeh: all callbacks have finished\");\n",
       "    }\n",
       "  \n",
       "    function load_libs(js_urls, callback) {\n",
       "      window._bokeh_onload_callbacks.push(callback);\n",
       "      if (window._bokeh_is_loading > 0) {\n",
       "        console.log(\"Bokeh: BokehJS is being loaded, scheduling callback at\", now());\n",
       "        return null;\n",
       "      }\n",
       "      if (js_urls == null || js_urls.length === 0) {\n",
       "        run_callbacks();\n",
       "        return null;\n",
       "      }\n",
       "      console.log(\"Bokeh: BokehJS not loaded, scheduling load and callback at\", now());\n",
       "      window._bokeh_is_loading = js_urls.length;\n",
       "      for (var i = 0; i < js_urls.length; i++) {\n",
       "        var url = js_urls[i];\n",
       "        var s = document.createElement('script');\n",
       "        s.src = url;\n",
       "        s.async = false;\n",
       "        s.onreadystatechange = s.onload = function() {\n",
       "          window._bokeh_is_loading--;\n",
       "          if (window._bokeh_is_loading === 0) {\n",
       "            console.log(\"Bokeh: all BokehJS libraries loaded\");\n",
       "            run_callbacks()\n",
       "          }\n",
       "        };\n",
       "        s.onerror = function() {\n",
       "          console.warn(\"failed to load library \" + url);\n",
       "        };\n",
       "        console.log(\"Bokeh: injecting script tag for BokehJS library: \", url);\n",
       "        document.getElementsByTagName(\"head\")[0].appendChild(s);\n",
       "      }\n",
       "    };var element = document.getElementById(\"eced2996-7707-4595-9b7c-013a235e0b7d\");\n",
       "    if (element == null) {\n",
       "      console.log(\"Bokeh: ERROR: autoload.js configured with elementid 'eced2996-7707-4595-9b7c-013a235e0b7d' but no matching script tag was found. \")\n",
       "      return false;\n",
       "    }\n",
       "  \n",
       "    var js_urls = [];\n",
       "  \n",
       "    var inline_js = [\n",
       "      function(Bokeh) {\n",
       "        Bokeh.$(function() {\n",
       "            var docs_json = {\"1fa7f464-ee25-4221-92ed-8e51619aa469\":{\"roots\":{\"references\":[{\"attributes\":{\"fill_alpha\":{\"field\":\"fill_alpha\"},\"fill_color\":{\"field\":\"color\"},\"height\":{\"field\":\"height\",\"units\":\"data\"},\"line_color\":{\"field\":\"line_color\"},\"width\":{\"field\":\"width\",\"units\":\"data\"},\"x\":{\"field\":\"x\"},\"y\":{\"field\":\"y\"}},\"id\":\"e1d138f3-da02-412a-87b0-544235db2e4d\",\"type\":\"Rect\"},{\"attributes\":{\"data_source\":{\"id\":\"d9e7b1f3-6293-4b22-916d-1fd110c7bb61\",\"type\":\"ColumnDataSource\"},\"glyph\":{\"id\":\"97ee6dc2-007a-4078-bee1-657ad2e479e7\",\"type\":\"Rect\"},\"hover_glyph\":null,\"nonselection_glyph\":null,\"selection_glyph\":null},\"id\":\"2d5ebdb4-7d34-4a85-8fcc-5f88399f3312\",\"type\":\"GlyphRenderer\"},{\"attributes\":{\"fill_alpha\":{\"field\":\"fill_alpha\"},\"fill_color\":{\"field\":\"color\"},\"height\":{\"field\":\"height\",\"units\":\"data\"},\"line_color\":{\"field\":\"line_color\"},\"width\":{\"field\":\"width\",\"units\":\"data\"},\"x\":{\"field\":\"x\"},\"y\":{\"field\":\"y\"}},\"id\":\"5a895207-62f1-4116-8642-b5f75146ced1\",\"type\":\"Rect\"},{\"attributes\":{\"callback\":null,\"column_names\":[\"color\",\"line_alpha\",\"fill_alpha\",\"y\",\"x\",\"height\",\"line_color\",\"width\"],\"data\":{\"chart_index\":[{\"index\":\"iPhone 5\"}],\"color\":[\"#f22c40\"],\"fill_alpha\":[0.8],\"height\":[0.0008521165228981649],\"index\":[\"iPhone 5\"],\"line_alpha\":[1.0],\"line_color\":[\"white\"],\"width\":[0.8],\"x\":[\"iPhone 5\"],\"y\":[0.00042605826144908243]}},\"id\":\"f3713ddb-7cf1-4b34-8890-9a10d445ee4f\",\"type\":\"ColumnDataSource\"},{\"attributes\":{\"callback\":null,\"column_names\":[\"color\",\"line_alpha\",\"fill_alpha\",\"y\",\"x\",\"height\",\"line_color\",\"width\"],\"data\":{\"chart_index\":[{\"index\":\"\\u0421\\u043d\\u0438\\u043c\\u0443 \\u043a\\u043e\\u043c\\u043d\\u0430\\u0442\\u0443\"}],\"color\":[\"#f22c40\"],\"fill_alpha\":[0.8],\"height\":[0.001410327592459875],\"index\":[\"\\u0421\\u043d\\u0438\\u043c\\u0443 \\u043a\\u043e\\u043c\\u043d\\u0430\\u0442\\u0443\"],\"line_alpha\":[1.0],\"line_color\":[\"white\"],\"width\":[0.8],\"x\":[\"\\u0421\\u043d\\u0438\\u043c\\u0443 \\u043a\\u043e\\u043c\\u043d\\u0430\\u0442\\u0443\"],\"y\":[0.0007051637962299375]}},\"id\":\"e9da7d50-5a3d-4cdc-b515-971a52ad6dda\",\"type\":\"ColumnDataSource\"},{\"attributes\":{\"fill_alpha\":{\"field\":\"fill_alpha\"},\"fill_color\":{\"field\":\"color\"},\"height\":{\"field\":\"height\",\"units\":\"data\"},\"line_color\":{\"field\":\"line_color\"},\"width\":{\"field\":\"width\",\"units\":\"data\"},\"x\":{\"field\":\"x\"},\"y\":{\"field\":\"y\"}},\"id\":\"a5e8262d-477e-4b20-96bf-c978176e8b7d\",\"type\":\"Rect\"},{\"attributes\":{},\"id\":\"acb26803-3508-493f-bb4f-6200bf1d183c\",\"type\":\"BasicTicker\"},{\"attributes\":{\"callback\":null,\"column_names\":[\"color\",\"line_alpha\",\"fill_alpha\",\"y\",\"x\",\"height\",\"line_color\",\"width\"],\"data\":{\"chart_index\":[{\"index\":\"\\u0422\\u0443\\u0444\\u043b\\u0438\"}],\"color\":[\"#f22c40\"],\"fill_alpha\":[0.8],\"height\":[0.0008616841470149162],\"index\":[\"\\u0422\\u0443\\u0444\\u043b\\u0438\"],\"line_alpha\":[1.0],\"line_color\":[\"white\"],\"width\":[0.8],\"x\":[\"\\u0422\\u0443\\u0444\\u043b\\u0438\"],\"y\":[0.0004308420735074581]}},\"id\":\"4d7a4330-a4ba-4057-9afc-4e4322e058f1\",\"type\":\"ColumnDataSource\"},{\"attributes\":{\"callback\":null,\"column_names\":[\"color\",\"line_alpha\",\"fill_alpha\",\"y\",\"x\",\"height\",\"line_color\",\"width\"],\"data\":{\"chart_index\":[{\"index\":\"iPhone 5s\"}],\"color\":[\"#f22c40\"],\"fill_alpha\":[0.8],\"height\":[0.0007773694594860452],\"index\":[\"iPhone 5s\"],\"line_alpha\":[1.0],\"line_color\":[\"white\"],\"width\":[0.8],\"x\":[\"iPhone 5s\"],\"y\":[0.0003886847297430226]}},\"id\":\"acd9bb67-b1cc-48c1-8574-07f3b309a395\",\"type\":\"ColumnDataSource\"},{\"attributes\":{\"data_source\":{\"id\":\"e9da7d50-5a3d-4cdc-b515-971a52ad6dda\",\"type\":\"ColumnDataSource\"},\"glyph\":{\"id\":\"a0193667-88fa-4737-8024-158275a144ac\",\"type\":\"Rect\"},\"hover_glyph\":null,\"nonselection_glyph\":null,\"selection_glyph\":null},\"id\":\"bfeea203-fab9-4f63-be18-acffc25dcd83\",\"type\":\"GlyphRenderer\"},{\"attributes\":{\"callback\":null,\"column_names\":[\"color\",\"line_alpha\",\"fill_alpha\",\"y\",\"x\",\"height\",\"line_color\",\"width\"],\"data\":{\"chart_index\":[{\"index\":\"\\u0418\\u0449\\u0443 \\u0440\\u0430\\u0431\\u043e\\u0442\\u0443\"}],\"color\":[\"#f22c40\"],\"fill_alpha\":[0.8],\"height\":[0.0058670465013441015],\"index\":[\"\\u0418\\u0449\\u0443 \\u0440\\u0430\\u0431\\u043e\\u0442\\u0443\"],\"line_alpha\":[1.0],\"line_color\":[\"white\"],\"width\":[0.8],\"x\":[\"\\u0418\\u0449\\u0443 \\u0440\\u0430\\u0431\\u043e\\u0442\\u0443\"],\"y\":[0.0029335232506720508]}},\"id\":\"37009dff-cb12-4b80-8bf1-47933d15e3e4\",\"type\":\"ColumnDataSource\"},{\"attributes\":{\"callback\":null,\"column_names\":[\"color\",\"line_alpha\",\"fill_alpha\",\"y\",\"x\",\"height\",\"line_color\",\"width\"],\"data\":{\"chart_index\":[{\"index\":\"Renault Logan, 2015\"}],\"color\":[\"#f22c40\"],\"fill_alpha\":[0.8],\"height\":[0.0006840851243477198],\"index\":[\"Renault Logan, 2015\"],\"line_alpha\":[1.0],\"line_color\":[\"white\"],\"width\":[0.8],\"x\":[\"Renault Logan, 2015\"],\"y\":[0.0003420425621738599]}},\"id\":\"76453764-6c1e-477f-8b90-768d411571a3\",\"type\":\"ColumnDataSource\"},{\"attributes\":{\"fill_alpha\":{\"field\":\"fill_alpha\"},\"fill_color\":{\"field\":\"color\"},\"height\":{\"field\":\"height\",\"units\":\"data\"},\"line_color\":{\"field\":\"line_color\"},\"width\":{\"field\":\"width\",\"units\":\"data\"},\"x\":{\"field\":\"x\"},\"y\":{\"field\":\"y\"}},\"id\":\"27caa896-e6c3-450d-b300-e69b809e87d2\",\"type\":\"Rect\"},{\"attributes\":{},\"id\":\"7700b011-2bcf-4c85-804c-bf6c0c4fb936\",\"type\":\"BasicTickFormatter\"},{\"attributes\":{\"fill_alpha\":{\"field\":\"fill_alpha\"},\"fill_color\":{\"field\":\"color\"},\"height\":{\"field\":\"height\",\"units\":\"data\"},\"line_color\":{\"field\":\"line_color\"},\"width\":{\"field\":\"width\",\"units\":\"data\"},\"x\":{\"field\":\"x\"},\"y\":{\"field\":\"y\"}},\"id\":\"44b6a4cf-9a82-4d69-96fa-e03cadfc79d8\",\"type\":\"Rect\"},{\"attributes\":{\"data_source\":{\"id\":\"612009ff-c391-43d7-b8f5-948cf9e013dc\",\"type\":\"ColumnDataSource\"},\"glyph\":{\"id\":\"19f8a423-8722-4210-add0-5fe0d7196d17\",\"type\":\"Rect\"},\"hover_glyph\":null,\"nonselection_glyph\":null,\"selection_glyph\":null},\"id\":\"53e4a199-4118-4959-914a-ae6a49f13135\",\"type\":\"GlyphRenderer\"},{\"attributes\":{\"callback\":null,\"column_names\":[\"color\",\"line_alpha\",\"fill_alpha\",\"y\",\"x\",\"height\",\"line_color\",\"width\"],\"data\":{\"chart_index\":[{\"index\":\"\\u041a\\u043e\\u043b\\u0435\\u0441\\u0430\"}],\"color\":[\"#f22c40\"],\"fill_alpha\":[0.8],\"height\":[0.0007468726576139003],\"index\":[\"\\u041a\\u043e\\u043b\\u0435\\u0441\\u0430\"],\"line_alpha\":[1.0],\"line_color\":[\"white\"],\"width\":[0.8],\"x\":[\"\\u041a\\u043e\\u043b\\u0435\\u0441\\u0430\"],\"y\":[0.00037343632880695014]}},\"id\":\"c211221b-0606-4732-9a4d-47abe86d4e82\",\"type\":\"ColumnDataSource\"},{\"attributes\":{\"data_source\":{\"id\":\"1c0316f1-e80a-43f0-9bfc-ca7aa1378a4b\",\"type\":\"ColumnDataSource\"},\"glyph\":{\"id\":\"fe503305-51eb-4fd9-b03c-61b7db8ffe48\",\"type\":\"Rect\"},\"hover_glyph\":null,\"nonselection_glyph\":null,\"selection_glyph\":null},\"id\":\"2f934793-bd40-4826-97ef-5b0ed05ddee4\",\"type\":\"GlyphRenderer\"},{\"attributes\":{\"data_source\":{\"id\":\"2c6fd146-3b0a-4ef6-86e5-35817aff112f\",\"type\":\"ColumnDataSource\"},\"glyph\":{\"id\":\"3705fe1c-9797-46fa-a58a-c2aae55f0d30\",\"type\":\"Rect\"},\"hover_glyph\":null,\"nonselection_glyph\":null,\"selection_glyph\":null},\"id\":\"c7800afe-0088-48a6-b5ef-2bcdcd98cc58\",\"type\":\"GlyphRenderer\"},{\"attributes\":{\"data_source\":{\"id\":\"2605771e-e645-4401-aa03-f43f76af26d7\",\"type\":\"ColumnDataSource\"},\"glyph\":{\"id\":\"d981fc59-b6db-4b2c-ab29-8bd3e26f951f\",\"type\":\"Rect\"},\"hover_glyph\":null,\"nonselection_glyph\":null,\"selection_glyph\":null},\"id\":\"179f94b5-7d11-4272-94b0-fe2db349a91f\",\"type\":\"GlyphRenderer\"},{\"attributes\":{\"data_source\":{\"id\":\"c211221b-0606-4732-9a4d-47abe86d4e82\",\"type\":\"ColumnDataSource\"},\"glyph\":{\"id\":\"52d8630b-3f7f-44ac-ab99-95d805011025\",\"type\":\"Rect\"},\"hover_glyph\":null,\"nonselection_glyph\":null,\"selection_glyph\":null},\"id\":\"04e4a26f-0a9d-43cd-bd36-e1f6b54dd9d5\",\"type\":\"GlyphRenderer\"},{\"attributes\":{\"callback\":null,\"column_names\":[\"color\",\"line_alpha\",\"fill_alpha\",\"y\",\"x\",\"height\",\"line_color\",\"width\"],\"data\":{\"chart_index\":[{\"index\":\"\\u0421\\u0432\\u0430\\u0434\\u0435\\u0431\\u043d\\u043e\\u0435 \\u043f\\u043b\\u0430\\u0442\\u044c\\u0435\"}],\"color\":[\"#f22c40\"],\"fill_alpha\":[0.8],\"height\":[0.0005617989286054918],\"index\":[\"\\u0421\\u0432\\u0430\\u0434\\u0435\\u0431\\u043d\\u043e\\u0435 \\u043f\\u043b\\u0430\\u0442\\u044c\\u0435\"],\"line_alpha\":[1.0],\"line_color\":[\"white\"],\"width\":[0.8],\"x\":[\"\\u0421\\u0432\\u0430\\u0434\\u0435\\u0431\\u043d\\u043e\\u0435 \\u043f\\u043b\\u0430\\u0442\\u044c\\u0435\"],\"y\":[0.0002808994643027459]}},\"id\":\"7379df5d-3b67-47c4-bdd1-dabd4985ae95\",\"type\":\"ColumnDataSource\"},{\"attributes\":{\"fill_alpha\":{\"field\":\"fill_alpha\"},\"fill_color\":{\"field\":\"color\"},\"height\":{\"field\":\"height\",\"units\":\"data\"},\"line_color\":{\"field\":\"line_color\"},\"width\":{\"field\":\"width\",\"units\":\"data\"},\"x\":{\"field\":\"x\"},\"y\":{\"field\":\"y\"}},\"id\":\"68f6cb7a-6654-42ec-a867-a61aa692657f\",\"type\":\"Rect\"},{\"attributes\":{\"data_source\":{\"id\":\"a6a66fb7-168f-4112-8dc7-c9a2853179b6\",\"type\":\"ColumnDataSource\"},\"glyph\":{\"id\":\"afa7f169-eec2-46b0-bd01-39c1583cea3e\",\"type\":\"Rect\"},\"hover_glyph\":null,\"nonselection_glyph\":null,\"selection_glyph\":null},\"id\":\"6de042f2-823a-4a1b-97ca-653580f29cf6\",\"type\":\"GlyphRenderer\"},{\"attributes\":{\"plot\":{\"id\":\"9d37cd6a-1308-4115-aac9-6e0be3c5d1fd\",\"subtype\":\"Chart\",\"type\":\"Plot\"}},\"id\":\"69daa7f5-a1ec-455a-a6e6-291b04494811\",\"type\":\"HelpTool\"},{\"attributes\":{\"callback\":null,\"end\":0.006160398826411307},\"id\":\"184af49b-11e8-49c3-93a8-bcad96505575\",\"type\":\"Range1d\"},{\"attributes\":{\"axis_label\":\"Sum( Title )\",\"formatter\":{\"id\":\"7700b011-2bcf-4c85-804c-bf6c0c4fb936\",\"type\":\"BasicTickFormatter\"},\"plot\":{\"id\":\"9d37cd6a-1308-4115-aac9-6e0be3c5d1fd\",\"subtype\":\"Chart\",\"type\":\"Plot\"},\"ticker\":{\"id\":\"acb26803-3508-493f-bb4f-6200bf1d183c\",\"type\":\"BasicTicker\"}},\"id\":\"a14f6707-4a32-4cd0-abd7-6a0b71d1d533\",\"type\":\"LinearAxis\"},{\"attributes\":{\"data_source\":{\"id\":\"fe5b599c-742c-4d88-85c9-de63300c4145\",\"type\":\"ColumnDataSource\"},\"glyph\":{\"id\":\"46dec70f-1ac2-4c1a-b16d-193a0e87458d\",\"type\":\"Rect\"},\"hover_glyph\":null,\"nonselection_glyph\":null,\"selection_glyph\":null},\"id\":\"1310404c-94ef-4ab7-9c79-d32c4316340e\",\"type\":\"GlyphRenderer\"},{\"attributes\":{\"data_source\":{\"id\":\"7379df5d-3b67-47c4-bdd1-dabd4985ae95\",\"type\":\"ColumnDataSource\"},\"glyph\":{\"id\":\"3158b59d-1383-4ff7-ba99-ac46b0a72338\",\"type\":\"Rect\"},\"hover_glyph\":null,\"nonselection_glyph\":null,\"selection_glyph\":null},\"id\":\"caf6db14-ad78-4364-94bc-6bb3e24c3ae5\",\"type\":\"GlyphRenderer\"},{\"attributes\":{\"plot\":{\"id\":\"9d37cd6a-1308-4115-aac9-6e0be3c5d1fd\",\"subtype\":\"Chart\",\"type\":\"Plot\"}},\"id\":\"9ae37a1f-32db-4ed5-bfaf-4b3efd033289\",\"type\":\"WheelZoomTool\"},{\"attributes\":{\"fill_alpha\":{\"field\":\"fill_alpha\"},\"fill_color\":{\"field\":\"color\"},\"height\":{\"field\":\"height\",\"units\":\"data\"},\"line_color\":{\"field\":\"line_color\"},\"width\":{\"field\":\"width\",\"units\":\"data\"},\"x\":{\"field\":\"x\"},\"y\":{\"field\":\"y\"}},\"id\":\"7c4a889e-d838-4bae-9d66-abf54ea1802c\",\"type\":\"Rect\"},{\"attributes\":{\"overlay\":{\"id\":\"a7d47e4d-6cf0-4add-9387-f4d968baf05a\",\"type\":\"BoxAnnotation\"},\"plot\":{\"id\":\"9d37cd6a-1308-4115-aac9-6e0be3c5d1fd\",\"subtype\":\"Chart\",\"type\":\"Plot\"}},\"id\":\"f6a185ab-d364-4be0-a7bd-6d40f0c0d686\",\"type\":\"BoxZoomTool\"},{\"attributes\":{\"data_source\":{\"id\":\"4d7a4330-a4ba-4057-9afc-4e4322e058f1\",\"type\":\"ColumnDataSource\"},\"glyph\":{\"id\":\"32cbf471-577c-4ab5-a40f-0dc309c466e7\",\"type\":\"Rect\"},\"hover_glyph\":null,\"nonselection_glyph\":null,\"selection_glyph\":null},\"id\":\"23ff04cc-9517-49f6-bbc3-e88dd67d124a\",\"type\":\"GlyphRenderer\"},{\"attributes\":{\"data_source\":{\"id\":\"c5e5ece7-1c15-41f9-98cf-a55a3e4cb775\",\"type\":\"ColumnDataSource\"},\"glyph\":{\"id\":\"12655b6a-627a-47b0-99a2-70dfc3508d7c\",\"type\":\"Rect\"},\"hover_glyph\":null,\"nonselection_glyph\":null,\"selection_glyph\":null},\"id\":\"47773345-6c7f-4da8-b112-892bfd76c10b\",\"type\":\"GlyphRenderer\"},{\"attributes\":{\"fill_alpha\":{\"field\":\"fill_alpha\"},\"fill_color\":{\"field\":\"color\"},\"height\":{\"field\":\"height\",\"units\":\"data\"},\"line_color\":{\"field\":\"line_color\"},\"width\":{\"field\":\"width\",\"units\":\"data\"},\"x\":{\"field\":\"x\"},\"y\":{\"field\":\"y\"}},\"id\":\"782449f2-392c-441b-b8be-a32f60621dce\",\"type\":\"Rect\"},{\"attributes\":{\"fill_alpha\":{\"field\":\"fill_alpha\"},\"fill_color\":{\"field\":\"color\"},\"height\":{\"field\":\"height\",\"units\":\"data\"},\"line_color\":{\"field\":\"line_color\"},\"width\":{\"field\":\"width\",\"units\":\"data\"},\"x\":{\"field\":\"x\"},\"y\":{\"field\":\"y\"}},\"id\":\"6cb67a86-2132-4173-b527-3bee0f5a42ca\",\"type\":\"Rect\"},{\"attributes\":{\"callback\":null,\"column_names\":[\"color\",\"line_alpha\",\"fill_alpha\",\"y\",\"x\",\"height\",\"line_color\",\"width\"],\"data\":{\"chart_index\":[{\"index\":\"LADA Priora, 2011\"}],\"color\":[\"#f22c40\"],\"fill_alpha\":[0.8],\"height\":[0.0007310262801705309],\"index\":[\"LADA Priora, 2011\"],\"line_alpha\":[1.0],\"line_color\":[\"white\"],\"width\":[0.8],\"x\":[\"LADA Priora, 2011\"],\"y\":[0.00036551314008526547]}},\"id\":\"7b5a7d70-2a78-4b4e-a7bc-3d5a1475068d\",\"type\":\"ColumnDataSource\"},{\"attributes\":{\"fill_alpha\":{\"field\":\"fill_alpha\"},\"fill_color\":{\"field\":\"color\"},\"height\":{\"field\":\"height\",\"units\":\"data\"},\"line_color\":{\"field\":\"line_color\"},\"width\":{\"field\":\"width\",\"units\":\"data\"},\"x\":{\"field\":\"x\"},\"y\":{\"field\":\"y\"}},\"id\":\"a56cb25a-a0f7-4f90-bbf3-024bba03cf9d\",\"type\":\"Rect\"},{\"attributes\":{\"callback\":null,\"column_names\":[\"color\",\"line_alpha\",\"fill_alpha\",\"y\",\"x\",\"height\",\"line_color\",\"width\"],\"data\":{\"chart_index\":[{\"index\":\"iPhone 4s\"}],\"color\":[\"#f22c40\"],\"fill_alpha\":[0.8],\"height\":[0.000539374809581856],\"index\":[\"iPhone 4s\"],\"line_alpha\":[1.0],\"line_color\":[\"white\"],\"width\":[0.8],\"x\":[\"iPhone 4s\"],\"y\":[0.000269687404790928]}},\"id\":\"2c6fd146-3b0a-4ef6-86e5-35817aff112f\",\"type\":\"ColumnDataSource\"},{\"attributes\":{\"fill_alpha\":{\"field\":\"fill_alpha\"},\"fill_color\":{\"field\":\"color\"},\"height\":{\"field\":\"height\",\"units\":\"data\"},\"line_color\":{\"field\":\"line_color\"},\"width\":{\"field\":\"width\",\"units\":\"data\"},\"x\":{\"field\":\"x\"},\"y\":{\"field\":\"y\"}},\"id\":\"5c3daad9-63ac-4a12-9c68-6826054d532e\",\"type\":\"Rect\"},{\"attributes\":{\"callback\":null,\"column_names\":[\"color\",\"line_alpha\",\"fill_alpha\",\"y\",\"x\",\"height\",\"line_color\",\"width\"],\"data\":{\"chart_index\":[{\"index\":\"\\u0423\\u0447\\u0430\\u0441\\u0442\\u043e\\u043a 10 \\u0441\\u043e\\u0442. (\\u0418\\u0416\\u0421)\"}],\"color\":[\"#f22c40\"],\"fill_alpha\":[0.8],\"height\":[0.0007208606795464827],\"index\":[\"\\u0423\\u0447\\u0430\\u0441\\u0442\\u043e\\u043a 10 \\u0441\\u043e\\u0442. (\\u0418\\u0416\\u0421)\"],\"line_alpha\":[1.0],\"line_color\":[\"white\"],\"width\":[0.8],\"x\":[\"\\u0423\\u0447\\u0430\\u0441\\u0442\\u043e\\u043a 10 \\u0441\\u043e\\u0442. (\\u0418\\u0416\\u0421)\"],\"y\":[0.00036043033977324135]}},\"id\":\"9f4cdc53-a209-49af-87cc-323fb80817b3\",\"type\":\"ColumnDataSource\"},{\"attributes\":{\"data_source\":{\"id\":\"7b5a7d70-2a78-4b4e-a7bc-3d5a1475068d\",\"type\":\"ColumnDataSource\"},\"glyph\":{\"id\":\"27caa896-e6c3-450d-b300-e69b809e87d2\",\"type\":\"Rect\"},\"hover_glyph\":null,\"nonselection_glyph\":null,\"selection_glyph\":null},\"id\":\"ba562921-4f48-4608-a7cb-d160f9f722e0\",\"type\":\"GlyphRenderer\"},{\"attributes\":{\"data_source\":{\"id\":\"5fb5458c-71b4-4fcd-a7db-204002c9c21f\",\"type\":\"ColumnDataSource\"},\"glyph\":{\"id\":\"cb95f14c-81ce-4414-a7a3-d1efca7f0cc7\",\"type\":\"Rect\"},\"hover_glyph\":null,\"nonselection_glyph\":null,\"selection_glyph\":null},\"id\":\"eb3afbc3-3bd5-4816-a131-cf96cac9fd84\",\"type\":\"GlyphRenderer\"},{\"attributes\":{\"fill_alpha\":{\"field\":\"fill_alpha\"},\"fill_color\":{\"field\":\"color\"},\"height\":{\"field\":\"height\",\"units\":\"data\"},\"line_color\":{\"field\":\"line_color\"},\"width\":{\"field\":\"width\",\"units\":\"data\"},\"x\":{\"field\":\"x\"},\"y\":{\"field\":\"y\"}},\"id\":\"3158b59d-1383-4ff7-ba99-ac46b0a72338\",\"type\":\"Rect\"},{\"attributes\":{\"data_source\":{\"id\":\"c6289478-9683-462e-9082-cc1cbe0667ad\",\"type\":\"ColumnDataSource\"},\"glyph\":{\"id\":\"ad82a7e9-c208-4b37-adf7-a90b42e7a84d\",\"type\":\"Rect\"},\"hover_glyph\":null,\"nonselection_glyph\":null,\"selection_glyph\":null},\"id\":\"85fefdaf-d35a-44a9-a342-c8c3a3cccb33\",\"type\":\"GlyphRenderer\"},{\"attributes\":{\"data_source\":{\"id\":\"8e8a25e5-a4ef-4a67-8e2a-f5ae7a7b7a71\",\"type\":\"ColumnDataSource\"},\"glyph\":{\"id\":\"e1d138f3-da02-412a-87b0-544235db2e4d\",\"type\":\"Rect\"},\"hover_glyph\":null,\"nonselection_glyph\":null,\"selection_glyph\":null},\"id\":\"aebbae0c-a911-4f5f-a7b8-b1d8d2b12078\",\"type\":\"GlyphRenderer\"},{\"attributes\":{\"data_source\":{\"id\":\"f3713ddb-7cf1-4b34-8890-9a10d445ee4f\",\"type\":\"ColumnDataSource\"},\"glyph\":{\"id\":\"8347dfa3-cd30-4f04-aea2-17c037805aca\",\"type\":\"Rect\"},\"hover_glyph\":null,\"nonselection_glyph\":null,\"selection_glyph\":null},\"id\":\"2cbb1704-ad39-47da-a11f-167c9f02c4c8\",\"type\":\"GlyphRenderer\"},{\"attributes\":{\"data_source\":{\"id\":\"fa4d0c7b-6704-4e2c-88ec-508840f93e4b\",\"type\":\"ColumnDataSource\"},\"glyph\":{\"id\":\"44b6a4cf-9a82-4d69-96fa-e03cadfc79d8\",\"type\":\"Rect\"},\"hover_glyph\":null,\"nonselection_glyph\":null,\"selection_glyph\":null},\"id\":\"f25553ec-8a69-4fd2-97e7-dd9b6590f953\",\"type\":\"GlyphRenderer\"},{\"attributes\":{\"data_source\":{\"id\":\"8fc7ea0e-3e0a-40a7-be36-c5072278f594\",\"type\":\"ColumnDataSource\"},\"glyph\":{\"id\":\"7c4a889e-d838-4bae-9d66-abf54ea1802c\",\"type\":\"Rect\"},\"hover_glyph\":null,\"nonselection_glyph\":null,\"selection_glyph\":null},\"id\":\"837c29b2-7460-48dd-a793-39eb90ec05b2\",\"type\":\"GlyphRenderer\"},{\"attributes\":{\"fill_alpha\":{\"field\":\"fill_alpha\"},\"fill_color\":{\"field\":\"color\"},\"height\":{\"field\":\"height\",\"units\":\"data\"},\"line_color\":{\"field\":\"line_color\"},\"width\":{\"field\":\"width\",\"units\":\"data\"},\"x\":{\"field\":\"x\"},\"y\":{\"field\":\"y\"}},\"id\":\"a4902767-c717-42b6-838f-d5234ab14995\",\"type\":\"Rect\"},{\"attributes\":{\"callback\":null,\"column_names\":[\"color\",\"line_alpha\",\"fill_alpha\",\"y\",\"x\",\"height\",\"line_color\",\"width\"],\"data\":{\"chart_index\":[{\"index\":\"LADA Priora, 2015\"}],\"color\":[\"#f22c40\"],\"fill_alpha\":[0.8],\"height\":[0.0006553822519974658],\"index\":[\"LADA Priora, 2015\"],\"line_alpha\":[1.0],\"line_color\":[\"white\"],\"width\":[0.8],\"x\":[\"LADA Priora, 2015\"],\"y\":[0.0003276911259987329]}},\"id\":\"1c0316f1-e80a-43f0-9bfc-ca7aa1378a4b\",\"type\":\"ColumnDataSource\"},{\"attributes\":{\"data_source\":{\"id\":\"c9862847-65d0-45f0-a637-33d62a76a162\",\"type\":\"ColumnDataSource\"},\"glyph\":{\"id\":\"a5e8262d-477e-4b20-96bf-c978176e8b7d\",\"type\":\"Rect\"},\"hover_glyph\":null,\"nonselection_glyph\":null,\"selection_glyph\":null},\"id\":\"a18ae3af-66eb-4cfb-9212-36e62044dc4a\",\"type\":\"GlyphRenderer\"},{\"attributes\":{\"data_source\":{\"id\":\"9f4cdc53-a209-49af-87cc-323fb80817b3\",\"type\":\"ColumnDataSource\"},\"glyph\":{\"id\":\"782449f2-392c-441b-b8be-a32f60621dce\",\"type\":\"Rect\"},\"hover_glyph\":null,\"nonselection_glyph\":null,\"selection_glyph\":null},\"id\":\"4590ef1f-b6ba-4496-bc8e-2a5cb10360c6\",\"type\":\"GlyphRenderer\"},{\"attributes\":{\"plot\":{\"id\":\"9d37cd6a-1308-4115-aac9-6e0be3c5d1fd\",\"subtype\":\"Chart\",\"type\":\"Plot\"}},\"id\":\"17c1167d-a9ac-402f-b6da-2dc1ef2e97ad\",\"type\":\"ResetTool\"},{\"attributes\":{\"fill_alpha\":{\"field\":\"fill_alpha\"},\"fill_color\":{\"field\":\"color\"},\"height\":{\"field\":\"height\",\"units\":\"data\"},\"line_color\":{\"field\":\"line_color\"},\"width\":{\"field\":\"width\",\"units\":\"data\"},\"x\":{\"field\":\"x\"},\"y\":{\"field\":\"y\"}},\"id\":\"a0193667-88fa-4737-8024-158275a144ac\",\"type\":\"Rect\"},{\"attributes\":{},\"id\":\"afb6ad5f-08aa-4884-9b98-e7d96ad57e78\",\"type\":\"CategoricalTicker\"},{\"attributes\":{\"callback\":null,\"column_names\":[\"color\",\"line_alpha\",\"fill_alpha\",\"y\",\"x\",\"height\",\"line_color\",\"width\"],\"data\":{\"chart_index\":[{\"index\":\"\\u0421\\u0430\\u043f\\u043e\\u0433\\u0438\"}],\"color\":[\"#f22c40\"],\"fill_alpha\":[0.8],\"height\":[0.00051695069055822],\"index\":[\"\\u0421\\u0430\\u043f\\u043e\\u0433\\u0438\"],\"line_alpha\":[1.0],\"line_color\":[\"white\"],\"width\":[0.8],\"x\":[\"\\u0421\\u0430\\u043f\\u043e\\u0433\\u0438\"],\"y\":[0.00025847534527911]}},\"id\":\"612009ff-c391-43d7-b8f5-948cf9e013dc\",\"type\":\"ColumnDataSource\"},{\"attributes\":{\"callback\":null,\"column_names\":[\"color\",\"line_alpha\",\"fill_alpha\",\"y\",\"x\",\"height\",\"line_color\",\"width\"],\"data\":{\"chart_index\":[{\"index\":\"\\u041a\\u043e\\u043c\\u0431\\u0438\\u043d\\u0435\\u0437\\u043e\\u043d\"}],\"color\":[\"#f22c40\"],\"fill_alpha\":[0.8],\"height\":[0.0006419277805832842],\"index\":[\"\\u041a\\u043e\\u043c\\u0431\\u0438\\u043d\\u0435\\u0437\\u043e\\u043d\"],\"line_alpha\":[1.0],\"line_color\":[\"white\"],\"width\":[0.8],\"x\":[\"\\u041a\\u043e\\u043c\\u0431\\u0438\\u043d\\u0435\\u0437\\u043e\\u043d\"],\"y\":[0.0003209638902916421]}},\"id\":\"b5448e9b-a5cf-4816-b25f-acaced3b2079\",\"type\":\"ColumnDataSource\"},{\"attributes\":{\"callback\":null,\"column_names\":[\"color\",\"line_alpha\",\"fill_alpha\",\"y\",\"x\",\"height\",\"line_color\",\"width\"],\"data\":{\"chart_index\":[{\"index\":\"\\u041a\\u0443\\u0440\\u0442\\u043a\\u0430\"}],\"color\":[\"#f22c40\"],\"fill_alpha\":[0.8],\"height\":[0.001141238164176244],\"index\":[\"\\u041a\\u0443\\u0440\\u0442\\u043a\\u0430\"],\"line_alpha\":[1.0],\"line_color\":[\"white\"],\"width\":[0.8],\"x\":[\"\\u041a\\u0443\\u0440\\u0442\\u043a\\u0430\"],\"y\":[0.000570619082088122]}},\"id\":\"8e8a25e5-a4ef-4a67-8e2a-f5ae7a7b7a71\",\"type\":\"ColumnDataSource\"},{\"attributes\":{\"fill_alpha\":{\"field\":\"fill_alpha\"},\"fill_color\":{\"field\":\"color\"},\"height\":{\"field\":\"height\",\"units\":\"data\"},\"line_color\":{\"field\":\"line_color\"},\"width\":{\"field\":\"width\",\"units\":\"data\"},\"x\":{\"field\":\"x\"},\"y\":{\"field\":\"y\"}},\"id\":\"fe503305-51eb-4fd9-b03c-61b7db8ffe48\",\"type\":\"Rect\"},{\"attributes\":{\"formatter\":{\"id\":\"db5013e0-a071-49b0-87c3-76a5dd4dff3a\",\"type\":\"CategoricalTickFormatter\"},\"major_label_orientation\":0.7853981633974483,\"plot\":{\"id\":\"9d37cd6a-1308-4115-aac9-6e0be3c5d1fd\",\"subtype\":\"Chart\",\"type\":\"Plot\"},\"ticker\":{\"id\":\"afb6ad5f-08aa-4884-9b98-e7d96ad57e78\",\"type\":\"CategoricalTicker\"}},\"id\":\"7abd4268-3dd2-44ca-b557-c4c38714b1b6\",\"type\":\"CategoricalAxis\"},{\"attributes\":{\"data_source\":{\"id\":\"85e86e9c-7b53-474d-9d50-4b3a46e78c02\",\"type\":\"ColumnDataSource\"},\"glyph\":{\"id\":\"96eae09c-211e-4bac-8eca-50f1c5be0ad9\",\"type\":\"Rect\"},\"hover_glyph\":null,\"nonselection_glyph\":null,\"selection_glyph\":null},\"id\":\"3aa08953-92cd-4d56-af44-cdeb38015a5c\",\"type\":\"GlyphRenderer\"},{\"attributes\":{\"callback\":null,\"column_names\":[\"color\",\"line_alpha\",\"fill_alpha\",\"y\",\"x\",\"height\",\"line_color\",\"width\"],\"data\":{\"chart_index\":[{\"index\":\"LADA Priora, 2012\"}],\"color\":[\"#f22c40\"],\"fill_alpha\":[0.8],\"height\":[0.0006538873107292234],\"index\":[\"LADA Priora, 2012\"],\"line_alpha\":[1.0],\"line_color\":[\"white\"],\"width\":[0.8],\"x\":[\"LADA Priora, 2012\"],\"y\":[0.0003269436553646117]}},\"id\":\"5fb5458c-71b4-4fcd-a7db-204002c9c21f\",\"type\":\"ColumnDataSource\"},{\"attributes\":{\"callback\":null,\"column_names\":[\"color\",\"line_alpha\",\"fill_alpha\",\"y\",\"x\",\"height\",\"line_color\",\"width\"],\"data\":{\"chart_index\":[{\"index\":\"\\u041a\\u0443\\u043f\\u043b\\u044e \\u0434\\u043e\\u043c\"}],\"color\":[\"#f22c40\"],\"fill_alpha\":[0.8],\"height\":[0.0008691588533561282],\"index\":[\"\\u041a\\u0443\\u043f\\u043b\\u044e \\u0434\\u043e\\u043c\"],\"line_alpha\":[1.0],\"line_color\":[\"white\"],\"width\":[0.8],\"x\":[\"\\u041a\\u0443\\u043f\\u043b\\u044e \\u0434\\u043e\\u043c\"],\"y\":[0.0004345794266780641]}},\"id\":\"5424b627-606a-4cdc-9305-a178c1b07235\",\"type\":\"ColumnDataSource\"},{\"attributes\":{\"callback\":null,\"column_names\":[\"color\",\"line_alpha\",\"fill_alpha\",\"y\",\"x\",\"height\",\"line_color\",\"width\"],\"data\":{\"chart_index\":[{\"index\":\"\\u0412\\u0410\\u0417 2114 Samara, 2008\"}],\"color\":[\"#f22c40\"],\"fill_alpha\":[0.8],\"height\":[0.0005160537257972746],\"index\":[\"\\u0412\\u0410\\u0417 2114 Samara, 2008\"],\"line_alpha\":[1.0],\"line_color\":[\"white\"],\"width\":[0.8],\"x\":[\"\\u0412\\u0410\\u0417 2114 Samara, 2008\"],\"y\":[0.0002580268628986373]}},\"id\":\"fe5b599c-742c-4d88-85c9-de63300c4145\",\"type\":\"ColumnDataSource\"},{\"attributes\":{\"fill_alpha\":{\"field\":\"fill_alpha\"},\"fill_color\":{\"field\":\"color\"},\"height\":{\"field\":\"height\",\"units\":\"data\"},\"line_color\":{\"field\":\"line_color\"},\"width\":{\"field\":\"width\",\"units\":\"data\"},\"x\":{\"field\":\"x\"},\"y\":{\"field\":\"y\"}},\"id\":\"62841f63-8aec-45b5-9bcd-839856dd6a6c\",\"type\":\"Rect\"},{\"attributes\":{\"data_source\":{\"id\":\"094e8985-8dc2-4474-bfac-ff595c0f58da\",\"type\":\"ColumnDataSource\"},\"glyph\":{\"id\":\"7058feb5-ecc0-4231-b2b1-fc851c9315a1\",\"type\":\"Rect\"},\"hover_glyph\":null,\"nonselection_glyph\":null,\"selection_glyph\":null},\"id\":\"e49212be-ee64-4900-a33b-9a9e4a2c33bc\",\"type\":\"GlyphRenderer\"},{\"attributes\":{\"fill_alpha\":{\"field\":\"fill_alpha\"},\"fill_color\":{\"field\":\"color\"},\"height\":{\"field\":\"height\",\"units\":\"data\"},\"line_color\":{\"field\":\"line_color\"},\"width\":{\"field\":\"width\",\"units\":\"data\"},\"x\":{\"field\":\"x\"},\"y\":{\"field\":\"y\"}},\"id\":\"966efc7b-3309-40de-b86a-884762b7a96d\",\"type\":\"Rect\"},{\"attributes\":{\"callback\":null,\"column_names\":[\"color\",\"line_alpha\",\"fill_alpha\",\"y\",\"x\",\"height\",\"line_color\",\"width\"],\"data\":{\"chart_index\":[{\"index\":\"\\u0428\\u0443\\u0431\\u0430\"}],\"color\":[\"#f22c40\"],\"fill_alpha\":[0.8],\"height\":[0.0005480454689376619],\"index\":[\"\\u0428\\u0443\\u0431\\u0430\"],\"line_alpha\":[1.0],\"line_color\":[\"white\"],\"width\":[0.8],\"x\":[\"\\u0428\\u0443\\u0431\\u0430\"],\"y\":[0.00027402273446883093]}},\"id\":\"d9e7b1f3-6293-4b22-916d-1fd110c7bb61\",\"type\":\"ColumnDataSource\"},{\"attributes\":{\"callback\":null,\"column_names\":[\"color\",\"line_alpha\",\"fill_alpha\",\"y\",\"x\",\"height\",\"line_color\",\"width\"],\"data\":{\"chart_index\":[{\"index\":\"LADA Priora, 2008\"}],\"color\":[\"#f22c40\"],\"fill_alpha\":[0.8],\"height\":[0.0005842230476291278],\"index\":[\"LADA Priora, 2008\"],\"line_alpha\":[1.0],\"line_color\":[\"white\"],\"width\":[0.8],\"x\":[\"LADA Priora, 2008\"],\"y\":[0.0002921115238145639]}},\"id\":\"78a2906e-f42d-4551-a18b-4316a83c14e2\",\"type\":\"ColumnDataSource\"},{\"attributes\":{\"fill_alpha\":{\"field\":\"fill_alpha\"},\"fill_color\":{\"field\":\"color\"},\"height\":{\"field\":\"height\",\"units\":\"data\"},\"line_color\":{\"field\":\"line_color\"},\"width\":{\"field\":\"width\",\"units\":\"data\"},\"x\":{\"field\":\"x\"},\"y\":{\"field\":\"y\"}},\"id\":\"3705fe1c-9797-46fa-a58a-c2aae55f0d30\",\"type\":\"Rect\"},{\"attributes\":{\"callback\":null,\"column_names\":[\"color\",\"line_alpha\",\"fill_alpha\",\"y\",\"x\",\"height\",\"line_color\",\"width\"],\"data\":{\"chart_index\":[{\"index\":\"\\u0428\\u0438\\u043d\\u044b\"}],\"color\":[\"#f22c40\"],\"fill_alpha\":[0.8],\"height\":[0.0005579120813080617],\"index\":[\"\\u0428\\u0438\\u043d\\u044b\"],\"line_alpha\":[1.0],\"line_color\":[\"white\"],\"width\":[0.8],\"x\":[\"\\u0428\\u0438\\u043d\\u044b\"],\"y\":[0.00027895604065403083]}},\"id\":\"6bba98e1-8ca7-4451-8de1-a219b1d09096\",\"type\":\"ColumnDataSource\"},{\"attributes\":{\"callback\":null,\"column_names\":[\"color\",\"line_alpha\",\"fill_alpha\",\"y\",\"x\",\"height\",\"line_color\",\"width\"],\"data\":{\"chart_index\":[{\"index\":\"LADA Priora, 2010\"}],\"color\":[\"#f22c40\"],\"fill_alpha\":[0.8],\"height\":[0.0005471485041767164],\"index\":[\"LADA Priora, 2010\"],\"line_alpha\":[1.0],\"line_color\":[\"white\"],\"width\":[0.8],\"x\":[\"LADA Priora, 2010\"],\"y\":[0.0002735742520883582]}},\"id\":\"336fb3c2-2d1c-4726-99e2-9fce9bd63b60\",\"type\":\"ColumnDataSource\"},{\"attributes\":{\"fill_alpha\":{\"field\":\"fill_alpha\"},\"fill_color\":{\"field\":\"color\"},\"height\":{\"field\":\"height\",\"units\":\"data\"},\"line_color\":{\"field\":\"line_color\"},\"width\":{\"field\":\"width\",\"units\":\"data\"},\"x\":{\"field\":\"x\"},\"y\":{\"field\":\"y\"}},\"id\":\"19f8a423-8722-4210-add0-5fe0d7196d17\",\"type\":\"Rect\"},{\"attributes\":{\"fill_alpha\":{\"field\":\"fill_alpha\"},\"fill_color\":{\"field\":\"color\"},\"height\":{\"field\":\"height\",\"units\":\"data\"},\"line_color\":{\"field\":\"line_color\"},\"width\":{\"field\":\"width\",\"units\":\"data\"},\"x\":{\"field\":\"x\"},\"y\":{\"field\":\"y\"}},\"id\":\"8347dfa3-cd30-4f04-aea2-17c037805aca\",\"type\":\"Rect\"},{\"attributes\":{\"data_source\":{\"id\":\"76453764-6c1e-477f-8b90-768d411571a3\",\"type\":\"ColumnDataSource\"},\"glyph\":{\"id\":\"2fe5c751-221d-4a64-9b67-b0b6c261fdcc\",\"type\":\"Rect\"},\"hover_glyph\":null,\"nonselection_glyph\":null,\"selection_glyph\":null},\"id\":\"b9ff37e5-0e87-4194-9476-c32600bc3a47\",\"type\":\"GlyphRenderer\"},{\"attributes\":{\"plot\":{\"id\":\"9d37cd6a-1308-4115-aac9-6e0be3c5d1fd\",\"subtype\":\"Chart\",\"type\":\"Plot\"}},\"id\":\"6b146bbd-43b6-4d44-ada0-ce41a75c530a\",\"type\":\"ResizeTool\"},{\"attributes\":{\"data_source\":{\"id\":\"e416ca02-bb4c-4353-bf65-3f1dc9636575\",\"type\":\"ColumnDataSource\"},\"glyph\":{\"id\":\"a621cd4c-43e2-436f-a835-fdb72814969d\",\"type\":\"Rect\"},\"hover_glyph\":null,\"nonselection_glyph\":null,\"selection_glyph\":null},\"id\":\"fbcf8b1a-b3bb-4816-838f-f391d9d3a7fa\",\"type\":\"GlyphRenderer\"},{\"attributes\":{\"fill_alpha\":{\"field\":\"fill_alpha\"},\"fill_color\":{\"field\":\"color\"},\"height\":{\"field\":\"height\",\"units\":\"data\"},\"line_color\":{\"field\":\"line_color\"},\"width\":{\"field\":\"width\",\"units\":\"data\"},\"x\":{\"field\":\"x\"},\"y\":{\"field\":\"y\"}},\"id\":\"cb95f14c-81ce-4414-a7a3-d1efca7f0cc7\",\"type\":\"Rect\"},{\"attributes\":{\"plot\":{\"id\":\"9d37cd6a-1308-4115-aac9-6e0be3c5d1fd\",\"subtype\":\"Chart\",\"type\":\"Plot\"}},\"id\":\"f96dad45-109b-4050-924a-8cee11d59c03\",\"type\":\"PanTool\"},{\"attributes\":{\"fill_alpha\":{\"field\":\"fill_alpha\"},\"fill_color\":{\"field\":\"color\"},\"height\":{\"field\":\"height\",\"units\":\"data\"},\"line_color\":{\"field\":\"line_color\"},\"width\":{\"field\":\"width\",\"units\":\"data\"},\"x\":{\"field\":\"x\"},\"y\":{\"field\":\"y\"}},\"id\":\"96eae09c-211e-4bac-8eca-50f1c5be0ad9\",\"type\":\"Rect\"},{\"attributes\":{\"callback\":null,\"column_names\":[\"color\",\"line_alpha\",\"fill_alpha\",\"y\",\"x\",\"height\",\"line_color\",\"width\"],\"data\":{\"chart_index\":[{\"index\":\"\\u0414\\u0438\\u0441\\u043a\\u0438\"}],\"color\":[\"#f22c40\"],\"fill_alpha\":[0.8],\"height\":[0.0007965047077195479],\"index\":[\"\\u0414\\u0438\\u0441\\u043a\\u0438\"],\"line_alpha\":[1.0],\"line_color\":[\"white\"],\"width\":[0.8],\"x\":[\"\\u0414\\u0438\\u0441\\u043a\\u0438\"],\"y\":[0.00039825235385977393]}},\"id\":\"c6289478-9683-462e-9082-cc1cbe0667ad\",\"type\":\"ColumnDataSource\"},{\"attributes\":{\"callback\":null,\"column_names\":[\"color\",\"line_alpha\",\"fill_alpha\",\"y\",\"x\",\"height\",\"line_color\",\"width\"],\"data\":{\"chart_index\":[{\"index\":\"\\u0420\\u0430\\u0437\\u043d\\u043e\\u0440\\u0430\\u0431\\u043e\\u0447\\u0438\\u0439\"}],\"color\":[\"#f22c40\"],\"fill_alpha\":[0.8],\"height\":[0.0007486665871357912],\"index\":[\"\\u0420\\u0430\\u0437\\u043d\\u043e\\u0440\\u0430\\u0431\\u043e\\u0447\\u0438\\u0439\"],\"line_alpha\":[1.0],\"line_color\":[\"white\"],\"width\":[0.8],\"x\":[\"\\u0420\\u0430\\u0437\\u043d\\u043e\\u0440\\u0430\\u0431\\u043e\\u0447\\u0438\\u0439\"],\"y\":[0.0003743332935678956]}},\"id\":\"8fc7ea0e-3e0a-40a7-be36-c5072278f594\",\"type\":\"ColumnDataSource\"},{\"attributes\":{},\"id\":\"db5013e0-a071-49b0-87c3-76a5dd4dff3a\",\"type\":\"CategoricalTickFormatter\"},{\"attributes\":{\"plot\":{\"id\":\"9d37cd6a-1308-4115-aac9-6e0be3c5d1fd\",\"subtype\":\"Chart\",\"type\":\"Plot\"}},\"id\":\"47956851-00b2-4f2f-a0ea-44c1fec2f56f\",\"type\":\"PreviewSaveTool\"},{\"attributes\":{\"fill_alpha\":{\"field\":\"fill_alpha\"},\"fill_color\":{\"field\":\"color\"},\"height\":{\"field\":\"height\",\"units\":\"data\"},\"line_color\":{\"field\":\"line_color\"},\"width\":{\"field\":\"width\",\"units\":\"data\"},\"x\":{\"field\":\"x\"},\"y\":{\"field\":\"y\"}},\"id\":\"ad82a7e9-c208-4b37-adf7-a90b42e7a84d\",\"type\":\"Rect\"},{\"attributes\":{\"callback\":null,\"column_names\":[\"color\",\"line_alpha\",\"fill_alpha\",\"y\",\"x\",\"height\",\"line_color\",\"width\"],\"data\":{\"chart_index\":[{\"index\":\"\\u041f\\u0443\\u0445\\u043e\\u0432\\u0438\\u043a\"}],\"color\":[\"#f22c40\"],\"fill_alpha\":[0.8],\"height\":[0.0005564171400398193],\"index\":[\"\\u041f\\u0443\\u0445\\u043e\\u0432\\u0438\\u043a\"],\"line_alpha\":[1.0],\"line_color\":[\"white\"],\"width\":[0.8],\"x\":[\"\\u041f\\u0443\\u0445\\u043e\\u0432\\u0438\\u043a\"],\"y\":[0.00027820857001990964]}},\"id\":\"a6a66fb7-168f-4112-8dc7-c9a2853179b6\",\"type\":\"ColumnDataSource\"},{\"attributes\":{\"fill_alpha\":{\"field\":\"fill_alpha\"},\"fill_color\":{\"field\":\"color\"},\"height\":{\"field\":\"height\",\"units\":\"data\"},\"line_color\":{\"field\":\"line_color\"},\"width\":{\"field\":\"width\",\"units\":\"data\"},\"x\":{\"field\":\"x\"},\"y\":{\"field\":\"y\"}},\"id\":\"9c45679c-4b26-4207-975d-bed20c48d8b6\",\"type\":\"Rect\"},{\"attributes\":{\"callback\":null,\"factors\":[\"Hyundai Solaris, 2015\",\"LADA Granta, 2015\",\"LADA Priora, 2008\",\"LADA Priora, 2010\",\"LADA Priora, 2011\",\"LADA Priora, 2012\",\"LADA Priora, 2015\",\"Renault Logan, 2015\",\"iPhone 4s\",\"iPhone 5\",\"iPhone 5s\",\"\\u0412\\u0410\\u0417 2114 Samara, 2008\",\"\\u0412\\u043e\\u0434\\u0438\\u0442\\u0435\\u043b\\u044c\",\"\\u0414\\u0438\\u0432\\u0430\\u043d\",\"\\u0414\\u0438\\u0441\\u043a\\u0438\",\"\\u0418\\u0449\\u0443 \\u0440\\u0430\\u0431\\u043e\\u0442\\u0443\",\"\\u041a\\u043e\\u043b\\u0435\\u0441\\u0430\",\"\\u041a\\u043e\\u043c\\u0431\\u0438\\u043d\\u0435\\u0437\\u043e\\u043d\",\"\\u041a\\u0443\\u043f\\u043b\\u044e \\u0434\\u043e\\u043c\",\"\\u041a\\u0443\\u0440\\u0442\\u043a\\u0430\",\"\\u041d\\u043e\\u0440\\u043a\\u043e\\u0432\\u0430\\u044f \\u0448\\u0443\\u0431\\u0430\",\"\\u041f\\u0430\\u043b\\u044c\\u0442\\u043e\",\"\\u041f\\u043b\\u0430\\u0442\\u044c\\u0435\",\"\\u041f\\u0440\\u043e\\u0434\\u0430\\u0432\\u0435\\u0446\",\"\\u041f\\u0443\\u0445\\u043e\\u0432\\u0438\\u043a\",\"\\u0420\\u0430\\u0437\\u043d\\u043e\\u0440\\u0430\\u0431\\u043e\\u0447\\u0438\\u0439\",\"\\u0421\\u0430\\u043f\\u043e\\u0433\\u0438\",\"\\u0421\\u0432\\u0430\\u0434\\u0435\\u0431\\u043d\\u043e\\u0435 \\u043f\\u043b\\u0430\\u0442\\u044c\\u0435\",\"\\u0421\\u043d\\u0438\\u043c\\u0443 \\u043a\\u043e\\u043c\\u043d\\u0430\\u0442\\u0443\",\"\\u0422\\u0443\\u0444\\u043b\\u0438\",\"\\u0423\\u0447\\u0430\\u0441\\u0442\\u043e\\u043a 10 \\u0441\\u043e\\u0442. (\\u0418\\u0416\\u0421)\",\"\\u0423\\u0447\\u0430\\u0441\\u0442\\u043e\\u043a 15 \\u0441\\u043e\\u0442. (\\u0418\\u0416\\u0421)\",\"\\u0425\\u043e\\u043b\\u043e\\u0434\\u0438\\u043b\\u044c\\u043d\\u0438\\u043a\",\"\\u0428\\u0438\\u043d\\u044b\",\"\\u0428\\u0443\\u0431\\u0430\"]},\"id\":\"1536622a-265d-4532-b48d-6dfe051a32d0\",\"type\":\"FactorRange\"},{\"attributes\":{\"fill_alpha\":{\"field\":\"fill_alpha\"},\"fill_color\":{\"field\":\"color\"},\"height\":{\"field\":\"height\",\"units\":\"data\"},\"line_color\":{\"field\":\"line_color\"},\"width\":{\"field\":\"width\",\"units\":\"data\"},\"x\":{\"field\":\"x\"},\"y\":{\"field\":\"y\"}},\"id\":\"a621cd4c-43e2-436f-a835-fdb72814969d\",\"type\":\"Rect\"},{\"attributes\":{\"fill_alpha\":{\"field\":\"fill_alpha\"},\"fill_color\":{\"field\":\"color\"},\"height\":{\"field\":\"height\",\"units\":\"data\"},\"line_color\":{\"field\":\"line_color\"},\"width\":{\"field\":\"width\",\"units\":\"data\"},\"x\":{\"field\":\"x\"},\"y\":{\"field\":\"y\"}},\"id\":\"46dec70f-1ac2-4c1a-b16d-193a0e87458d\",\"type\":\"Rect\"},{\"attributes\":{\"fill_alpha\":{\"field\":\"fill_alpha\"},\"fill_color\":{\"field\":\"color\"},\"height\":{\"field\":\"height\",\"units\":\"data\"},\"line_color\":{\"field\":\"line_color\"},\"width\":{\"field\":\"width\",\"units\":\"data\"},\"x\":{\"field\":\"x\"},\"y\":{\"field\":\"y\"}},\"id\":\"32cbf471-577c-4ab5-a40f-0dc309c466e7\",\"type\":\"Rect\"},{\"attributes\":{\"data_source\":{\"id\":\"5424b627-606a-4cdc-9305-a178c1b07235\",\"type\":\"ColumnDataSource\"},\"glyph\":{\"id\":\"5c3daad9-63ac-4a12-9c68-6826054d532e\",\"type\":\"Rect\"},\"hover_glyph\":null,\"nonselection_glyph\":null,\"selection_glyph\":null},\"id\":\"b36ecd94-cb65-451d-ae5d-5e161a36cb9c\",\"type\":\"GlyphRenderer\"},{\"attributes\":{\"dimension\":1,\"plot\":{\"id\":\"9d37cd6a-1308-4115-aac9-6e0be3c5d1fd\",\"subtype\":\"Chart\",\"type\":\"Plot\"},\"ticker\":{\"id\":\"acb26803-3508-493f-bb4f-6200bf1d183c\",\"type\":\"BasicTicker\"}},\"id\":\"88260484-c9d8-4ffa-9411-bac965986137\",\"type\":\"Grid\"},{\"attributes\":{\"data_source\":{\"id\":\"acd9bb67-b1cc-48c1-8574-07f3b309a395\",\"type\":\"ColumnDataSource\"},\"glyph\":{\"id\":\"2a2a6114-30b4-49b3-95ee-241ee2944df5\",\"type\":\"Rect\"},\"hover_glyph\":null,\"nonselection_glyph\":null,\"selection_glyph\":null},\"id\":\"fb2bd761-8ea1-4381-a99f-47272c2021e5\",\"type\":\"GlyphRenderer\"},{\"attributes\":{\"fill_alpha\":{\"field\":\"fill_alpha\"},\"fill_color\":{\"field\":\"color\"},\"height\":{\"field\":\"height\",\"units\":\"data\"},\"line_color\":{\"field\":\"line_color\"},\"width\":{\"field\":\"width\",\"units\":\"data\"},\"x\":{\"field\":\"x\"},\"y\":{\"field\":\"y\"}},\"id\":\"d981fc59-b6db-4b2c-ab29-8bd3e26f951f\",\"type\":\"Rect\"},{\"attributes\":{\"fill_alpha\":{\"field\":\"fill_alpha\"},\"fill_color\":{\"field\":\"color\"},\"height\":{\"field\":\"height\",\"units\":\"data\"},\"line_color\":{\"field\":\"line_color\"},\"width\":{\"field\":\"width\",\"units\":\"data\"},\"x\":{\"field\":\"x\"},\"y\":{\"field\":\"y\"}},\"id\":\"2fe5c751-221d-4a64-9b67-b0b6c261fdcc\",\"type\":\"Rect\"},{\"attributes\":{\"data_source\":{\"id\":\"0b3ab1cd-2e4a-4a77-94b2-aaf5d3482a41\",\"type\":\"ColumnDataSource\"},\"glyph\":{\"id\":\"6cb67a86-2132-4173-b527-3bee0f5a42ca\",\"type\":\"Rect\"},\"hover_glyph\":null,\"nonselection_glyph\":null,\"selection_glyph\":null},\"id\":\"652f15d4-2515-4145-81c9-0c77023ada19\",\"type\":\"GlyphRenderer\"},{\"attributes\":{\"fill_alpha\":{\"field\":\"fill_alpha\"},\"fill_color\":{\"field\":\"color\"},\"height\":{\"field\":\"height\",\"units\":\"data\"},\"line_color\":{\"field\":\"line_color\"},\"width\":{\"field\":\"width\",\"units\":\"data\"},\"x\":{\"field\":\"x\"},\"y\":{\"field\":\"y\"}},\"id\":\"52d8630b-3f7f-44ac-ab99-95d805011025\",\"type\":\"Rect\"},{\"attributes\":{\"callback\":null,\"column_names\":[\"color\",\"line_alpha\",\"fill_alpha\",\"y\",\"x\",\"height\",\"line_color\",\"width\"],\"data\":{\"chart_index\":[{\"index\":\"\\u0412\\u043e\\u0434\\u0438\\u0442\\u0435\\u043b\\u044c\"}],\"color\":[\"#f22c40\"],\"fill_alpha\":[0.8],\"height\":[0.0010285195925507674],\"index\":[\"\\u0412\\u043e\\u0434\\u0438\\u0442\\u0435\\u043b\\u044c\"],\"line_alpha\":[1.0],\"line_color\":[\"white\"],\"width\":[0.8],\"x\":[\"\\u0412\\u043e\\u0434\\u0438\\u0442\\u0435\\u043b\\u044c\"],\"y\":[0.0005142597962753837]}},\"id\":\"c9862847-65d0-45f0-a637-33d62a76a162\",\"type\":\"ColumnDataSource\"},{\"attributes\":{\"callback\":null,\"column_names\":[\"color\",\"line_alpha\",\"fill_alpha\",\"y\",\"x\",\"height\",\"line_color\",\"width\"],\"data\":{\"chart_index\":[{\"index\":\"\\u0423\\u0447\\u0430\\u0441\\u0442\\u043e\\u043a 15 \\u0441\\u043e\\u0442. (\\u0418\\u0416\\u0421)\"}],\"color\":[\"#f22c40\"],\"fill_alpha\":[0.8],\"height\":[0.0005133628315144383],\"index\":[\"\\u0423\\u0447\\u0430\\u0441\\u0442\\u043e\\u043a 15 \\u0441\\u043e\\u0442. (\\u0418\\u0416\\u0421)\"],\"line_alpha\":[1.0],\"line_color\":[\"white\"],\"width\":[0.8],\"x\":[\"\\u0423\\u0447\\u0430\\u0441\\u0442\\u043e\\u043a 15 \\u0441\\u043e\\u0442. (\\u0418\\u0416\\u0421)\"],\"y\":[0.00025668141575721916]}},\"id\":\"0b3ab1cd-2e4a-4a77-94b2-aaf5d3482a41\",\"type\":\"ColumnDataSource\"},{\"attributes\":{\"data_source\":{\"id\":\"b5448e9b-a5cf-4816-b25f-acaced3b2079\",\"type\":\"ColumnDataSource\"},\"glyph\":{\"id\":\"966efc7b-3309-40de-b86a-884762b7a96d\",\"type\":\"Rect\"},\"hover_glyph\":null,\"nonselection_glyph\":null,\"selection_glyph\":null},\"id\":\"42642c66-bf63-4fe9-ad93-81fdf6bc0674\",\"type\":\"GlyphRenderer\"},{\"attributes\":{\"callback\":null,\"column_names\":[\"color\",\"line_alpha\",\"fill_alpha\",\"y\",\"x\",\"height\",\"line_color\",\"width\"],\"data\":{\"chart_index\":[{\"index\":\"Hyundai Solaris, 2015\"}],\"color\":[\"#f22c40\"],\"fill_alpha\":[0.8],\"height\":[0.0005976775190433093],\"index\":[\"Hyundai Solaris, 2015\"],\"line_alpha\":[1.0],\"line_color\":[\"white\"],\"width\":[0.8],\"x\":[\"Hyundai Solaris, 2015\"],\"y\":[0.00029883875952165466]}},\"id\":\"094e8985-8dc2-4474-bfac-ff595c0f58da\",\"type\":\"ColumnDataSource\"},{\"attributes\":{\"fill_alpha\":{\"field\":\"fill_alpha\"},\"fill_color\":{\"field\":\"color\"},\"height\":{\"field\":\"height\",\"units\":\"data\"},\"line_color\":{\"field\":\"line_color\"},\"width\":{\"field\":\"width\",\"units\":\"data\"},\"x\":{\"field\":\"x\"},\"y\":{\"field\":\"y\"}},\"id\":\"12655b6a-627a-47b0-99a2-70dfc3508d7c\",\"type\":\"Rect\"},{\"attributes\":{\"data_source\":{\"id\":\"6bba98e1-8ca7-4451-8de1-a219b1d09096\",\"type\":\"ColumnDataSource\"},\"glyph\":{\"id\":\"5a895207-62f1-4116-8642-b5f75146ced1\",\"type\":\"Rect\"},\"hover_glyph\":null,\"nonselection_glyph\":null,\"selection_glyph\":null},\"id\":\"813a89e7-a834-4d8f-a404-7ac2dbb1f91a\",\"type\":\"GlyphRenderer\"},{\"attributes\":{\"data_source\":{\"id\":\"d5cda857-db1c-4e98-b778-13a4bd13e692\",\"type\":\"ColumnDataSource\"},\"glyph\":{\"id\":\"a4902767-c717-42b6-838f-d5234ab14995\",\"type\":\"Rect\"},\"hover_glyph\":null,\"nonselection_glyph\":null,\"selection_glyph\":null},\"id\":\"65e6180a-5ffa-4671-b2b6-9a4cc2dd0318\",\"type\":\"GlyphRenderer\"},{\"attributes\":{\"callback\":null,\"column_names\":[\"color\",\"line_alpha\",\"fill_alpha\",\"y\",\"x\",\"height\",\"line_color\",\"width\"],\"data\":{\"chart_index\":[{\"index\":\"\\u0414\\u0438\\u0432\\u0430\\u043d\"}],\"color\":[\"#f22c40\"],\"fill_alpha\":[0.8],\"height\":[0.0006595680875485445],\"index\":[\"\\u0414\\u0438\\u0432\\u0430\\u043d\"],\"line_alpha\":[1.0],\"line_color\":[\"white\"],\"width\":[0.8],\"x\":[\"\\u0414\\u0438\\u0432\\u0430\\u043d\"],\"y\":[0.00032978404377427225]}},\"id\":\"d5cda857-db1c-4e98-b778-13a4bd13e692\",\"type\":\"ColumnDataSource\"},{\"attributes\":{\"callback\":null,\"column_names\":[\"color\",\"line_alpha\",\"fill_alpha\",\"y\",\"x\",\"height\",\"line_color\",\"width\"],\"data\":{\"chart_index\":[{\"index\":\"LADA Granta, 2015\"}],\"color\":[\"#f22c40\"],\"fill_alpha\":[0.8],\"height\":[0.0006685377351579988],\"index\":[\"LADA Granta, 2015\"],\"line_alpha\":[1.0],\"line_color\":[\"white\"],\"width\":[0.8],\"x\":[\"LADA Granta, 2015\"],\"y\":[0.0003342688675789994]}},\"id\":\"e416ca02-bb4c-4353-bf65-3f1dc9636575\",\"type\":\"ColumnDataSource\"},{\"attributes\":{\"data_source\":{\"id\":\"2f336a73-af42-4547-bd5d-3956181de438\",\"type\":\"ColumnDataSource\"},\"glyph\":{\"id\":\"62841f63-8aec-45b5-9bcd-839856dd6a6c\",\"type\":\"Rect\"},\"hover_glyph\":null,\"nonselection_glyph\":null,\"selection_glyph\":null},\"id\":\"2fb9a9dd-f6e7-4845-acf1-b6898ae59c09\",\"type\":\"GlyphRenderer\"},{\"attributes\":{\"data_source\":{\"id\":\"37009dff-cb12-4b80-8bf1-47933d15e3e4\",\"type\":\"ColumnDataSource\"},\"glyph\":{\"id\":\"68f6cb7a-6654-42ec-a867-a61aa692657f\",\"type\":\"Rect\"},\"hover_glyph\":null,\"nonselection_glyph\":null,\"selection_glyph\":null},\"id\":\"4702a472-f2be-4a80-a700-c6d9f9fbcd8c\",\"type\":\"GlyphRenderer\"},{\"attributes\":{\"data_source\":{\"id\":\"336fb3c2-2d1c-4726-99e2-9fce9bd63b60\",\"type\":\"ColumnDataSource\"},\"glyph\":{\"id\":\"a56cb25a-a0f7-4f90-bbf3-024bba03cf9d\",\"type\":\"Rect\"},\"hover_glyph\":null,\"nonselection_glyph\":null,\"selection_glyph\":null},\"id\":\"96efdeb8-5876-4304-8fc2-60199149c16a\",\"type\":\"GlyphRenderer\"},{\"attributes\":{\"callback\":null,\"column_names\":[\"color\",\"line_alpha\",\"fill_alpha\",\"y\",\"x\",\"height\",\"line_color\",\"width\"],\"data\":{\"chart_index\":[{\"index\":\"\\u041f\\u043b\\u0430\\u0442\\u044c\\u0435\"}],\"color\":[\"#f22c40\"],\"fill_alpha\":[0.8],\"height\":[0.00373077542902572],\"index\":[\"\\u041f\\u043b\\u0430\\u0442\\u044c\\u0435\"],\"line_alpha\":[1.0],\"line_color\":[\"white\"],\"width\":[0.8],\"x\":[\"\\u041f\\u043b\\u0430\\u0442\\u044c\\u0435\"],\"y\":[0.00186538771451286]}},\"id\":\"2605771e-e645-4401-aa03-f43f76af26d7\",\"type\":\"ColumnDataSource\"},{\"attributes\":{\"callback\":null,\"column_names\":[\"color\",\"line_alpha\",\"fill_alpha\",\"y\",\"x\",\"height\",\"line_color\",\"width\"],\"data\":{\"chart_index\":[{\"index\":\"\\u0425\\u043e\\u043b\\u043e\\u0434\\u0438\\u043b\\u044c\\u043d\\u0438\\u043a\"}],\"color\":[\"#f22c40\"],\"fill_alpha\":[0.8],\"height\":[0.0005982754955506063],\"index\":[\"\\u0425\\u043e\\u043b\\u043e\\u0434\\u0438\\u043b\\u044c\\u043d\\u0438\\u043a\"],\"line_alpha\":[1.0],\"line_color\":[\"white\"],\"width\":[0.8],\"x\":[\"\\u0425\\u043e\\u043b\\u043e\\u0434\\u0438\\u043b\\u044c\\u043d\\u0438\\u043a\"],\"y\":[0.00029913774777530315]}},\"id\":\"85e86e9c-7b53-474d-9d50-4b3a46e78c02\",\"type\":\"ColumnDataSource\"},{\"attributes\":{\"fill_alpha\":{\"field\":\"fill_alpha\"},\"fill_color\":{\"field\":\"color\"},\"height\":{\"field\":\"height\",\"units\":\"data\"},\"line_color\":{\"field\":\"line_color\"},\"width\":{\"field\":\"width\",\"units\":\"data\"},\"x\":{\"field\":\"x\"},\"y\":{\"field\":\"y\"}},\"id\":\"7058feb5-ecc0-4231-b2b1-fc851c9315a1\",\"type\":\"Rect\"},{\"attributes\":{\"below\":[{\"id\":\"7abd4268-3dd2-44ca-b557-c4c38714b1b6\",\"type\":\"CategoricalAxis\"}],\"left\":[{\"id\":\"a14f6707-4a32-4cd0-abd7-6a0b71d1d533\",\"type\":\"LinearAxis\"}],\"legend\":null,\"plot_width\":1000,\"renderers\":[{\"id\":\"a7d47e4d-6cf0-4add-9387-f4d968baf05a\",\"type\":\"BoxAnnotation\"},{\"id\":\"4702a472-f2be-4a80-a700-c6d9f9fbcd8c\",\"type\":\"GlyphRenderer\"},{\"id\":\"179f94b5-7d11-4272-94b0-fe2db349a91f\",\"type\":\"GlyphRenderer\"},{\"id\":\"bfeea203-fab9-4f63-be18-acffc25dcd83\",\"type\":\"GlyphRenderer\"},{\"id\":\"aebbae0c-a911-4f5f-a7b8-b1d8d2b12078\",\"type\":\"GlyphRenderer\"},{\"id\":\"a18ae3af-66eb-4cfb-9212-36e62044dc4a\",\"type\":\"GlyphRenderer\"},{\"id\":\"b36ecd94-cb65-451d-ae5d-5e161a36cb9c\",\"type\":\"GlyphRenderer\"},{\"id\":\"23ff04cc-9517-49f6-bbc3-e88dd67d124a\",\"type\":\"GlyphRenderer\"},{\"id\":\"2cbb1704-ad39-47da-a11f-167c9f02c4c8\",\"type\":\"GlyphRenderer\"},{\"id\":\"85fefdaf-d35a-44a9-a342-c8c3a3cccb33\",\"type\":\"GlyphRenderer\"},{\"id\":\"fb2bd761-8ea1-4381-a99f-47272c2021e5\",\"type\":\"GlyphRenderer\"},{\"id\":\"2fb9a9dd-f6e7-4845-acf1-b6898ae59c09\",\"type\":\"GlyphRenderer\"},{\"id\":\"837c29b2-7460-48dd-a793-39eb90ec05b2\",\"type\":\"GlyphRenderer\"},{\"id\":\"04e4a26f-0a9d-43cd-bd36-e1f6b54dd9d5\",\"type\":\"GlyphRenderer\"},{\"id\":\"47773345-6c7f-4da8-b112-892bfd76c10b\",\"type\":\"GlyphRenderer\"},{\"id\":\"ba562921-4f48-4608-a7cb-d160f9f722e0\",\"type\":\"GlyphRenderer\"},{\"id\":\"f25553ec-8a69-4fd2-97e7-dd9b6590f953\",\"type\":\"GlyphRenderer\"},{\"id\":\"4590ef1f-b6ba-4496-bc8e-2a5cb10360c6\",\"type\":\"GlyphRenderer\"},{\"id\":\"b9ff37e5-0e87-4194-9476-c32600bc3a47\",\"type\":\"GlyphRenderer\"},{\"id\":\"fbcf8b1a-b3bb-4816-838f-f391d9d3a7fa\",\"type\":\"GlyphRenderer\"},{\"id\":\"65e6180a-5ffa-4671-b2b6-9a4cc2dd0318\",\"type\":\"GlyphRenderer\"},{\"id\":\"2f934793-bd40-4826-97ef-5b0ed05ddee4\",\"type\":\"GlyphRenderer\"},{\"id\":\"eb3afbc3-3bd5-4816-a131-cf96cac9fd84\",\"type\":\"GlyphRenderer\"},{\"id\":\"42642c66-bf63-4fe9-ad93-81fdf6bc0674\",\"type\":\"GlyphRenderer\"},{\"id\":\"3aa08953-92cd-4d56-af44-cdeb38015a5c\",\"type\":\"GlyphRenderer\"},{\"id\":\"e49212be-ee64-4900-a33b-9a9e4a2c33bc\",\"type\":\"GlyphRenderer\"},{\"id\":\"6d479ab9-dab0-432e-ae40-f9220e971b1c\",\"type\":\"GlyphRenderer\"},{\"id\":\"caf6db14-ad78-4364-94bc-6bb3e24c3ae5\",\"type\":\"GlyphRenderer\"},{\"id\":\"813a89e7-a834-4d8f-a404-7ac2dbb1f91a\",\"type\":\"GlyphRenderer\"},{\"id\":\"6de042f2-823a-4a1b-97ca-653580f29cf6\",\"type\":\"GlyphRenderer\"},{\"id\":\"2d5ebdb4-7d34-4a85-8fcc-5f88399f3312\",\"type\":\"GlyphRenderer\"},{\"id\":\"96efdeb8-5876-4304-8fc2-60199149c16a\",\"type\":\"GlyphRenderer\"},{\"id\":\"c7800afe-0088-48a6-b5ef-2bcdcd98cc58\",\"type\":\"GlyphRenderer\"},{\"id\":\"53e4a199-4118-4959-914a-ae6a49f13135\",\"type\":\"GlyphRenderer\"},{\"id\":\"1310404c-94ef-4ab7-9c79-d32c4316340e\",\"type\":\"GlyphRenderer\"},{\"id\":\"652f15d4-2515-4145-81c9-0c77023ada19\",\"type\":\"GlyphRenderer\"},{\"id\":\"7abd4268-3dd2-44ca-b557-c4c38714b1b6\",\"type\":\"CategoricalAxis\"},{\"id\":\"a14f6707-4a32-4cd0-abd7-6a0b71d1d533\",\"type\":\"LinearAxis\"},{\"id\":\"88260484-c9d8-4ffa-9411-bac965986137\",\"type\":\"Grid\"}],\"title_text_font_size\":{\"value\":\"14pt\"},\"tool_events\":{\"id\":\"e7e90cdb-0165-4c19-bf59-76cc95585991\",\"type\":\"ToolEvents\"},\"tools\":[{\"id\":\"f96dad45-109b-4050-924a-8cee11d59c03\",\"type\":\"PanTool\"},{\"id\":\"9ae37a1f-32db-4ed5-bfaf-4b3efd033289\",\"type\":\"WheelZoomTool\"},{\"id\":\"f6a185ab-d364-4be0-a7bd-6d40f0c0d686\",\"type\":\"BoxZoomTool\"},{\"id\":\"47956851-00b2-4f2f-a0ea-44c1fec2f56f\",\"type\":\"PreviewSaveTool\"},{\"id\":\"6b146bbd-43b6-4d44-ada0-ce41a75c530a\",\"type\":\"ResizeTool\"},{\"id\":\"17c1167d-a9ac-402f-b6da-2dc1ef2e97ad\",\"type\":\"ResetTool\"},{\"id\":\"69daa7f5-a1ec-455a-a6e6-291b04494811\",\"type\":\"HelpTool\"}],\"x_mapper_type\":\"auto\",\"x_range\":{\"id\":\"1536622a-265d-4532-b48d-6dfe051a32d0\",\"type\":\"FactorRange\"},\"xgrid\":false,\"xscale\":\"auto\",\"y_mapper_type\":\"auto\",\"y_range\":{\"id\":\"184af49b-11e8-49c3-93a8-bcad96505575\",\"type\":\"Range1d\"},\"yscale\":\"auto\"},\"id\":\"9d37cd6a-1308-4115-aac9-6e0be3c5d1fd\",\"subtype\":\"Chart\",\"type\":\"Plot\"},{\"attributes\":{\"bottom_units\":\"screen\",\"fill_alpha\":{\"value\":0.5},\"fill_color\":{\"value\":\"lightgrey\"},\"left_units\":\"screen\",\"level\":\"overlay\",\"line_alpha\":{\"value\":1.0},\"line_color\":{\"value\":\"black\"},\"line_dash\":[4,4],\"line_width\":{\"value\":2},\"plot\":null,\"render_mode\":\"css\",\"right_units\":\"screen\",\"top_units\":\"screen\"},\"id\":\"a7d47e4d-6cf0-4add-9387-f4d968baf05a\",\"type\":\"BoxAnnotation\"},{\"attributes\":{\"fill_alpha\":{\"field\":\"fill_alpha\"},\"fill_color\":{\"field\":\"color\"},\"height\":{\"field\":\"height\",\"units\":\"data\"},\"line_color\":{\"field\":\"line_color\"},\"width\":{\"field\":\"width\",\"units\":\"data\"},\"x\":{\"field\":\"x\"},\"y\":{\"field\":\"y\"}},\"id\":\"2a2a6114-30b4-49b3-95ee-241ee2944df5\",\"type\":\"Rect\"},{\"attributes\":{\"callback\":null,\"column_names\":[\"color\",\"line_alpha\",\"fill_alpha\",\"y\",\"x\",\"height\",\"line_color\",\"width\"],\"data\":{\"chart_index\":[{\"index\":\"\\u041f\\u0430\\u043b\\u044c\\u0442\\u043e\"}],\"color\":[\"#f22c40\"],\"fill_alpha\":[0.8],\"height\":[0.0007453777163456579],\"index\":[\"\\u041f\\u0430\\u043b\\u044c\\u0442\\u043e\"],\"line_alpha\":[1.0],\"line_color\":[\"white\"],\"width\":[0.8],\"x\":[\"\\u041f\\u0430\\u043b\\u044c\\u0442\\u043e\"],\"y\":[0.00037268885817282895]}},\"id\":\"c5e5ece7-1c15-41f9-98cf-a55a3e4cb775\",\"type\":\"ColumnDataSource\"},{\"attributes\":{\"fill_alpha\":{\"field\":\"fill_alpha\"},\"fill_color\":{\"field\":\"color\"},\"height\":{\"field\":\"height\",\"units\":\"data\"},\"line_color\":{\"field\":\"line_color\"},\"width\":{\"field\":\"width\",\"units\":\"data\"},\"x\":{\"field\":\"x\"},\"y\":{\"field\":\"y\"}},\"id\":\"97ee6dc2-007a-4078-bee1-657ad2e479e7\",\"type\":\"Rect\"},{\"attributes\":{\"data_source\":{\"id\":\"78a2906e-f42d-4551-a18b-4316a83c14e2\",\"type\":\"ColumnDataSource\"},\"glyph\":{\"id\":\"9c45679c-4b26-4207-975d-bed20c48d8b6\",\"type\":\"Rect\"},\"hover_glyph\":null,\"nonselection_glyph\":null,\"selection_glyph\":null},\"id\":\"6d479ab9-dab0-432e-ae40-f9220e971b1c\",\"type\":\"GlyphRenderer\"},{\"attributes\":{\"callback\":null,\"column_names\":[\"color\",\"line_alpha\",\"fill_alpha\",\"y\",\"x\",\"height\",\"line_color\",\"width\"],\"data\":{\"chart_index\":[{\"index\":\"\\u041d\\u043e\\u0440\\u043a\\u043e\\u0432\\u0430\\u044f \\u0448\\u0443\\u0431\\u0430\"}],\"color\":[\"#f22c40\"],\"fill_alpha\":[0.8],\"height\":[0.0007244485385902644],\"index\":[\"\\u041d\\u043e\\u0440\\u043a\\u043e\\u0432\\u0430\\u044f \\u0448\\u0443\\u0431\\u0430\"],\"line_alpha\":[1.0],\"line_color\":[\"white\"],\"width\":[0.8],\"x\":[\"\\u041d\\u043e\\u0440\\u043a\\u043e\\u0432\\u0430\\u044f \\u0448\\u0443\\u0431\\u0430\"],\"y\":[0.0003622242692951322]}},\"id\":\"fa4d0c7b-6704-4e2c-88ec-508840f93e4b\",\"type\":\"ColumnDataSource\"},{\"attributes\":{\"callback\":null,\"column_names\":[\"color\",\"line_alpha\",\"fill_alpha\",\"y\",\"x\",\"height\",\"line_color\",\"width\"],\"data\":{\"chart_index\":[{\"index\":\"\\u041f\\u0440\\u043e\\u0434\\u0430\\u0432\\u0435\\u0446\"}],\"color\":[\"#f22c40\"],\"fill_alpha\":[0.8],\"height\":[0.0007567392699843001],\"index\":[\"\\u041f\\u0440\\u043e\\u0434\\u0430\\u0432\\u0435\\u0446\"],\"line_alpha\":[1.0],\"line_color\":[\"white\"],\"width\":[0.8],\"x\":[\"\\u041f\\u0440\\u043e\\u0434\\u0430\\u0432\\u0435\\u0446\"],\"y\":[0.00037836963499215004]}},\"id\":\"2f336a73-af42-4547-bd5d-3956181de438\",\"type\":\"ColumnDataSource\"},{\"attributes\":{},\"id\":\"e7e90cdb-0165-4c19-bf59-76cc95585991\",\"type\":\"ToolEvents\"},{\"attributes\":{\"fill_alpha\":{\"field\":\"fill_alpha\"},\"fill_color\":{\"field\":\"color\"},\"height\":{\"field\":\"height\",\"units\":\"data\"},\"line_color\":{\"field\":\"line_color\"},\"width\":{\"field\":\"width\",\"units\":\"data\"},\"x\":{\"field\":\"x\"},\"y\":{\"field\":\"y\"}},\"id\":\"afa7f169-eec2-46b0-bd01-39c1583cea3e\",\"type\":\"Rect\"}],\"root_ids\":[\"9d37cd6a-1308-4115-aac9-6e0be3c5d1fd\"]},\"title\":\"Bokeh Application\",\"version\":\"0.11.1\"}};\n",
       "            var render_items = [{\"docid\":\"1fa7f464-ee25-4221-92ed-8e51619aa469\",\"elementid\":\"eced2996-7707-4595-9b7c-013a235e0b7d\",\"modelid\":\"9d37cd6a-1308-4115-aac9-6e0be3c5d1fd\",\"notebook_comms_target\":\"8a24f078-80db-4edd-9878-ccd72d882bff\"}];\n",
       "            \n",
       "            Bokeh.embed.embed_items(docs_json, render_items);\n",
       "        });\n",
       "      },\n",
       "      function(Bokeh) {\n",
       "      }\n",
       "    ];\n",
       "  \n",
       "    function run_inline_js() {\n",
       "      for (var i = 0; i < inline_js.length; i++) {\n",
       "        inline_js[i](window.Bokeh);\n",
       "      }\n",
       "    }\n",
       "  \n",
       "    if (window._bokeh_is_loading === 0) {\n",
       "      console.log(\"Bokeh: BokehJS loaded, going straight to plotting\");\n",
       "      run_inline_js();\n",
       "    } else {\n",
       "      load_libs(js_urls, function() {\n",
       "        console.log(\"Bokeh: BokehJS plotting callback run at\", now());\n",
       "        run_inline_js();\n",
       "      });\n",
       "    }\n",
       "  }(this));\n",
       "</script>"
      ]
     },
     "metadata": {},
     "output_type": "display_data"
    },
    {
     "data": {
      "text/html": [
       "<p><code>&lt;Bokeh Notebook handle for <strong>In[44]</strong>&gt;</code></p>"
      ],
      "text/plain": [
       "<bokeh.io._CommsHandle at 0x7f9020b7c908>"
      ]
     },
     "execution_count": 44,
     "metadata": {},
     "output_type": "execute_result"
    }
   ],
   "source": [
    "p = Bar(title_freq_high, plot_width=1000)\n",
    "show(p)"
   ]
  },
  {
   "cell_type": "code",
   "execution_count": 46,
   "metadata": {
    "collapsed": true
   },
   "outputs": [],
   "source": [
    "title_freq_freq = item_info_train.title.value_counts().value_counts()"
   ]
  },
  {
   "cell_type": "code",
   "execution_count": 47,
   "metadata": {
    "collapsed": false
   },
   "outputs": [
    {
     "data": {
      "text/plain": [
       "<matplotlib.axes._subplots.AxesSubplot at 0x7f9020b635f8>"
      ]
     },
     "execution_count": 47,
     "metadata": {},
     "output_type": "execute_result"
    },
    {
     "data": {
      "image/png": "[encoded data removed]",
      "text/plain": [
       "<matplotlib.figure.Figure at 0x7f9020b7ca90>"
      ]
     },
     "metadata": {},
     "output_type": "display_data"
    }
   ],
   "source": [
    "title_freq_freq.plot(logx=True)"
   ]
  },
  {
   "cell_type": "code",
   "execution_count": 48,
   "metadata": {
    "collapsed": true
   },
   "outputs": [],
   "source": [
    "from util import df_sample_n"
   ]
  },
  {
   "cell_type": "code",
   "execution_count": 49,
   "metadata": {
    "collapsed": false
   },
   "outputs": [
    {
     "data": {
      "text/html": [
       "<div>\n",
       "<table border=\"1\" class=\"dataframe\">\n",
       "  <thead>\n",
       "    <tr style=\"text-align: right;\">\n",
       "      <th></th>\n",
       "      <th>itemID_1</th>\n",
       "      <th>itemID_2</th>\n",
       "      <th>isDuplicate</th>\n",
       "      <th>generationMethod</th>\n",
       "    </tr>\n",
       "  </thead>\n",
       "  <tbody>\n",
       "    <tr>\n",
       "      <th>1461501</th>\n",
       "      <td>1726575</td>\n",
       "      <td>4369469</td>\n",
       "      <td>0</td>\n",
       "      <td>1</td>\n",
       "    </tr>\n",
       "    <tr>\n",
       "      <th>2661617</th>\n",
       "      <td>4069878</td>\n",
       "      <td>5216887</td>\n",
       "      <td>0</td>\n",
       "      <td>3</td>\n",
       "    </tr>\n",
       "    <tr>\n",
       "      <th>2133634</th>\n",
       "      <td>2822325</td>\n",
       "      <td>5102216</td>\n",
       "      <td>1</td>\n",
       "      <td>1</td>\n",
       "    </tr>\n",
       "    <tr>\n",
       "      <th>2303235</th>\n",
       "      <td>3165159</td>\n",
       "      <td>3985421</td>\n",
       "      <td>1</td>\n",
       "      <td>1</td>\n",
       "    </tr>\n",
       "    <tr>\n",
       "      <th>1392564</th>\n",
       "      <td>1629096</td>\n",
       "      <td>4602213</td>\n",
       "      <td>0</td>\n",
       "      <td>3</td>\n",
       "    </tr>\n",
       "  </tbody>\n",
       "</table>\n",
       "</div>"
      ],
      "text/plain": [
       "         itemID_1  itemID_2  isDuplicate  generationMethod\n",
       "1461501   1726575   4369469            0                 1\n",
       "2661617   4069878   5216887            0                 3\n",
       "2133634   2822325   5102216            1                 1\n",
       "2303235   3165159   3985421            1                 1\n",
       "1392564   1629096   4602213            0                 3"
      ]
     },
     "execution_count": 49,
     "metadata": {},
     "output_type": "execute_result"
    }
   ],
   "source": [
    "df_sample_n(item_pairs_train, 5, 12)"
   ]
  },
  {
   "cell_type": "code",
   "execution_count": 50,
   "metadata": {
    "collapsed": false
   },
   "outputs": [
    {
     "data": {
      "text/html": [
       "<!DOCTYPE html>\n",
       "\n",
       "<head>\n",
       "    <meta charset=\"UTF-8\">\n",
       "    <title>item pair: 2822325, 5102216</title>\n",
       "    <style>\n",
       "        \n",
       "        .item_info_container{\n",
       "            display:flex;\n",
       "        }\n",
       "        .item_info{\n",
       "            width: 50%;\n",
       "        }\n",
       "        .item_info\n",
       "    </style>\n",
       "</head>\n",
       "<body>\n",
       "<div class=\"item_info_container\">\n",
       "    <div class=\"item_info\">\n",
       "        <h1>itemID: 2822325</h1>\n",
       "        \n",
       "<h2>title</h2>\n",
       "Смартфон Билайн Фаст\n",
       "<h2>description</h2>\n",
       "Срочно породам\n",
       "Отличны состояний \n",
       "Новый телефон \n",
       "Ест гарантиях\n",
       "Комплекте все ест\n",
       "\n",
       "Звонок послы 17:00 приму \n",
       "\n",
       "Плёнка чехол \n",
       "Все комплект коробка документы\n",
       "гарантий талон все ест\n",
       "\n",
       "Технические характеристики смартфона Билайн Фаст:\n",
       "\n",
       "Операционная система: Google Android 5.1 (Lollipop)\n",
       "Процессор: 1.0 GHz, 4-ядерный, MediaTek MT6735M\n",
       "Память: 1 Gb (RAM) + 8 Gb (ROM), поддержка карт памяти microSDHC до 32 Gb\n",
       "Экран: IPS, 5\", 480x854 пикселей, 16 млн. цветов, мультитач 5 точек\n",
       "Камера: 5 MPix (автофокус) - основная, 2 MPix - фронтальная\n",
       "Разъем для подключения аудио: стандартный 3.5 мм\n",
       "Разъем для SIM-карты: mini-SIM\n",
       "Стандарты и диапазоны: GSM 900/1800 MHz, UMTS 900/2100 MHz, LTE B3/B7/B20\n",
       "Скорость приема / передачи данных: до 150/50 Mbit/s (указанные скорости доступны при использовании технологии LTE и являются теоретическим максимумом)\n",
       "Беспроводные технологии: BT 4.0, Wi-Fi 802.11 a/b/g/n (2.4/5 GHz)\n",
       "Навигационные возможности: GPS, A-GPS\n",
       "Коммуникации: голосовые вызовы, прием / передача сообщений SMS и MMS\n",
       "Батарея: 2200 мА·ч\n",
       " цвета: чёрный \n",
       "\n",
       "Смартфон Билайн Фаст\n",
       "<h2>categoryID</h2>\n",
       "84\n",
       "<h2>price</h2>\n",
       "5005.0\n",
       "<h2> locationID</h2>\n",
       "650310\n",
       "<h2> location </h2>\n",
       "<a href=\"https://maps.google.com/?q=54.531633,52.800672999999996\">54.531633, 52.800672999999996</a>\n",
       "<h2> metroID </h2>\n",
       "nan\n",
       "<h2> attrsJSON </h2>\n",
       "<dl>\n",
       "    \n",
       "    <dt>Вид телефона</dt> <dd>Другие марки</dd>\n",
       "    \n",
       "</dl>\n",
       "\n",
       "    </div>\n",
       "    <div class=\"item_info\">\n",
       "        <h1>itemID: 5102216</h1>\n",
       "        \n",
       "<h2>title</h2>\n",
       "Билайн Фаст\n",
       "<h2>description</h2>\n",
       "Срочно породам\n",
       "Ест гарантиях\n",
       "Комплекте все ест\n",
       "\n",
       "Звонок послы 17:00 приму \n",
       "\n",
       "Плёнка чехол \n",
       "Все комплект коробка документы\n",
       "гарантий талон все ест\n",
       "\n",
       "Технические характеристики смартфона Билайн Фаст:\n",
       "\n",
       "Операционная система: Google Android 5.1 (Lollipop)\n",
       "Процессор: 1.0 GHz, 4-ядерный, MediaTek MT6735M\n",
       "Память: 1 Gb (RAM) + 8 Gb (ROM), поддержка карт памяти microSDHC до 32 Gb\n",
       "Экран: IPS, 5\", 480x854 пикселей, 16 млн. цветов, мультитач 5 точек\n",
       "Камера: 5 MPix (автофокус) - основная, 2 MPix - фронтальная\n",
       "Разъем для подключения аудио: стандартный 3.5 мм\n",
       "Разъем для SIM-карты: mini-SIM\n",
       "Стандарты и диапазоны: GSM 900/1800 MHz, UMTS 900/2100 MHz, LTE B3/B7/B20\n",
       "Скорость приема / передачи данных: до 150/50 Mbit/s (указанные скорости доступны при использовании технологии LTE и являются теоретическим максимумом)\n",
       "Беспроводные технологии: BT 4.0, Wi-Fi 802.11 a/b/g/n (2.4/5 GHz)\n",
       "Навигационные возможности: GPS, A-GPS\n",
       "Коммуникации: голосовые вызовы, прием / передача сообщений SMS и MMS\n",
       "Батарея: 2200 мА·ч\n",
       " цвета: чёрный \n",
       "\n",
       "Смартфон Билайн Фаст\n",
       "<h2>categoryID</h2>\n",
       "84\n",
       "<h2>price</h2>\n",
       "5555.0\n",
       "<h2> locationID</h2>\n",
       "650310\n",
       "<h2> location </h2>\n",
       "<a href=\"https://maps.google.com/?q=54.531633,52.800672999999996\">54.531633, 52.800672999999996</a>\n",
       "<h2> metroID </h2>\n",
       "nan\n",
       "<h2> attrsJSON </h2>\n",
       "<dl>\n",
       "    \n",
       "    <dt>Вид телефона</dt> <dd>Другие марки</dd>\n",
       "    \n",
       "</dl>\n",
       "\n",
       "    </div>\n",
       "</div>\n",
       "</body>\n",
       "</html>"
      ],
      "text/plain": [
       "<IPython.core.display.HTML object>"
      ]
     },
     "execution_count": 50,
     "metadata": {},
     "output_type": "execute_result"
    }
   ],
   "source": [
    "show_item_pair(2822325, 5102216)"
   ]
  },
  {
   "cell_type": "code",
   "execution_count": 51,
   "metadata": {
    "collapsed": false
   },
   "outputs": [
    {
     "data": {
      "text/html": [
       "<div>\n",
       "<table border=\"1\" class=\"dataframe\">\n",
       "  <thead>\n",
       "    <tr style=\"text-align: right;\">\n",
       "      <th></th>\n",
       "      <th>itemID_1</th>\n",
       "      <th>itemID_2</th>\n",
       "      <th>isDuplicate</th>\n",
       "      <th>generationMethod</th>\n",
       "    </tr>\n",
       "  </thead>\n",
       "  <tbody>\n",
       "    <tr>\n",
       "      <th>2831307</th>\n",
       "      <td>4691336</td>\n",
       "      <td>4857731</td>\n",
       "      <td>1</td>\n",
       "      <td>3</td>\n",
       "    </tr>\n",
       "    <tr>\n",
       "      <th>722032</th>\n",
       "      <td>781106</td>\n",
       "      <td>2134253</td>\n",
       "      <td>1</td>\n",
       "      <td>3</td>\n",
       "    </tr>\n",
       "    <tr>\n",
       "      <th>1435319</th>\n",
       "      <td>1688845</td>\n",
       "      <td>6002197</td>\n",
       "      <td>1</td>\n",
       "      <td>3</td>\n",
       "    </tr>\n",
       "    <tr>\n",
       "      <th>1299278</th>\n",
       "      <td>1502002</td>\n",
       "      <td>5856886</td>\n",
       "      <td>1</td>\n",
       "      <td>3</td>\n",
       "    </tr>\n",
       "    <tr>\n",
       "      <th>2667967</th>\n",
       "      <td>4089079</td>\n",
       "      <td>4484153</td>\n",
       "      <td>1</td>\n",
       "      <td>3</td>\n",
       "    </tr>\n",
       "  </tbody>\n",
       "</table>\n",
       "</div>"
      ],
      "text/plain": [
       "         itemID_1  itemID_2  isDuplicate  generationMethod\n",
       "2831307   4691336   4857731            1                 3\n",
       "722032     781106   2134253            1                 3\n",
       "1435319   1688845   6002197            1                 3\n",
       "1299278   1502002   5856886            1                 3\n",
       "2667967   4089079   4484153            1                 3"
      ]
     },
     "execution_count": 51,
     "metadata": {},
     "output_type": "execute_result"
    }
   ],
   "source": [
    "df_sample_n(item_pairs_train[(item_pairs_train.generationMethod==3) & (item_pairs_train.isDuplicate==1)] , 5, 12)"
   ]
  },
  {
   "cell_type": "code",
   "execution_count": 52,
   "metadata": {
    "collapsed": false
   },
   "outputs": [
    {
     "data": {
      "text/html": [
       "<!DOCTYPE html>\n",
       "\n",
       "<head>\n",
       "    <meta charset=\"UTF-8\">\n",
       "    <title>item pair: 4691336, 4857731</title>\n",
       "    <style>\n",
       "        \n",
       "        .item_info_container{\n",
       "            display:flex;\n",
       "        }\n",
       "        .item_info{\n",
       "            width: 50%;\n",
       "        }\n",
       "        .item_info\n",
       "    </style>\n",
       "</head>\n",
       "<body>\n",
       "<div class=\"item_info_container\">\n",
       "    <div class=\"item_info\">\n",
       "        <h1>itemID: 4691336</h1>\n",
       "        \n",
       "<h2>title</h2>\n",
       "Велосипед 26\" \"Азимут\"\n",
       "<h2>description</h2>\n",
       "Велосипед горный в отличном состоянии.\n",
       "Пер.тормоз - дисковый. Задний - обводной.\n",
       "<h2>categoryID</h2>\n",
       "34\n",
       "<h2>price</h2>\n",
       "7000.0\n",
       "<h2> locationID</h2>\n",
       "640160\n",
       "<h2> location </h2>\n",
       "<a href=\"https://maps.google.com/?q=68.963254,33.077918\">68.963254, 33.077918</a>\n",
       "<h2> metroID </h2>\n",
       "nan\n",
       "<h2> attrsJSON </h2>\n",
       "<dl>\n",
       "    \n",
       "    <dt>Вид велосипеда</dt> <dd>Горные</dd>\n",
       "    \n",
       "</dl>\n",
       "\n",
       "    </div>\n",
       "    <div class=\"item_info\">\n",
       "        <h1>itemID: 4857731</h1>\n",
       "        \n",
       "<h2>title</h2>\n",
       "Азимут 26\"\n",
       "<h2>description</h2>\n",
       "Велосипед в отличном состоянии.\n",
       "Azimut Mystic A-FD 26\" - подробная техническая информация в интернете. Отвечу на любой вопрос. Звоните.\n",
       "<h2>categoryID</h2>\n",
       "34\n",
       "<h2>price</h2>\n",
       "6510.0\n",
       "<h2> locationID</h2>\n",
       "640160\n",
       "<h2> location </h2>\n",
       "<a href=\"https://maps.google.com/?q=68.963254,33.077918\">68.963254, 33.077918</a>\n",
       "<h2> metroID </h2>\n",
       "nan\n",
       "<h2> attrsJSON </h2>\n",
       "<dl>\n",
       "    \n",
       "    <dt>Вид велосипеда</dt> <dd>Горные</dd>\n",
       "    \n",
       "</dl>\n",
       "\n",
       "    </div>\n",
       "</div>\n",
       "</body>\n",
       "</html>"
      ],
      "text/plain": [
       "<IPython.core.display.HTML object>"
      ]
     },
     "execution_count": 52,
     "metadata": {},
     "output_type": "execute_result"
    }
   ],
   "source": [
    "show_item_pair(4691336, 4857731)"
   ]
  },
  {
   "cell_type": "markdown",
   "metadata": {},
   "source": [
    "# geo location"
   ]
  },
  {
   "cell_type": "code",
   "execution_count": 53,
   "metadata": {
    "collapsed": false
   },
   "outputs": [
    {
     "name": "stderr",
     "output_type": "stream",
     "text": [
      "/home/idm/.local/anaconda3/lib/python3.5/site-packages/ipykernel/__main__.py:1: FutureWarning: order is deprecated, use sort_values(...)\n",
      "  if __name__ == '__main__':\n"
     ]
    }
   ],
   "source": [
    "lat_lon_freq = item_info_train.groupby(['lat', 'lon'])['title'].count().order(ascending=False).reset_index().rename(columns={'title': 'count'})"
   ]
  },
  {
   "cell_type": "code",
   "execution_count": 54,
   "metadata": {
    "collapsed": true
   },
   "outputs": [],
   "source": [
    "lat_lon_freq['ratio'] = lat_lon_freq['count']/item_info_train.shape[0]\n",
    "lat_lon_freq['size'] = 50*lat_lon_freq['ratio']**(1/3)"
   ]
  },
  {
   "cell_type": "code",
   "execution_count": 55,
   "metadata": {
    "collapsed": false
   },
   "outputs": [
    {
     "data": {
      "text/html": [
       "<div>\n",
       "<table border=\"1\" class=\"dataframe\">\n",
       "  <thead>\n",
       "    <tr style=\"text-align: right;\">\n",
       "      <th></th>\n",
       "      <th>lat</th>\n",
       "      <th>lon</th>\n",
       "      <th>count</th>\n",
       "      <th>ratio</th>\n",
       "      <th>size</th>\n",
       "    </tr>\n",
       "  </thead>\n",
       "  <tbody>\n",
       "    <tr>\n",
       "      <th>0</th>\n",
       "      <td>55.777170</td>\n",
       "      <td>37.586194</td>\n",
       "      <td>480356</td>\n",
       "      <td>0.143621</td>\n",
       "      <td>26.184390</td>\n",
       "    </tr>\n",
       "    <tr>\n",
       "      <th>1</th>\n",
       "      <td>55.753653</td>\n",
       "      <td>37.619800</td>\n",
       "      <td>127167</td>\n",
       "      <td>0.038021</td>\n",
       "      <td>16.813038</td>\n",
       "    </tr>\n",
       "    <tr>\n",
       "      <th>2</th>\n",
       "      <td>45.034942</td>\n",
       "      <td>38.976032</td>\n",
       "      <td>65366</td>\n",
       "      <td>0.019544</td>\n",
       "      <td>13.468070</td>\n",
       "    </tr>\n",
       "    <tr>\n",
       "      <th>3</th>\n",
       "      <td>47.227151</td>\n",
       "      <td>39.744972</td>\n",
       "      <td>51283</td>\n",
       "      <td>0.015333</td>\n",
       "      <td>12.421647</td>\n",
       "    </tr>\n",
       "    <tr>\n",
       "      <th>4</th>\n",
       "      <td>54.738437</td>\n",
       "      <td>55.983161</td>\n",
       "      <td>42980</td>\n",
       "      <td>0.012851</td>\n",
       "      <td>11.711437</td>\n",
       "    </tr>\n",
       "    <tr>\n",
       "      <th>5</th>\n",
       "      <td>55.152161</td>\n",
       "      <td>61.387103</td>\n",
       "      <td>39926</td>\n",
       "      <td>0.011937</td>\n",
       "      <td>11.427204</td>\n",
       "    </tr>\n",
       "    <tr>\n",
       "      <th>6</th>\n",
       "      <td>59.938806</td>\n",
       "      <td>30.314278</td>\n",
       "      <td>36090</td>\n",
       "      <td>0.010790</td>\n",
       "      <td>11.048848</td>\n",
       "    </tr>\n",
       "    <tr>\n",
       "      <th>7</th>\n",
       "      <td>58.004785</td>\n",
       "      <td>56.237654</td>\n",
       "      <td>30679</td>\n",
       "      <td>0.009173</td>\n",
       "      <td>10.466507</td>\n",
       "    </tr>\n",
       "    <tr>\n",
       "      <th>8</th>\n",
       "      <td>42.983106</td>\n",
       "      <td>47.504978</td>\n",
       "      <td>30347</td>\n",
       "      <td>0.009073</td>\n",
       "      <td>10.428615</td>\n",
       "    </tr>\n",
       "    <tr>\n",
       "      <th>9</th>\n",
       "      <td>48.707793</td>\n",
       "      <td>44.515942</td>\n",
       "      <td>28661</td>\n",
       "      <td>0.008569</td>\n",
       "      <td>10.231795</td>\n",
       "    </tr>\n",
       "    <tr>\n",
       "      <th>10</th>\n",
       "      <td>51.662496</td>\n",
       "      <td>39.204096</td>\n",
       "      <td>27649</td>\n",
       "      <td>0.008267</td>\n",
       "      <td>10.109923</td>\n",
       "    </tr>\n",
       "    <tr>\n",
       "      <th>11</th>\n",
       "      <td>51.537652</td>\n",
       "      <td>46.004549</td>\n",
       "      <td>27137</td>\n",
       "      <td>0.008114</td>\n",
       "      <td>10.047129</td>\n",
       "    </tr>\n",
       "    <tr>\n",
       "      <th>12</th>\n",
       "      <td>54.710303</td>\n",
       "      <td>20.510784</td>\n",
       "      <td>24679</td>\n",
       "      <td>0.007379</td>\n",
       "      <td>9.734132</td>\n",
       "    </tr>\n",
       "    <tr>\n",
       "      <th>13</th>\n",
       "      <td>55.786764</td>\n",
       "      <td>49.122853</td>\n",
       "      <td>24075</td>\n",
       "      <td>0.007198</td>\n",
       "      <td>9.654063</td>\n",
       "    </tr>\n",
       "    <tr>\n",
       "      <th>14</th>\n",
       "      <td>54.990147</td>\n",
       "      <td>73.365319</td>\n",
       "      <td>24004</td>\n",
       "      <td>0.007177</td>\n",
       "      <td>9.644564</td>\n",
       "    </tr>\n",
       "    <tr>\n",
       "      <th>15</th>\n",
       "      <td>56.008691</td>\n",
       "      <td>92.870529</td>\n",
       "      <td>20607</td>\n",
       "      <td>0.006161</td>\n",
       "      <td>9.166277</td>\n",
       "    </tr>\n",
       "    <tr>\n",
       "      <th>16</th>\n",
       "      <td>45.042903</td>\n",
       "      <td>41.965158</td>\n",
       "      <td>19667</td>\n",
       "      <td>0.005880</td>\n",
       "      <td>9.024727</td>\n",
       "    </tr>\n",
       "    <tr>\n",
       "      <th>17</th>\n",
       "      <td>43.331830</td>\n",
       "      <td>45.644864</td>\n",
       "      <td>19556</td>\n",
       "      <td>0.005847</td>\n",
       "      <td>9.007717</td>\n",
       "    </tr>\n",
       "    <tr>\n",
       "      <th>18</th>\n",
       "      <td>53.511311</td>\n",
       "      <td>49.418084</td>\n",
       "      <td>19242</td>\n",
       "      <td>0.005753</td>\n",
       "      <td>8.959246</td>\n",
       "    </tr>\n",
       "    <tr>\n",
       "      <th>19</th>\n",
       "      <td>51.768060</td>\n",
       "      <td>55.097449</td>\n",
       "      <td>18465</td>\n",
       "      <td>0.005521</td>\n",
       "      <td>8.836992</td>\n",
       "    </tr>\n",
       "  </tbody>\n",
       "</table>\n",
       "</div>"
      ],
      "text/plain": [
       "          lat        lon   count     ratio       size\n",
       "0   55.777170  37.586194  480356  0.143621  26.184390\n",
       "1   55.753653  37.619800  127167  0.038021  16.813038\n",
       "2   45.034942  38.976032   65366  0.019544  13.468070\n",
       "3   47.227151  39.744972   51283  0.015333  12.421647\n",
       "4   54.738437  55.983161   42980  0.012851  11.711437\n",
       "5   55.152161  61.387103   39926  0.011937  11.427204\n",
       "6   59.938806  30.314278   36090  0.010790  11.048848\n",
       "7   58.004785  56.237654   30679  0.009173  10.466507\n",
       "8   42.983106  47.504978   30347  0.009073  10.428615\n",
       "9   48.707793  44.515942   28661  0.008569  10.231795\n",
       "10  51.662496  39.204096   27649  0.008267  10.109923\n",
       "11  51.537652  46.004549   27137  0.008114  10.047129\n",
       "12  54.710303  20.510784   24679  0.007379   9.734132\n",
       "13  55.786764  49.122853   24075  0.007198   9.654063\n",
       "14  54.990147  73.365319   24004  0.007177   9.644564\n",
       "15  56.008691  92.870529   20607  0.006161   9.166277\n",
       "16  45.042903  41.965158   19667  0.005880   9.024727\n",
       "17  43.331830  45.644864   19556  0.005847   9.007717\n",
       "18  53.511311  49.418084   19242  0.005753   8.959246\n",
       "19  51.768060  55.097449   18465  0.005521   8.836992"
      ]
     },
     "execution_count": 55,
     "metadata": {},
     "output_type": "execute_result"
    }
   ],
   "source": [
    "lat_lon_freq.head(20)"
   ]
  },
  {
   "cell_type": "code",
   "execution_count": 56,
   "metadata": {
    "collapsed": false
   },
   "outputs": [
    {
     "data": {
      "text/html": [
       "\n",
       "\n",
       "    <div class=\"plotdiv\" id=\"31e8edbb-7714-400b-8148-8a6c6d6a11c2\"></div>\n",
       "<script type=\"text/javascript\">\n",
       "  \n",
       "  (function(global) {\n",
       "    function now() {\n",
       "      return new Date();\n",
       "    }\n",
       "  \n",
       "    if (typeof (window._bokeh_onload_callbacks) === \"undefined\") {\n",
       "      window._bokeh_onload_callbacks = [];\n",
       "    }\n",
       "  \n",
       "    function run_callbacks() {\n",
       "      window._bokeh_onload_callbacks.forEach(function(callback) { callback() });\n",
       "      delete window._bokeh_onload_callbacks\n",
       "      console.info(\"Bokeh: all callbacks have finished\");\n",
       "    }\n",
       "  \n",
       "    function load_libs(js_urls, callback) {\n",
       "      window._bokeh_onload_callbacks.push(callback);\n",
       "      if (window._bokeh_is_loading > 0) {\n",
       "        console.log(\"Bokeh: BokehJS is being loaded, scheduling callback at\", now());\n",
       "        return null;\n",
       "      }\n",
       "      if (js_urls == null || js_urls.length === 0) {\n",
       "        run_callbacks();\n",
       "        return null;\n",
       "      }\n",
       "      console.log(\"Bokeh: BokehJS not loaded, scheduling load and callback at\", now());\n",
       "      window._bokeh_is_loading = js_urls.length;\n",
       "      for (var i = 0; i < js_urls.length; i++) {\n",
       "        var url = js_urls[i];\n",
       "        var s = document.createElement('script');\n",
       "        s.src = url;\n",
       "        s.async = false;\n",
       "        s.onreadystatechange = s.onload = function() {\n",
       "          window._bokeh_is_loading--;\n",
       "          if (window._bokeh_is_loading === 0) {\n",
       "            console.log(\"Bokeh: all BokehJS libraries loaded\");\n",
       "            run_callbacks()\n",
       "          }\n",
       "        };\n",
       "        s.onerror = function() {\n",
       "          console.warn(\"failed to load library \" + url);\n",
       "        };\n",
       "        console.log(\"Bokeh: injecting script tag for BokehJS library: \", url);\n",
       "        document.getElementsByTagName(\"head\")[0].appendChild(s);\n",
       "      }\n",
       "    };var element = document.getElementById(\"31e8edbb-7714-400b-8148-8a6c6d6a11c2\");\n",
       "    if (element == null) {\n",
       "      console.log(\"Bokeh: ERROR: autoload.js configured with elementid '31e8edbb-7714-400b-8148-8a6c6d6a11c2' but no matching script tag was found. \")\n",
       "      return false;\n",
       "    }\n",
       "  \n",
       "    var js_urls = [];\n",
       "  \n",
       "    var inline_js = [\n",
       "      function(Bokeh) {\n",
       "        Bokeh.$(function() {\n",
       "            var docs_json = {\"8e8df31e-5769-4c82-a94a-3bac9a275596\":{\"roots\":{\"references\":[{\"attributes\":{},\"id\":\"0497bda6-0970-462c-8291-3be53d51ea87\",\"type\":\"ToolEvents\"},{\"attributes\":{\"fill_alpha\":{\"value\":0.8},\"fill_color\":{\"value\":\"blue\"},\"line_color\":{\"value\":null},\"size\":{\"field\":\"size\",\"units\":\"screen\"},\"x\":{\"field\":\"lon\"},\"y\":{\"field\":\"lat\"}},\"id\":\"c55c89d4-e1c6-4851-b8af-38a8406333cd\",\"type\":\"Circle\"},{\"attributes\":{\"callback\":null},\"id\":\"ae33cf5b-0e54-43dc-bbcf-964bf04e2c78\",\"type\":\"DataRange1d\"},{\"attributes\":{\"map_options\":{\"lat\":55.77717,\"lng\":37.586194,\"zoom\":4},\"plot_width\":1000,\"renderers\":[{\"id\":\"93e07fb5-27d4-4183-a843-4dcbc2c23985\",\"type\":\"GlyphRenderer\"},{\"id\":\"e5909d78-03be-40bc-a019-9631a23df54b\",\"type\":\"BoxAnnotation\"}],\"title\":\"location\",\"tool_events\":{\"id\":\"0497bda6-0970-462c-8291-3be53d51ea87\",\"type\":\"ToolEvents\"},\"tools\":[{\"id\":\"48ffd432-ef05-4c3f-bddb-6fba5c66f184\",\"type\":\"PanTool\"},{\"id\":\"c1bf7ab5-0235-4d50-90f7-5154be28f050\",\"type\":\"WheelZoomTool\"},{\"id\":\"eba4ca2e-85b6-4158-ab44-85b186a83254\",\"type\":\"BoxSelectTool\"}],\"x_range\":{\"id\":\"ae33cf5b-0e54-43dc-bbcf-964bf04e2c78\",\"type\":\"DataRange1d\"},\"y_range\":{\"id\":\"020f037d-f974-4db5-bc15-871bbec29e0d\",\"type\":\"DataRange1d\"}},\"id\":\"401766a3-65ed-4bc7-a54f-f1c7f27f7019\",\"type\":\"GMapPlot\"},{\"attributes\":{\"bottom_units\":\"screen\",\"fill_alpha\":{\"value\":0.5},\"fill_color\":{\"value\":\"lightgrey\"},\"left_units\":\"screen\",\"level\":\"overlay\",\"line_alpha\":{\"value\":1.0},\"line_color\":{\"value\":\"black\"},\"line_dash\":[4,4],\"line_width\":{\"value\":2},\"plot\":null,\"render_mode\":\"css\",\"right_units\":\"screen\",\"top_units\":\"screen\"},\"id\":\"e5909d78-03be-40bc-a019-9631a23df54b\",\"type\":\"BoxAnnotation\"},{\"attributes\":{\"data_source\":{\"id\":\"701eba86-6959-4d76-a859-13dcdc80cec9\",\"type\":\"ColumnDataSource\"},\"glyph\":{\"id\":\"c55c89d4-e1c6-4851-b8af-38a8406333cd\",\"type\":\"Circle\"},\"hover_glyph\":null,\"nonselection_glyph\":null,\"selection_glyph\":null},\"id\":\"93e07fb5-27d4-4183-a843-4dcbc2c23985\",\"type\":\"GlyphRenderer\"},{\"attributes\":{\"plot\":{\"id\":\"401766a3-65ed-4bc7-a54f-f1c7f27f7019\",\"type\":\"GMapPlot\"}},\"id\":\"c1bf7ab5-0235-4d50-90f7-5154be28f050\",\"type\":\"WheelZoomTool\"},{\"attributes\":{\"callback\":null,\"column_names\":[\"lon\",\"index\",\"count\",\"ratio\",\"lat\",\"size\"],\"data\":{\"count\":[480356,127167,65366,51283,42980,39926,36090,30679,30347,28661,27649,27137,24679,24075,24004,20607,19667,19556,19242,18465,18398,18095,18039,17741,17322,17305,17220,16408,16317,16043,15185,15050,14987,14586,14504,14491,14091,13998,13871,13849,13714,13579,13475,12959,12895,12664,12197,12072,11889,11735,11622,11524,11502,11320,11152,10869,10693,10614,10570,10515,10437,10006,9755,9645,9568,9526,9471,9329,8966,8919,8791,8761,8723,8616,8435,8429,8341,8112,8058,7822,7815,7796,7784,7777,7766,7717,7635,7550,7532,7510,7477,7469,7386,7383,7382,7369,7366,7248,7213,7126,7082,6921,6800,6748,6724,6700,6694,6691,6585,6492,6384,6290,6271,6264,6233,6148,6096,6041,5987,5929,5891,5859,5756,5657,5651,5596,5581,5568,5560,5558,5540,5513,5451,5430,5416,5331,5263,5241,5220,5210,5162,5149,5146,5127,5124,5100,5089,5032,4901,4891,4848,4835,4834,4805,4800,4789,4770,4750,4703,4699,4673,4660,4637,4557,4539,4498,4475,4469,4463,4462,4438,4422,4408,4364,4343,4337,4315,4311,4263,4262,4217,4210,4194,4179,4152,4057,3999,3944,3837,3826,3806,3805,3803,3799,3710,3684,3626,3614,3571,3551,3544,3514,3428,3427,3421,3400,3362,3350,3340,3286,3267,3246,3223,3203,3202,3158,3147,3117,3106,3099,3082,3077,3067,3003,2999,2997,2969,2942,2935,2918,2912,2903,2901,2887,2869,2839,2827,2817,2815,2809,2806,2775,2774,2713,2695,2682,2658,2645,2639,2637,2628,2616,2594,2590,2571,2539,2526,2516,2506,2500,2470,2453,2446,2442,2402,2402,2384,2384,2356,2349,2322,2320,2313,2309,2274,2273,2253,2253,2235,2230,2227,2222,2221,2220,2216,2210,2166,2164,2147,2125,2117,2116,2107,2105,2101,2089,2053,2053,2048,2038,2030,2026,2022,2015,2015,2014,2011,2007,2001,1994,1989,1988,1979,1974,1965,1960,1938,1938,1927,1915,1906,1897,1895,1867,1866,1865,1858,1856,1852,1847,1840,1839,1825,1823,1819,1784,1760,1735,1729,1714,1700,1699,1693,1692,1689,1677,1657,1645,1606,1605,1601,1592,1561,1560,1560,1547,1535,1528,1526,1512,1512,1508,1497,1488,1484,1478,1478,1477,1473,1458,1450,1442,1434,1429,1424,1406,1398,1397,1390,1349,1344,1338,1328,1327,1325,1324,1317,1316,1314,1298,1295,1294,1293,1277,1270,1269,1259,1259,1256,1245,1240,1238,1236,1234,1234,1227,1224,1193,1173,1149,1137,1127,1122,1105,1102,1094,1079,1076,1034,1033,1031,1023,1020,1017,1014,1011,1011,1005,1001,998,997,990,986,983,980,980,979,974,969,968,965,963,962,960,956,956,952,951,942,941,935,925,924,920,913,907,905,897,897,896,890,876,876,874,868,865,861,859,856,839,833,829,825,823,823,818,811,807,804,796,793,784,782,780,775,774,769,763,761,757,748,747,747,746,742,737,736,731,728,722,720,715,714,709,696,693,691,690,689,688,687,677,675,674,671,670,668,667,660,658,657,656,651,641,637,633,632,630,624,620,617,616,612,608,599,598,595,593,592,591,591,584,576,569,564,563,556,554,553,549,546,542,541,539,526,524,521,516,516,513,512,511,511,493,489,487,486,483,479,477,476,473,472,471,467,466,456,449,446,446,444,441,433,430,427,426,422,420,419,417,416,416,412,406,406,404,404,402,400,400,398,397,396,393,391,390,389,388,387,385,382,382,381,381,380,380,380,378,377,376,374,371,370,369,368,368,366,363,361,358,358,357,356,356,353,353,352,351,350,350,349,347,347,345,344,344,343,342,341,339,339,336,335,334,331,328,326,325,324,324,323,320,320,313,309,308,308,307,307,306,306,305,305,304,303,302,302,302,302,301,295,294,291,291,288,287,287,286,285,285,285,283,283,283,283,281,280,278,278,277,276,275,274,273,271,270,269,268,268,267,266,265,265,265,263,262,259,258,258,258,257,256,256,253,253,248,246,245,244,243,241,241,241,240,240,239,238,235,234,233,233,233,231,231,231,231,230,229,228,228,228,227,227,226,224,223,223,222,221,220,220,220,218,218,217,217,217,216,216,215,214,210,207,206,205,204,204,202,201,200,199,198,196,196,194,194,192,192,191,191,190,188,188,183,183,183,183,182,182,181,181,180,178,177,176,176,176,175,174,174,173,172,171,171,170,170,170,169,168,168,167,165,164,163,162,161,160,160,159,159,157,157,157,156,156,156,155,155,153,153,152,152,151,151,151,151,150,149,149,149,148,148,148,148,147,147,147,146,146,146,146,145,145,145,145,144,144,143,143,143,143,142,141,141,141,140,140,139,139,138,137,136,136,136,136,135,135,134,134,134,133,132,132,132,131,131,131,131,130,130,130,130,128,126,126,125,125,125,125,124,124,122,122,122,121,121,121,121,120,120,120,120,120,120,119,119,118,118,118,118,118,118,118,117,117,117,116,115,115,115,114,114,114,114,113,113,113,112,111,111,111,111,109,108,108,108,108,108,107,107,107,107,106,106,106,106,106,105,105,105,105,105,105,104,104,103,103,103,103,102,102,102,100,100,100,100,99,99,98,98,98,98,98,97,97,97,96,96,96,96],\"index\":[0,1,2,3,4,5,6,7,8,9,10,11,12,13,14,15,16,17,18,19,20,21,22,23,24,25,26,27,28,29,30,31,32,33,34,35,36,37,38,39,40,41,42,43,44,45,46,47,48,49,50,51,52,53,54,55,56,57,58,59,60,61,62,63,64,65,66,67,68,69,70,71,72,73,74,75,76,77,78,79,80,81,82,83,84,85,86,87,88,89,90,91,92,93,94,95,96,97,98,99,100,101,102,103,104,105,106,107,108,109,110,111,112,113,114,115,116,117,118,119,120,121,122,123,124,125,126,127,128,129,130,131,132,133,134,135,136,137,138,139,140,141,142,143,144,145,146,147,148,149,150,151,152,153,154,155,156,157,158,159,160,161,162,163,164,165,166,167,168,169,170,171,172,173,174,175,176,177,178,179,180,181,182,183,184,185,186,187,188,189,190,191,192,193,194,195,196,197,198,199,200,201,202,203,204,205,206,207,208,209,210,211,212,213,214,215,216,217,218,219,220,221,222,223,224,225,226,227,228,229,230,231,232,233,234,235,236,237,238,239,240,241,242,243,244,245,246,247,248,249,250,251,252,253,254,255,256,257,258,259,260,261,262,263,264,265,266,267,268,269,270,271,272,273,274,275,276,277,278,279,280,281,282,283,284,285,286,287,288,289,290,291,292,293,294,295,296,297,298,299,300,301,302,303,304,305,306,307,308,309,310,311,312,313,314,315,316,317,318,319,320,321,322,323,324,325,326,327,328,329,330,331,332,333,334,335,336,337,338,339,340,341,342,343,344,345,346,347,348,349,350,351,352,353,354,355,356,357,358,359,360,361,362,363,364,365,366,367,368,369,370,371,372,373,374,375,376,377,378,379,380,381,382,383,384,385,386,387,388,389,390,391,392,393,394,395,396,397,398,399,400,401,402,403,404,405,406,407,408,409,410,411,412,413,414,415,416,417,418,419,420,421,422,423,424,425,426,427,428,429,430,431,432,433,434,435,436,437,438,439,440,441,442,443,444,445,446,447,448,449,450,451,452,453,454,455,456,457,458,459,460,461,462,463,464,465,466,467,468,469,470,471,472,473,474,475,476,477,478,479,480,481,482,483,484,485,486,487,488,489,490,491,492,493,494,495,496,497,498,499,500,501,502,503,504,505,506,507,508,509,510,511,512,513,514,515,516,517,518,519,520,521,522,523,524,525,526,527,528,529,530,531,532,533,534,535,536,537,538,539,540,541,542,543,544,545,546,547,548,549,550,551,552,553,554,555,556,557,558,559,560,561,562,563,564,565,566,567,568,569,570,571,572,573,574,575,576,577,578,579,580,581,582,583,584,585,586,587,588,589,590,591,592,593,594,595,596,597,598,599,600,601,602,603,604,605,606,607,608,609,610,611,612,613,614,615,616,617,618,619,620,621,622,623,624,625,626,627,628,629,630,631,632,633,634,635,636,637,638,639,640,641,642,643,644,645,646,647,648,649,650,651,652,653,654,655,656,657,658,659,660,661,662,663,664,665,666,667,668,669,670,671,672,673,674,675,676,677,678,679,680,681,682,683,684,685,686,687,688,689,690,691,692,693,694,695,696,697,698,699,700,701,702,703,704,705,706,707,708,709,710,711,712,713,714,715,716,717,718,719,720,721,722,723,724,725,726,727,728,729,730,731,732,733,734,735,736,737,738,739,740,741,742,743,744,745,746,747,748,749,750,751,752,753,754,755,756,757,758,759,760,761,762,763,764,765,766,767,768,769,770,771,772,773,774,775,776,777,778,779,780,781,782,783,784,785,786,787,788,789,790,791,792,793,794,795,796,797,798,799,800,801,802,803,804,805,806,807,808,809,810,811,812,813,814,815,816,817,818,819,820,821,822,823,824,825,826,827,828,829,830,831,832,833,834,835,836,837,838,839,840,841,842,843,844,845,846,847,848,849,850,851,852,853,854,855,856,857,858,859,860,861,862,863,864,865,866,867,868,869,870,871,872,873,874,875,876,877,878,879,880,881,882,883,884,885,886,887,888,889,890,891,892,893,894,895,896,897,898,899,900,901,902,903,904,905,906,907,908,909,910,911,912,913,914,915,916,917,918,919,920,921,922,923,924,925,926,927,928,929,930,931,932,933,934,935,936,937,938,939,940,941,942,943,944,945,946,947,948,949,950,951,952,953,954,955,956,957,958,959,960,961,962,963,964,965,966,967,968,969,970,971,972,973,974,975,976,977,978,979,980,981,982,983,984,985,986,987,988,989,990,991,992,993,994,995,996,997,998,999],\"lat\":[55.77717,55.753653,45.034942,47.227151,54.738437,55.152161,59.93880600000001,58.004785,42.983106,48.707793,51.662496000000004,51.537652,54.710303,55.786764,54.990147,56.008691000000006,45.042903,43.33183,53.511311,51.76806,59.932378,58.581590000000006,56.837982,57.182635999999995,56.85570799999999,52.276546999999994,53.356131999999995,53.205226,55.766293000000005,46.349474,59.84211,54.306953,57.622434,55.854891,59.829328000000004,56.135459,55.715681999999994,50.584548999999996,56.326783,55.821401,55.663146,55.810228,43.582684,54.619886,60.008428,60.051365000000004,54.98293100000001,55.836524,55.898376,55.750108999999995,51.7172,55.610696999999995,43.018678,54.193802000000005,59.851774,56.313897999999995,60.034856000000005,55.359593999999994,55.751675,48.460732,59.848873,61.787586,43.492649,55.745113,56.860477,53.281039,55.887473,55.611577000000004,55.81760799999999,56.836298,52.603587,59.867213,53.199449,59.919775,55.026537,60.012696,55.85051,55.620982,55.86979399999999,59.989238,56.495116,56.139928000000005,44.72012,59.907334,59.870203000000004,53.786502,55.803691,55.86052900000001,60.037027,55.569667,47.211483,54.7798,53.651621999999996,61.253827,60.002427000000004,56.797398,53.398579000000005,55.846098,55.705417000000004,55.741004000000004,59.223011,44.052845,55.059291,57.767256,68.963254,52.72203199999999,55.43271,54.533832,55.618730000000006,56.333833999999996,55.863383999999996,57.008607,52.968153,54.177431999999996,55.751431999999994,55.709028,56.637263,55.649368,55.729828000000005,55.583656999999995,59.93151700000001,50.281995,56.808502000000004,55.75131999999999,56.826715,43.253324,59.125138,55.659459999999996,55.730877,59.928893,56.241595999999994,55.677423,55.676265,48.831648,59.833127000000005,47.73952,55.717366000000005,56.887674,59.926972,59.966393999999994,55.818923,55.796167000000004,55.684539,55.819019,54.900482,55.453084999999994,55.68766,59.877253,56.90039300000001,51.487469,52.033297,55.777201,55.758463,59.985377,44.891447,55.840208999999994,55.82708,57.819264000000004,55.855851,55.636106999999996,56.858056000000005,55.037928,55.67691,55.793313,59.866268999999996,47.534306,55.814264,55.756842000000006,44.601325,55.7249,55.794376,44.952116,56.239398,59.94845600000001,61.668865000000004,55.828897,55.612080000000006,57.925403,55.760666,55.606182,55.793581,59.901111,44.219840999999995,59.955611,55.88386800000001,55.692440000000005,44.920646999999995,52.526993000000004,55.70632,55.775672,55.742433,59.942516000000005,56.321096999999995,55.744595999999994,60.016604,59.98471899999999,53.720976,47.448164,59.830829,59.926418000000005,55.706633999999994,53.203791,64.54581800000001,55.622436,58.522580000000005,56.151439,55.6739,52.526665,42.062362,53.212996999999994,55.670077,60.06685,54.98914,55.642357,55.808827,60.939418999999994,53.211352000000005,55.640538,55.04302,52.013181,59.916437,51.301262,55.70884100000001,55.008627000000004,55.701765,56.320273,55.018789,59.879109,56.286028,55.797408999999995,55.758255000000005,55.800261,55.789198,55.692972,55.731536,59.944435999999996,56.096463,59.961138,59.931427,51.823816,60.050183,55.8078,56.847818000000004,55.776426,59.896643999999995,56.266921999999994,55.80504200000001,55.655432,59.956056999999994,53.211385,55.855557999999995,55.80788100000001,59.999970999999995,59.907149,55.613717,55.64572,45.237589,44.616649,55.918262,53.136894999999996,58.04533000000001,47.116164000000005,55.707689,55.789704,56.310722,55.835508,55.59588299999999,55.731545999999994,59.927464,55.678036999999996,55.78319499999999,55.764272999999996,55.908611,44.666717999999996,43.353446999999996,55.756498,55.095626,55.765345999999994,45.440068,44.585592,54.217656999999996,56.32513,55.63349,55.040997999999995,55.633658,56.257243,55.787746,59.920745,53.200442,55.141825,54.03929599999999,55.677671,55.772406000000004,55.847922,55.782066,55.653177,55.78175699999999,55.537964,55.779565000000005,55.793723,55.030187,55.05107099999999,55.752516,55.656681999999996,42.878731,44.199539,44.042997,56.002954,54.48631999999999,55.743801,59.933938,53.375647,55.744271999999995,55.747023999999996,54.913525,55.92546,44.769857,53.061561,55.080420999999994,59.879638,55.74596999999999,55.653293999999995,55.620982,55.802988,55.61269,48.268166,56.25725799999999,55.791015,56.297798,59.419941,55.854027,55.85564399999999,55.77350500000001,50.57522,55.806398,55.736077,55.633587,55.559028000000005,44.148994,55.769808,55.73125699999999,59.922281999999996,56.422555,55.10716899999999,55.844597,59.891493999999994,56.34733000000001,46.698207000000004,55.682199,53.207313,53.20112099999999,55.683676,44.099453000000004,66.09415899999999,55.71807,55.437102,63.558637,59.951772,59.884240000000005,43.911759,54.60804,64.573818,55.56053000000001,59.924253,50.095413,55.690445999999994,53.201736,43.12236,55.888831999999994,42.818482,59.935421,55.3952,56.342765,55.79520600000001,61.001054,59.865122,69.35034,44.793484,45.218678999999995,55.142128,55.765747,54.531633,42.565872,56.27709300000001,56.465644,55.736164,55.548033999999994,55.672854,57.034163,59.91458299999999,55.764793999999995,59.935867,55.847765,46.477436,56.098310999999995,55.841892,43.134019,59.970925,52.613518000000006,57.415667000000006,52.889153,45.855552,60.008842,55.772315,52.777103000000004,54.759125,56.341727,55.722761,51.516998,61.09778000000001,47.785891,46.33079,55.740993,47.092898999999996,56.32849399999999,55.760645999999994,55.76081800000001,55.662379,43.222758,55.612329,58.205188,55.043634,43.685629,53.114757,55.740178,44.886829999999996,56.670766,44.918024,55.831880000000005,52.332786999999996,55.317,43.199182,55.746228,43.845865,50.902449,55.59984,55.779849,47.264582,55.035947,55.788424,43.756657000000004,59.631995999999994,50.190102,59.928185,51.542363,57.036426,55.82399,55.718821,56.215848,55.742276000000004,53.094218999999995,51.365285,44.641346,55.545207,45.265749,51.282027,45.602523,54.103515,55.780232999999996,63.1757,45.139783,54.592039,55.364517000000006,52.755476,53.947054,55.72668,55.969668000000006,51.232007,55.781788,55.756523,55.383030000000005,55.727231999999994,43.13646,50.067938,60.713506,55.188442,56.392388000000004,46.084016999999996,56.010201,55.605554000000005,55.651552,56.878517,55.541825,55.112880000000004,53.876961,56.312490000000004,52.957001,55.729012,56.146893999999996,55.380851,55.768795,61.244006999999996,55.633089,55.633963,52.771437,54.88727900000001,52.033796,55.508804000000005,56.247926,57.44174,56.851932999999995,53.975083,48.172224,55.771616,67.501109,56.189615,59.606825,55.792513,55.759161999999996,58.176097999999996,58.137661,53.628705000000004,59.920614,52.768048,59.906179,54.088545999999994,54.384758,55.74906,55.760211,43.55284,43.285188,56.36011,55.749547,45.190445000000004,54.663099,59.895970999999996,43.754925,53.44801999999999,59.56564300000001,53.988732999999996,53.709141,44.867706,51.945754,55.556833999999995,45.462084000000004,56.668628000000005,55.761598,50.994198,48.785717,55.741125,55.868602,55.764455000000005,56.11228199999999,55.938607999999995,53.813278000000004,44.495203000000004,56.909652,44.616649,53.212701,59.906020999999996,56.965790000000005,53.972176,55.739518999999994,59.84861,55.765843000000004,45.363774,55.426825,56.259778000000004,50.786505,66.530937,56.735052,50.408489,62.24011899999999,62.137308999999995,55.329242,55.971934999999995,55.758807999999995,45.357309,47.982784,57.911899,55.752501,52.972832999999994,55.914312,51.392803,45.323726,56.449364,55.601833,55.585515,57.584487,55.639253000000004,56.744214,43.187647,44.45389,52.710205,50.190304,51.708712,44.405052000000005,56.091134999999994,54.443794999999994,53.422731999999996,50.626812,57.244921999999995,53.400555000000004,54.95491,56.6156,49.769718,55.426375,54.992518000000004,55.752075,45.370651,54.051524,56.488502000000004,53.37321899999999,45.031929,55.767939,54.894202,55.954198,43.262103,53.216475,56.033646,55.745068,56.242089,52.534926,57.019712,53.854289,48.356162,59.926575,56.240713,43.50835,43.195586999999996,65.144429,54.625223,55.781484,58.340768000000004,45.214240999999994,55.765276,54.511823,58.550454,58.365634,59.762002,59.55631999999999,54.860772,59.645846,53.183156000000004,59.923563,55.04875,46.560072999999996,57.049631999999995,54.838411,56.634427,43.173072999999995,44.741162,48.923032,65.993138,55.29599,69.066435,52.418806,56.18480600000001,57.19223,55.374999,60.007569,58.028135,52.666629,43.479541999999995,55.723901,43.773603,52.49146,58.382934999999996,55.054836,46.134701,55.73680699999999,53.914727,45.586346999999996,56.512184999999995,54.635422999999996,43.315853999999995,48.684719,53.443638,55.018211,56.252862,54.595841,55.752328000000006,45.805729,43.574853999999995,52.207522,54.94474,48.27324,45.709811,54.026672999999995,55.072917000000004,55.723653000000006,55.621646999999996,55.503216,44.989090999999995,53.116703,55.750454000000005,44.088253,56.10171999999999,55.90221700000001,53.825578,56.226179,59.97170799999999,42.433423,53.281454000000004,48.809616999999996,65.535421,53.089898,52.013635,53.696813,43.802205,55.61839499999999,43.963612,56.086946999999995,60.725758,55.76364,43.2021,45.364352000000004,47.284789,56.871708999999996,60.76185,45.105104,55.710438,56.652269,54.006967,56.639782999999994,59.00330600000001,44.408626,46.848701,61.263059,57.984058999999995,47.522046,54.77875699999999,55.766299,57.8698,44.676379,57.5262,55.548828,56.28399399999999,61.316566,48.309759,44.851785,53.151279,55.706897999999995,59.377301,55.55096700000001,44.732397,45.609825,51.659898,55.756756,52.305521,44.670462,62.027832999999994,52.426297,55.572981000000006,66.6535,61.620064,56.011303000000005,53.966857999999995,55.755930000000006,45.494561,60.739068,64.4278,56.802849,52.260901000000004,44.144453000000006,50.829456,50.949657,56.8021,42.799387,47.883628,50.784022,55.738783999999995,55.140018999999995,56.85436,56.302533,56.775397999999996,53.773052,54.076021999999995,55.475592000000006,53.003271,61.033286,46.537476,58.73693000000001,43.305614,54.992115000000005,55.735986,50.858928000000006,56.486663,54.424702,55.042163,55.41579399999999,59.917691000000005,57.252703000000004,42.116005,51.351151,54.94071700000001,55.179019999999994,54.827619999999996,55.585474,46.04623,59.47424399999999,55.74884300000001,61.307928000000004,54.913183999999994,53.149167000000006,51.159257000000004,54.348926,55.846325,55.871501,54.541971,67.57614699999999,54.151892000000004,53.605368999999996,50.990932,63.775346,55.583408,67.935121,54.97430799999999,58.082864,61.06004300000001,52.645073,49.655046,56.268756,56.127623,55.537653000000006,56.715706999999995,57.992183999999995,50.542528000000004,52.924271,55.751837,50.762729,51.093232,54.363040000000005,56.251332,56.086746,55.735287,55.062962,55.924789000000004,45.134296,55.701516000000005,56.331967000000006,55.623937,57.84561899999999,55.975788,48.585436,51.316228,52.847986999999996,59.546246999999994,57.352841000000005,51.208403999999994,54.880122,43.033059,56.505604000000005,53.932389,43.496377,45.106255,57.871106999999995,50.811809999999994,55.981449,51.723845000000004,51.501162,51.680816,53.014563,53.255943,51.471527,53.634294999999995,42.701656,55.522999,50.255752,43.247467,56.20166999999999,53.65375699999999,44.903067,53.646797,56.12664399999999,56.989571,50.449729999999995,52.473608,51.874911,53.184925,60.133297999999996,49.934591,56.113231000000006,55.034714,54.842942,59.762238,45.160042,50.027972999999996,56.847871999999995,54.65235500000001,57.211528,56.457930000000005,58.311657999999994,55.887741000000005,54.591094999999996,56.018368,43.171455,53.531696999999994,48.71221,55.716609999999996,47.150984,43.605196,54.95539599999999,51.660613,47.635068,43.937665,44.100295,43.859432,47.405997,46.083117,56.80048299999999,56.008354000000004,56.885397,63.577692000000006,55.879505,43.171416,57.670016000000004,61.895247,53.679081999999994,58.630403,54.928898,61.365221999999996,54.06666,58.603942,57.490804000000004,52.981823,53.240193999999995,54.95878199999999,45.952076,50.978553999999995,55.839926,55.75396,53.965322,55.896221,59.445133999999996,58.868083999999996,50.046921999999995,52.483826,46.871326,47.316705,55.707055000000004,57.457189,44.719851,55.53051,43.512136,46.958011,51.197772,56.042376000000004,55.80316,55.867374,57.43069499999999,54.771315,54.396893999999996,47.574825,53.78955,55.619859,54.944171,55.511134,43.169115000000005,55.621526,55.452670999999995,53.058634,57.367748999999996,44.457435,54.044779000000005,53.123560999999995,46.532410999999996,55.732464,51.632273,44.925676,51.567227,57.878856000000006,41.615706,49.633025,62.197038,51.982162,48.605821,43.237301,56.729358,56.988002,44.184453999999995,54.230332999999995,54.03873000000001,59.767194999999994,58.701668999999995,55.74864,44.02579,54.795685999999996,55.908242,66.028662,54.859221999999995,51.422084999999996,57.785373,51.876529,51.487491,53.465,44.425501000000004,54.725129,54.654949,44.868805,56.06152900000001,52.492902,45.709571999999994,54.859114,57.27911700000001,50.485397999999996,62.762733,57.888952,47.580575,53.709061],\"lon\":[37.586194,37.6198,38.976032000000004,39.744972,55.983160999999996,61.387103,30.314278,56.237654000000006,47.504978,44.515941999999995,39.204096,46.004549,20.510784,49.122853000000006,73.365319,92.870529,41.965158,45.644864,49.418084,55.097449,30.439351000000002,49.662283,60.59734,65.558421,53.201285,104.284891,83.74962,50.191184,52.430108999999995,48.031571,30.250588,48.41216,39.887894,37.476231,30.375588,47.235484,37.817969,36.573676,44.002687,37.641090000000005,37.482852,37.798556,39.722153999999996,39.744954,30.259077,30.332433,82.89313,37.575558,37.587344,49.207735,36.181714,37.717905,44.680172,37.619028,30.268428000000004,43.994802,30.418213,86.087781,37.817295,135.056475,30.321483,34.364961,43.625935999999996,37.864052,35.904539,34.376235,37.661527,37.603972,49.097646000000005,60.599846,39.597603,30.261429999999997,45.020121,30.466839,82.92146600000001,30.396007,37.439787,37.669612,37.664581,30.255178000000004,84.972128,40.407892,37.776493,30.483413,30.379289,87.15520500000001,37.403118,37.436382,30.321734000000003,37.577346,38.919689,31.999095,55.96206899999999,73.39595200000001,30.296616999999998,60.633102,58.988412,37.36122,37.765902000000004,37.416385999999996,39.883851,43.02596,82.91256899999999,40.926984000000004,33.077918,41.454240999999996,37.54886,36.237041,37.505912,43.892799,37.604843,40.996702,36.083061,45.185169,37.716621,37.732584,47.886672999999995,37.744118,37.472171,37.596812,30.360559000000002,127.53741399999998,60.610698,37.786887,60.603754,46.586451000000004,37.861923,37.750514,37.446874,30.411925,43.860172,37.663719,37.762003,44.767057,30.349438,40.231328000000005,37.793606,60.614165,30.320458000000002,30.311502,37.497791,37.715022,37.855123,37.579151,52.306653000000004,65.346508,37.573339000000004,30.441812,60.613878,46.121151,113.50123799999999,37.517895,37.660287,30.300902,37.321227,37.486616,37.437604,28.332855,49.084495000000004,37.656218,60.600816,82.97604399999999,37.505831,37.588296,30.321887,42.162545,37.735116999999995,37.408139,40.099824,37.687102,37.799364000000004,34.102411,43.460458,30.234633000000002,50.83692,49.081403,51.884615999999994,60.00338299999999,49.189508000000004,37.5334,37.493317,30.275004,42.058825,30.35605,37.603010999999995,37.534532,41.079626,85.223881,37.68571,37.654771999999994,37.653146,30.278274,43.945799,37.567545,30.315822999999998,30.344237,91.442423,40.129379,30.500435999999997,30.318284999999996,37.657008000000005,50.159832,40.551776000000004,37.609047,31.270669,101.634128,37.859128999999996,103.897646,48.298396999999994,50.248891,37.554493,30.333996000000003,82.906649,37.526115000000004,37.463772,76.55945899999999,50.269777000000005,37.606065,82.953928,47.802141,30.318788,37.835189,37.622612,82.938356,37.852275,43.927438,82.93900699999999,30.318707,43.928695000000005,37.934461999999996,37.751583000000004,37.53287,37.6797,37.728398,37.636328999999996,30.359975,54.274161,30.292018,30.355178000000002,107.599306,30.442845000000002,37.638737,60.59940600000001,49.143443,30.423773999999998,43.914143,37.514787,37.649256,30.318903999999996,50.150220000000004,37.653379,37.580830999999996,30.366362,30.299564,37.746355,37.472342,38.125434999999996,33.52536,37.868023,48.456537,38.846835999999996,39.733545,37.586239,37.558212,38.133303999999995,37.382034000000004,37.600675,37.666917,30.348171999999998,37.256547999999995,37.719423,37.561419,37.733644,41.883142,46.099410999999996,37.631326,59.963363,49.165083,40.557659,38.055061,49.607692,43.913261999999996,37.765678,82.917447,37.520024,43.902357,37.78138,30.355159999999998,50.176595,59.707280000000004,38.258098,37.562595,37.679035,37.590282,37.705284000000006,37.598232,37.633482,37.515919,37.601421,37.61618,82.920534,82.91476999999999,37.604116,37.540075,47.639672,43.137809999999995,42.864533,37.858599,53.492631,37.497863,30.333745,55.912266,38.015894,37.680589000000005,37.416808,37.993435999999996,39.876915999999994,158.622474,38.797698,30.26196,37.514949,37.619521999999996,37.743722999999996,37.744819,37.695214,40.219632,90.493587,38.441875,43.937328,56.79902,38.442325,37.354025,37.545518,137.068539,38.9779,37.595061,37.743831,38.254397,43.464042,37.596191999999995,37.612766,30.335631,61.914764,36.604695,37.637811,30.317970000000003,41.335556,38.277421000000004,37.897407,50.236414,50.199286,37.623061,39.080128,76.702516,37.676259,37.768049,53.706318,30.290688,30.369187,42.724082,53.707612,39.832737,42.03882,30.385299,45.401465,37.754314,50.220657,45.536599,37.430170000000004,47.109378,30.327052000000002,43.831947,37.518138,49.105426,69.069005,30.470315000000003,88.21409,44.15296,39.68553,37.462711999999996,37.6039,52.800672999999996,47.877456,43.922012,53.775785,37.516925,37.554618,37.610745,59.779855000000005,30.349636,37.638683,30.31523,48.519679,41.531999,47.493678,49.081998,131.928379,30.347408,38.522859000000004,56.956683,40.48857,40.110343,30.370853999999998,37.632332,52.247652,83.101111,30.538667999999998,37.562227,81.200973,72.575071,39.902590000000004,44.262833,37.656802,39.426752,36.725015,52.033834999999996,37.58128,37.605274,44.768764000000004,37.745205,68.324935,82.93556600000001,43.541872,46.604157,37.534236,40.584123999999996,54.370425,37.996598999999996,37.329325,35.367436,38.672653000000004,46.868738,37.681253999999996,46.705828000000004,128.467296,38.122165,37.666072,39.880482,82.89778299999999,37.749265,44.019228000000005,56.769466,39.574768,30.346203999999997,43.171982,53.963236,37.384747,37.607799,95.70274599999999,37.629125,49.941272,42.099609,40.723147,37.542328999999995,37.42907,37.598007,38.959817,54.114881000000004,38.651272999999996,75.41390899999999,42.032118,52.45351899999999,50.638868,32.247551,32.846512,37.625199,37.91178,58.556681999999995,37.598735,37.615327,36.730675,37.580328,45.879387,43.245958,28.738246999999998,34.294290999999994,38.726462,38.969106,37.460735,40.656772,37.598384,60.61218,37.531226000000004,61.646859,86.713764,43.936475,55.933772,37.622710999999995,44.168572999999995,39.041582,37.648888,46.656789,37.441261,37.425468,55.812220999999994,38.0715,47.361311,47.496112,43.878721999999996,42.156715000000005,41.377902,58.389703000000004,40.784448,37.620986,64.02685600000001,36.986533,60.591294,37.636123,37.627346,55.860254000000005,52.63735,52.424656,30.329864,103.619527,30.317529999999998,61.58236899999999,86.317678,37.581658000000004,37.577211,43.855438,45.882863,44.054138,37.543021,33.366861,85.88384599999999,30.358026000000002,44.652648,56.051010999999995,30.126071999999997,37.628603999999996,91.695766,38.159634000000004,85.945084,37.709097,39.454295,124.71773999999999,37.62378,39.54692,132.912933,37.626142,48.358072,37.605939,69.465293,37.510376,91.26097299999999,34.166299,60.81809200000001,39.243092,50.282982000000004,31.273652000000002,60.577909,38.157595,37.483328,30.457811,37.608167,40.691976000000004,55.546517,34.323262,42.02097,66.602425,37.156925,36.89424,74.526895,65.402805,42.164701,43.081845,37.61768,36.468286,39.945467,58.032793000000005,37.611482,49.728425,36.859673,128.128533,42.870543,52.21843,37.553442,39.54233,34.538767,57.08459499999999,38.864191,44.521592,39.734398,58.668378000000004,38.11497,46.750582,43.872048,63.644713,61.272954000000006,83.965817,38.689801,60.086315,49.506299,39.030281,84.8509,43.633994,38.260595,60.375752,37.609308,41.708303,44.943746999999995,43.593489,51.336724,35.382428999999995,37.621902,61.378092,38.055240999999995,46.2504,50.618997,35.955249,37.603487,42.154415,31.943014,61.475964000000005,34.441318,41.83033,30.319839,93.490995,44.589083,45.282969,57.264329000000004,83.30130600000001,37.614715999999994,57.433006000000006,39.229779,37.636742,37.0514,50.064386,45.508589,60.204363,150.813078,53.076643999999995,33.513034999999995,158.382489,30.383421000000002,58.996677000000005,39.631119,34.966949,38.196411,43.388844,44.816671,44.985941,40.395289,57.496113,52.028453999999996,33.426446,37.592932,50.902190999999995,39.418317,37.53844,30.659537,102.665256,41.897308,44.137769,36.855647999999995,41.923404,39.93121,33.912184,32.691722999999996,39.7869,37.618471,102.058552,39.643597,56.074752000000004,21.820545000000003,45.067202,43.526663,41.800497,36.461503,43.891227,22.201772000000002,37.856623,38.9969,44.076513,104.04876,34.537760999999996,46.181993,42.89707,102.061013,21.879008,84.90848199999999,37.424354,36.021419,38.941988,103.12590300000001,37.609254,41.986089,43.518713,39.070373,39.567446999999994,51.054312,30.259481,47.325944,36.574808000000004,44.476397,72.54349599999999,91.405197,48.78568,88.02369200000001,131.97581,36.981044,43.639357000000004,86.038733,72.808041,60.700098,46.090033,40.201409999999996,39.496173999999996,37.352884,46.29987,43.429358,37.559317,66.299755,86.649085,43.472989,54.653439,40.792533,40.311215999999995,75.17002600000001,56.105188,40.808721000000006,20.610407000000002,37.636373999999996,39.532763,34.410047999999996,38.306149,37.058828999999996,43.911043,63.333581,39.959175,38.681339,45.021378999999996,60.548885,28.615410999999998,34.995174,42.957626,40.13149,35.652615000000004,37.622774,45.383903000000004,41.834703999999995,129.704151,53.156253,36.704507,66.396782,72.160328,90.385735,38.313111,37.659263,41.221038,77.550373,76.386201,105.80287299999999,43.786384000000005,43.015522,40.596799,37.814572999999996,59.93529,132.903914,40.065338,36.472921,37.548375,124.73961100000001,40.533324,39.365990000000004,62.051443000000006,38.123108,34.320755,37.296973,78.64431400000001,76.101184,39.059458,29.845501000000002,44.909251,57.25825699999999,37.467078,39.076688,39.160222,50.803278000000006,82.919172,42.519868,32.312194,41.113483,48.198918,48.279334999999996,41.391826,36.656842,56.413157999999996,38.914039,38.174636,40.104549,37.542671,47.156163,99.031984,38.082584999999995,54.989463,41.924904,37.172098,37.120238,100.63209,33.388304,33.287199,34.34165,39.44488,74.518936,37.904053999999995,32.888993,48.284294,54.65361899999999,42.112284,42.825259,33.788593,54.9197,93.35840400000001,89.180429,36.778760999999996,31.352533,42.791895000000004,33.449201,54.914058,37.874706,40.04721,59.432421999999995,37.987696,49.879603,38.187508,47.608635,39.464464,33.603325,36.191694,46.559205,37.843908,61.681337,92.805841,45.7343,39.214732,32.675806,30.864953999999997,61.408051,58.329273,37.214265000000005,44.215742999999996,66.530362,37.920439,43.296344,41.022475,34.066676,37.192112,37.130641,94.435592,44.469436,36.299924,39.144878999999996,39.144951,57.361698,44.24077,47.563575,46.375392,136.832516,45.746912,42.698012,52.120891,38.842156,47.136948,101.170262,40.988078,40.125282,44.218681,44.995759,44.022039,64.80908199999999,40.550168,38.142224,55.980439000000004,46.565942,38.260847,39.170553000000005,45.466324,62.720562,19.9198,41.913181,60.210489,48.327188,60.76039300000001,55.393130000000006,39.960325,45.631182,43.678092,44.872034,38.953888,42.463435,46.777522999999995,43.319458000000004,35.263753,43.138259000000005,42.519032,42.984683000000004,41.584856,47.258866999999995,40.919851,61.33871,38.38547,62.037231000000006,53.923368999999994,38.786685,44.294094,63.054699,30.561009000000002,53.645817,59.775273999999996,58.155593,63.36854399999999,54.937774,56.703430000000004,60.213857999999995,49.435871,39.956974,20.471806,40.688957,44.791437,38.187239,37.620393,38.515977,52.310588,32.026557000000004,57.574751,46.888689,82.778711,42.044427,40.386333,51.401340000000005,40.564945,37.839591,42.198423,43.704691,142.729722,35.262756,60.232453,38.174904999999995,47.474866999999996,60.066759,38.880666999999995,53.268363,38.863715,81.315706,86.243936,20.151413,37.567481,45.988820000000004,37.434289,38.450553,60.662854,43.900533,42.50704,43.930429,34.986676,41.031413,37.664788,39.408722999999995,38.903825,34.694463,35.013365,48.347975,41.728928,34.263218,42.251360999999996,42.861281,46.0026,37.531774,52.181787,42.658972,39.021981,39.743957,59.990320999999994,59.479862,37.533041,42.871226,35.929395,49.311463,60.151371,38.541786,57.595296,36.698569,36.950007,40.419193,51.512704,39.53155,39.509603999999996,21.07215,40.063927,60.743531999999995,48.093284999999995,34.39165,58.432103000000005,55.446391000000006,37.835459,40.344741,54.72657099999999,41.099236,40.092224],\"ratio\":[0.14362080156956875,0.03802143925171612,0.01954366618798647,0.015333014611854944,0.012850515141811623,0.01193740501516917,0.010790486074173603,0.009172660633681684,0.00907339653347039,0.008569302337819055,0.008266726225126794,0.008113644239258772,0.007378731111790811,0.00719814220658713,0.007176914040578088,0.006161250942934205,0.005880201984504635,0.005847014288349653,0.005753131976704031,0.005520818103619163,0.005500785890624715,0.005410192449769226,0.005393449107564911,0.005304350607977664,0.005179074529698952,0.005173991729386928,0.005148577727826807,0.004905799265864242,0.00487859133478223,0.004796668553282547,0.004540136631652153,0.004499773217409608,0.004480936957429753,0.004361042667716713,0.004336525630917538,0.004332638783620108,0.004213043482160716,0.0041852375745714075,0.004147266066358051,0.0041406883247777845,0.00410032491053524,0.004059961496292695,0.004028866717913253,0.003874588779030638,0.0038554535307971354,0.003786387244204337,0.0036467597297504973,0.0036093861980444376,0.0035546713476267656,0.0035086271565649,0.0034748414839026217,0.003445540635045071,0.0034389628934648046,0.0033845470313007813,0.0033343170046878368,0.003249703328905317,0.003197081396263185,0.0031734613242249553,0.003160305841064422,0.0031438614871137555,0.0031205404033291745,0.00299167646600668,0.0029166304143409118,0.002883741706439579,0.0028607196109086464,0.0028481621042554103,0.0028317177503047438,0.0027892614182866596,0.002680728682212262,0.0026666762342907836,0.002628405737823778,0.0026194360902143236,0.0026080745365756816,0.0025760827934352944,0.0025219659195249195,0.0025201719900030286,0.0024938610236819626,0.0024253927135964607,0.002409247347899443,0.002338686120038402,0.002336593202262863,0.0023309124254435416,0.00232732456639976,0.0023252316486242204,0.002321942777834087,0.002307292353405312,0.0022827753166061366,0.0022573613150460156,0.002251979526480343,0.0022454017849000765,0.002235535172529677,0.002233143266500489,0.002208327241447665,0.00220743027668672,0.0022071312884330715,0.002203244441135641,0.0022023474763746957,0.002167066862444175,0.0021566022735664786,0.002130590295499061,0.0021174348123385277,0.0020692977035011227,0.0020331201248096568,0.0020175727356199357,0.0020103970175323724,0.0020032212994448087,0.002001427369922918,0.0020005304051619725,0.0019688376502752336,0.001941031742685925,0.0019087410112918893,0.0018806361154489323,0.0018749553386296113,0.001872862420854072,0.0018635937849909691,0.0018381797834308483,0.0018226323942411274,0.001806188040290461,0.0017900426745934433,0.0017727013558818314,0.0017613398022431892,0.001751772178126438,0.0017209763880006446,0.0016913765508894452,0.0016895826213675544,0.001673138267416888,0.0016686534436121609,0.0016647665963147305,0.0016623746902855428,0.0016617767137782457,0.0016563949252125733,0.0016483222423640642,0.0016297849706378585,0.0016235062173112404,0.0016193203817601617,0.0015939063802000411,0.0015735751789519444,0.001566997437371678,0.00156071868404506,0.0015577288015085752,0.0015433773653334482,0.0015394905180360179,0.0015385935532750725,0.0015329127764557515,0.0015320158116948058,0.0015248400936072424,0.0015215512228171093,0.0015045088923591459,0.0014653414311311952,0.0014623515485947104,0.0014494950536878257,0.0014456082063903956,0.001445309218136747,0.001436638558780941,0.0014351436175126988,0.0014318547467225655,0.0014261739699032445,0.0014201942048302748,0.0014061417569087963,0.0014049458038942024,0.001397172109299342,0.0013932852620019117,0.0013864085321679967,0.0013624894718761184,0.0013571076833104457,0.0013448491649108581,0.0013379724350769432,0.0013361785055550522,0.0013343845760331614,0.0013340855877795128,0.0013269098696919493,0.0013221260576335738,0.001317940222082495,0.001304784738921962,0.001298505985595344,0.001296712056073453,0.0012901343144931866,0.0012889383614785926,0.0012745869253034657,0.0012742879370498171,0.0012608334656356356,0.0012587405478600962,0.0012539567358017206,0.0012494719119969934,0.0012413992291484845,0.001212995345051879,0.0011956540263402672,0.0011792096723896009,0.0011472179292492137,0.0011439290584590804,0.0011379492933861108,0.0011376503051324623,0.0011370523286251652,0.0011358563756105715,0.0011092464210358567,0.0011014727264409964,0.0010841314077293844,0.0010805435486856028,0.0010676870537787181,0.0010617072887057486,0.0010596143709302092,0.001050644723320755,0.0010249317335069858,0.0010246327452533373,0.0010228388157314465,0.0010165600624048284,0.0010051985087661862,0.0010016106497224044,0.0009986207671859196,0.0009824754014889016,0.0009767946246695806,0.0009705158713429625,0.0009636391415090475,0.000957659376436078,0.0009573603881824294,0.0009442049050218964,0.0009409160342317631,0.0009319463866223087,0.0009286575158321755,0.0009265645980566362,0.000921481797744612,0.0009199868564763696,0.0009169969739398848,0.0008978617257063822,0.0008966657726917882,0.0008960677961844913,0.0008876961250823339,0.0008796234422338249,0.0008775305244582856,0.0008724477241462614,0.0008706537946243706,0.0008679629003415343,0.0008673649238342373,0.0008631790882831586,0.000857797299717486,0.0008488276521080317,0.0008452397930642499,0.000842249910527765,0.0008416519340204682,0.0008398580044985773,0.0008389610397376319,0.000829692403874529,0.0008293934156208805,0.0008111551321483232,0.0008057733435826507,0.0008018864962852204,0.0007947107781976569,0.0007908239309002268,0.0007890300013783358,0.0007884320248710389,0.0007857411305882025,0.0007821532715444208,0.0007755755299641543,0.0007743795769495603,0.0007686988001302393,0.000759131176013488,0.0007552443287160577,0.0007522544461795729,0.0007492645636430882,0.0007474706341211973,0.000738500986511743,0.0007334181861997187,0.0007313252684241794,0.0007301293154095855,0.0007181697852636464,0.0007181697852636464,0.0007127879966979737,0.0007127879966979737,0.0007044163255958163,0.0007023234078202769,0.000694250724971768,0.0006936527484644711,0.0006915598306889317,0.0006903638776743378,0.0006798992887966411,0.0006796003005429926,0.000673620535470023,0.000673620535470023,0.0006682387469043504,0.000666743805636108,0.0006658468408751626,0.0006643518996069202,0.0006640529113532716,0.0006637539230996232,0.0006625579700850293,0.0006607640405631383,0.0006476085574026053,0.0006470105808953084,0.0006419277805832842,0.0006353500390030177,0.0006329581329738298,0.0006326591447201814,0.0006299682504373451,0.0006293702739300481,0.0006281743209154542,0.0006245864618716724,0.0006138228847403272,0.0006138228847403272,0.0006123279434720848,0.0006093380609356001,0.0006069461549064122,0.0006057502018918183,0.0006045542488772244,0.000602461331101685,0.000602461331101685,0.0006021623428480366,0.0006012653780870911,0.0006000694250724972,0.0005982754955506063,0.0005961825777750669,0.0005946876365068246,0.0005943886482531761,0.0005916977539703398,0.0005902028127020974,0.0005875119184192611,0.0005860169771510187,0.0005794392355707521,0.0005794392355707521,0.0005761503647806189,0.0005725625057368372,0.0005698716114540008,0.0005671807171711645,0.0005665827406638675,0.0005582110695617101,0.0005579120813080617,0.0005576130930544131,0.0005555201752788738,0.0005549221987715769,0.000553726245756983,0.0005522313044887406,0.0005501383867132012,0.0005498393984595527,0.0005456535629084741,0.0005450555864011771,0.0005438596333865831,0.0005333950445088864,0.0005262193264213229,0.0005187446200801109,0.00051695069055822,0.0005124658667534929,0.0005082800312024142,0.0005079810429487657,0.0005061871134268748,0.0005058881251732263,0.0005049911604122809,0.0005014033013684991,0.0004954235362955295,0.0004918356772517478,0.00048017513535945715,0.00047987614710580867,0.0004786801940912147,0.00047598929980837844,0.0004667206639452756,0.0004664216756916271,0.0004664216756916271,0.0004625348283941969,0.00045894696935041516,0.0004568540515748758,0.0004562560750675788,0.0004520702395165001,0.0004520702395165001,0.0004508742865019062,0.0004475854157117729,0.00044489452142893664,0.0004436985684143427,0.0004419046388924518,0.0004419046388924518,0.00044160565063880333,0.00044040969762420944,0.00043592487381948224,0.00043353296779029445,0.0004311410617611066,0.00042874915573191876,0.0004272542144636764,0.000425759273195434,0.00042037748462976133,0.00041798557860057354,0.00041768659034692506,0.0004155936725713857,0.00040333515417179805,0.00040184021290355567,0.0004000462833816648,0.00039705640084518,0.0003967574125915315,0.00039615943608423457,0.0003958604478305861,0.00039376753005504673,0.00039346854180139824,0.00039287056529410127,0.00038808675323572563,0.00038718978847478017,0.0003868908002211317,0.00038659181196748325,0.00038180799990910757,0.0003797150821335682,0.0003794160938799197,0.00037642621134343496,0.00037642621134343496,0.0003755292465824895,0.00037224037579235624,0.00037074543452411386,0.0003701474580168169,0.0003695494815095199,0.000368951505002223,0.000368951505002223,0.00036685858722668364,0.0003659616224657382,0.00035669298660263534,0.00035071322152966576,0.0003435375034421023,0.00033994964439832055,0.00033695976186183573,0.00033546482059359335,0.00033038202028156917,0.00032948505552062376,0.0003270931494914359,0.0003226083256867087,0.0003217113609257633,0.0003091538542725272,0.00030885486601887874,0.00030825688951158177,0.0003058649834823939,0.0003049680187214485,0.00030407105396050305,0.0003031740891995576,0.0003022771244386122,0.0003022771244386122,0.0003004831949167213,0.00029928724190212737,0.00029839027714118196,0.00029809128888753347,0.0002959983711119941,0.0002948024180974002,0.00029390545333645476,0.00029300848857550935,0.00029300848857550935,0.00029270950032186086,0.0002912145590536185,0.00028971961778537605,0.0002894206295317276,0.00028852366477078215,0.0002879256882634852,0.0002876267000098367,0.00028702872350253977,0.0002858327704879458,0.0002858327704879458,0.0002846368174733519,0.00028433782921970344,0.0002816469349368671,0.0002813479466832187,0.0002795540171613278,0.000276564134624843,0.0002762651463711945,0.0002750691933566006,0.00027297627558106125,0.0002711823460591704,0.0002705843695518734,0.00026819246352268556,0.00026819246352268556,0.00026789347526903713,0.0002660995457471462,0.00026191371019606755,0.00026191371019606755,0.0002613157336887706,0.0002595218041668797,0.00025862483940593424,0.00025742888639134035,0.0002568309098840434,0.00025593394512309797,0.0002508511448110738,0.0002490572152891829,0.00024786126227458903,0.0002466653092599951,0.00024606733275269816,0.00024606733275269816,0.0002445723914844558,0.0002424794737089164,0.00024128352069432247,0.00024038655593337704,0.00023799464990418922,0.00023709768514324379,0.00023440679086040745,0.0002338088143531105,0.00023321083784581356,0.00023171589657757115,0.0002314169083239227,0.00022992196705568028,0.0002281280375337894,0.00022753006102649247,0.00022633410801189854,0.00022364321372906224,0.00022334422547541375,0.00022334422547541375,0.00022304523722176527,0.00022184928420717134,0.00022035434293892896,0.00022005535468528047,0.0002185604134170381,0.00021766344865609266,0.00021586951913420176,0.00021527154262690481,0.00021377660135866243,0.00021347761310501394,0.00021198267183677154,0.0002080958245393413,0.00020719885977839588,0.00020660088327109893,0.00020630189501745044,0.00020600290676380198,0.0002057039185101535,0.000205404930256505,0.00020241504772002022,0.00020181707121272327,0.00020151808295907478,0.00020062111819812935,0.00020032212994448086,0.0001997241534371839,0.00019942516518353542,0.0001973322474079961,0.00019673427090069912,0.00019643528264705063,0.00019613629439340217,0.00019464135312515976,0.00019165147058867497,0.00019045551757408108,0.00018925956455948716,0.00018896057630583867,0.00018836259979854172,0.00018656867027665085,0.00018537271726205693,0.0001844757525011115,0.000184176764247463,0.0001829808112328691,0.00018178485821827517,0.00017909396393543886,0.0001787949756817904,0.00017789801092084494,0.000177300034413548,0.0001770010461598995,0.00017670205790625105,0.00017670205790625105,0.0001746091401307117,0.00017221723410152385,0.0001701243163259845,0.0001686293750577421,0.00016833038680409362,0.00016623746902855426,0.00016563949252125732,0.00016534050426760883,0.00016414455125301493,0.00016324758649206947,0.00016205163347747558,0.0001617526452238271,0.00016115466871653014,0.00015726782141909992,0.00015666984491180294,0.0001557728801508575,0.00015427793888261513,0.00015427793888261513,0.0001533809741216697,0.0001530819858680212,0.00015278299761437272,0.00015278299761437272,0.0001474012090487001,0.0001462052560341062,0.00014560727952680924,0.00014530829127316075,0.00014441132651221532,0.0001432153734976214,0.00014261739699032445,0.00014231840873667596,0.00014142144397573053,0.00014112245572208204,0.00014082346746843355,0.00013962751445383966,0.00013932852620019117,0.00013633864366370638,0.00013424572588816702,0.0001333487611272216,0.0001333487611272216,0.00013275078461992464,0.0001318538198589792,0.00012946191382979136,0.00012856494906884593,0.0001276679843079005,0.000127368996054252,0.00012617304303965811,0.00012557506653236114,0.00012527607827871265,0.0001246781017714157,0.00012437911351776722,0.00012437911351776722,0.00012318316050317332,0.00012138923098128244,0.00012138923098128244,0.00012079125447398548,0.00012079125447398548,0.00012019327796668852,0.00011959530145939157,0.00011959530145939157,0.00011899732495209461,0.00011869833669844612,0.00011839934844479765,0.00011750238368385221,0.00011690440717655525,0.00011660541892290678,0.00011630643066925829,0.00011600744241560982,0.00011570845416196135,0.00011511047765466438,0.00011421351289371895,0.00011421351289371895,0.00011391452464007046,0.00011391452464007046,0.00011361553638642199,0.00011361553638642199,0.00011361553638642199,0.00011301755987912503,0.00011271857162547655,0.00011241958337182807,0.00011182160686453112,0.00011092464210358567,0.0001106256538499372,0.00011032666559628872,0.00011002767734264024,0.00011002767734264024,0.00010942970083534328,0.00010853273607439784,0.00010793475956710088,0.00010703779480615545,0.00010703779480615545,0.00010673880655250697,0.0001064398182988585,0.0001064398182988585,0.00010554285353791305,0.00010554285353791305,0.00010524386528426458,0.0001049448770306161,0.00010464588877696762,0.00010464588877696762,0.00010434690052331914,0.00010374892401602218,0.00010374892401602218,0.00010315094750872522,0.00010285195925507675,0.00010285195925507675,0.00010255297100142827,0.00010225398274777979,0.00010195499449413131,0.00010135701798683435,0.00010135701798683435,0.00010046005322588892,0.00010016106497224043,9.986207671859196e-05,9.896511195764652e-05,9.806814719670109e-05,9.747017068940413e-05,9.717118243575565e-05,9.687219418210716e-05,9.687219418210716e-05,9.657320592845869e-05,9.567624116751326e-05,9.567624116751326e-05,9.35833233919739e-05,9.238737037737998e-05,9.20883821237315e-05,9.20883821237315e-05,9.178939387008303e-05,9.178939387008303e-05,9.149040561643454e-05,9.149040561643454e-05,9.119141736278607e-05,9.119141736278607e-05,9.089242910913758e-05,9.059344085548911e-05,9.029445260184064e-05,9.029445260184064e-05,9.029445260184064e-05,9.029445260184064e-05,8.999546434819215e-05,8.820153482630128e-05,8.79025465726528e-05,8.700558181170736e-05,8.700558181170736e-05,8.610861705076192e-05,8.580962879711345e-05,8.580962879711345e-05,8.551064054346498e-05,8.521165228981649e-05,8.521165228981649e-05,8.521165228981649e-05,8.461367578251953e-05,8.461367578251953e-05,8.461367578251953e-05,8.461367578251953e-05,8.401569927522258e-05,8.371671102157409e-05,8.311873451427713e-05,8.311873451427713e-05,8.281974626062866e-05,8.252075800698018e-05,8.22217697533317e-05,8.192278149968322e-05,8.162379324603474e-05,8.102581673873779e-05,8.07268284850893e-05,8.042784023144083e-05,8.012885197779235e-05,8.012885197779235e-05,7.982986372414387e-05,7.95308754704954e-05,7.92318872168469e-05,7.92318872168469e-05,7.92318872168469e-05,7.863391070954996e-05,7.833492245590147e-05,7.743795769495604e-05,7.713896944130756e-05,7.713896944130756e-05,7.713896944130756e-05,7.683998118765908e-05,7.65409929340106e-05,7.65409929340106e-05,7.564402817306517e-05,7.564402817306517e-05,7.414908690482277e-05,7.355111039752581e-05,7.325212214387734e-05,7.295313389022885e-05,7.265414563658038e-05,7.205616912928342e-05,7.205616912928342e-05,7.205616912928342e-05,7.175718087563494e-05,7.175718087563494e-05,7.145819262198646e-05,7.115920436833798e-05,7.026223960739255e-05,6.996325135374406e-05,6.966426310009559e-05,6.966426310009559e-05,6.966426310009559e-05,6.906628659279863e-05,6.906628659279863e-05,6.906628659279863e-05,6.906628659279863e-05,6.876729833915015e-05,6.846831008550166e-05,6.816932183185319e-05,6.816932183185319e-05,6.816932183185319e-05,6.787033357820472e-05,6.787033357820472e-05,6.757134532455623e-05,6.697336881725928e-05,6.66743805636108e-05,6.66743805636108e-05,6.637539230996232e-05,6.607640405631383e-05,6.577741580266536e-05,6.577741580266536e-05,6.577741580266536e-05,6.51794392953684e-05,6.51794392953684e-05,6.488045104171993e-05,6.488045104171993e-05,6.488045104171993e-05,6.458146278807144e-05,6.458146278807144e-05,6.428247453442297e-05,6.398348628077449e-05,6.278753326618057e-05,6.189056850523514e-05,6.159158025158666e-05,6.129259199793817e-05,6.09936037442897e-05,6.09936037442897e-05,6.039562723699274e-05,6.009663898334426e-05,5.9797650729695785e-05,5.9498662476047305e-05,5.9199674222398825e-05,5.8601697715101864e-05,5.8601697715101864e-05,5.800372120780491e-05,5.800372120780491e-05,5.740574470050795e-05,5.740574470050795e-05,5.7106756446859475e-05,5.7106756446859475e-05,5.6807768193210994e-05,5.6209791685914034e-05,5.6209791685914034e-05,5.471485041767164e-05,5.471485041767164e-05,5.471485041767164e-05,5.471485041767164e-05,5.4415862164023164e-05,5.4415862164023164e-05,5.4116873910374684e-05,5.4116873910374684e-05,5.3817885656726204e-05,5.321990914942925e-05,5.292092089578077e-05,5.262193264213229e-05,5.262193264213229e-05,5.262193264213229e-05,5.232294438848381e-05,5.202395613483533e-05,5.202395613483533e-05,5.1724967881186854e-05,5.1425979627538373e-05,5.112699137388989e-05,5.112699137388989e-05,5.082800312024141e-05,5.082800312024141e-05,5.082800312024141e-05,5.052901486659294e-05,5.023002661294446e-05,5.023002661294446e-05,4.993103835929598e-05,4.9333061851999024e-05,4.9034073598350543e-05,4.873508534470206e-05,4.843609709105358e-05,4.81371088374051e-05,4.783812058375663e-05,4.783812058375663e-05,4.753913233010815e-05,4.753913233010815e-05,4.694115582281119e-05,4.694115582281119e-05,4.694115582281119e-05,4.664216756916271e-05,4.664216756916271e-05,4.664216756916271e-05,4.634317931551423e-05,4.634317931551423e-05,4.574520280821727e-05,4.574520280821727e-05,4.544621455456879e-05,4.544621455456879e-05,4.514722630092032e-05,4.514722630092032e-05,4.514722630092032e-05,4.514722630092032e-05,4.484823804727184e-05,4.454924979362336e-05,4.454924979362336e-05,4.454924979362336e-05,4.4250261539974876e-05,4.4250261539974876e-05,4.4250261539974876e-05,4.4250261539974876e-05,4.39512732863264e-05,4.39512732863264e-05,4.39512732863264e-05,4.365228503267792e-05,4.365228503267792e-05,4.365228503267792e-05,4.365228503267792e-05,4.335329677902944e-05,4.335329677902944e-05,4.335329677902944e-05,4.335329677902944e-05,4.305430852538096e-05,4.305430852538096e-05,4.275532027173249e-05,4.275532027173249e-05,4.275532027173249e-05,4.275532027173249e-05,4.245633201808401e-05,4.215734376443553e-05,4.215734376443553e-05,4.215734376443553e-05,4.1858355510787046e-05,4.1858355510787046e-05,4.1559367257138566e-05,4.1559367257138566e-05,4.126037900349009e-05,4.096139074984161e-05,4.066240249619313e-05,4.066240249619313e-05,4.066240249619313e-05,4.066240249619313e-05,4.036341424254465e-05,4.036341424254465e-05,4.006442598889618e-05,4.006442598889618e-05,4.006442598889618e-05,3.97654377352477e-05,3.9466449481599216e-05,3.9466449481599216e-05,3.9466449481599216e-05,3.9167461227950736e-05,3.9167461227950736e-05,3.9167461227950736e-05,3.9167461227950736e-05,3.8868472974302255e-05,3.8868472974302255e-05,3.8868472974302255e-05,3.8868472974302255e-05,3.82704964670053e-05,3.767251995970834e-05,3.767251995970834e-05,3.737353170605987e-05,3.737353170605987e-05,3.737353170605987e-05,3.737353170605987e-05,3.7074543452411386e-05,3.7074543452411386e-05,3.6476566945114425e-05,3.6476566945114425e-05,3.6476566945114425e-05,3.617757869146595e-05,3.617757869146595e-05,3.617757869146595e-05,3.617757869146595e-05,3.587859043781747e-05,3.587859043781747e-05,3.587859043781747e-05,3.587859043781747e-05,3.587859043781747e-05,3.587859043781747e-05,3.557960218416899e-05,3.557960218416899e-05,3.528061393052051e-05,3.528061393052051e-05,3.528061393052051e-05,3.528061393052051e-05,3.528061393052051e-05,3.528061393052051e-05,3.528061393052051e-05,3.498162567687203e-05,3.498162567687203e-05,3.498162567687203e-05,3.4682637423223556e-05,3.4383649169575076e-05,3.4383649169575076e-05,3.4383649169575076e-05,3.4084660915926595e-05,3.4084660915926595e-05,3.4084660915926595e-05,3.4084660915926595e-05,3.3785672662278115e-05,3.3785672662278115e-05,3.3785672662278115e-05,3.348668440862964e-05,3.318769615498116e-05,3.318769615498116e-05,3.318769615498116e-05,3.318769615498116e-05,3.25897196476842e-05,3.229073139403572e-05,3.229073139403572e-05,3.229073139403572e-05,3.229073139403572e-05,3.229073139403572e-05,3.1991743140387246e-05,3.1991743140387246e-05,3.1991743140387246e-05,3.1991743140387246e-05,3.1692754886738765e-05,3.1692754886738765e-05,3.1692754886738765e-05,3.1692754886738765e-05,3.1692754886738765e-05,3.1393766633090285e-05,3.1393766633090285e-05,3.1393766633090285e-05,3.1393766633090285e-05,3.1393766633090285e-05,3.1393766633090285e-05,3.1094778379441804e-05,3.1094778379441804e-05,3.079579012579333e-05,3.079579012579333e-05,3.079579012579333e-05,3.079579012579333e-05,3.049680187214485e-05,3.049680187214485e-05,3.049680187214485e-05,2.9898825364847893e-05,2.9898825364847893e-05,2.9898825364847893e-05,2.9898825364847893e-05,2.9599837111199412e-05,2.9599837111199412e-05,2.9300848857550932e-05,2.9300848857550932e-05,2.9300848857550932e-05,2.9300848857550932e-05,2.9300848857550932e-05,2.9001860603902455e-05,2.9001860603902455e-05,2.9001860603902455e-05,2.8702872350253974e-05,2.8702872350253974e-05,2.8702872350253974e-05,2.8702872350253974e-05],\"size\":[26.18438952965975,16.813037765835315,13.468069527338395,12.421647122130423,11.711436920252474,11.427204003249967,11.048848208938358,10.466507275158435,10.428615002834158,10.231794905979706,10.10992318900895,10.04712930032216,9.734132029063739,9.65406336730002,9.644563700729135,9.16627685136121,9.024727259813602,9.007716780942648,8.959245762404215,8.83699244784261,8.826291192182135,8.777568802167739,8.76850457080534,8.719951682027915,8.650755906241466,8.647924997833085,8.633742575608492,8.495845297047534,8.480109972688728,8.432374916006856,8.279287781690103,8.254679449607986,8.243145182907927,8.16896025237151,8.153623309513257,8.151186538338377,8.075485682437172,8.05768049976468,8.033238057971108,8.028988790815946,8.002814706525301,7.976468282634105,7.956052454883013,7.8531738143557535,7.840224440797465,7.793125685158943,7.6961298717459785,7.66974848132987,7.630795627861382,7.597704723370172,7.573239130692476,7.551892450657646,7.547083718998078,7.507065217308266,7.469742543582491,7.406014808532385,7.365822268392987,7.347637820690155,7.337470625360937,7.32472187485404,7.306565372821155,7.204572444435947,7.143819470626889,7.116866028216965,7.0978764485977255,7.087475526195113,7.073808937086443,7.038277905053072,6.945778954592501,6.933621035771494,6.900292063727593,6.8924338493633925,6.882454316020251,6.854197432266441,6.805861007572966,6.804246905530323,6.780484906859876,6.717856054421172,6.702916369702681,6.636829341306417,6.634848958163605,6.629467664493657,6.626064446408709,6.624077620368637,6.620953054989785,6.606998576884915,6.5835134472741546,6.558990930677363,6.553774339719463,6.547387207318723,6.53778307841247,6.535450550692431,6.511151706219877,6.510270033669327,6.509976089744705,6.50615240074472,6.505269372449302,6.470345051464226,6.459913319484505,6.4338359913143535,6.420566581582341,6.371538762904557,6.334188995265916,6.318001691174259,6.310502572327109,6.3029855877585526,6.301103537605533,6.300162090775801,6.266715415620637,6.237073810140379,6.202293865154472,6.171701719986554,6.165481232365979,6.163186306671324,6.153002461270675,6.124904658719569,6.1075875239881965,6.089163822202005,6.07096598019631,6.051297852248813,6.038342191545288,6.027388879693161,5.991859780577564,5.957308711462191,5.955201793970301,5.935818528748354,5.930510156636927,5.92590186834748,5.923062432422426,5.922352147917184,5.915951906460191,5.906325498718569,5.88410084349833,5.876534945016912,5.871480169284031,5.8406019263407645,5.815662160622498,5.807547444207522,5.799780367283915,5.796074436327711,5.77821964646059,5.773364938855832,5.772243461566768,5.765130630847619,5.764005946731908,5.754992631094208,5.750852076395014,5.729300357575673,5.679144870722488,5.675279665097303,5.658598979306175,5.653536573002403,5.6531467814558685,5.641819365169415,5.639861759403251,5.6355502364667265,5.628087483487031,5.620210513804349,5.6016122017744525,5.600023655159169,5.589676064600261,5.584487871640535,5.575285073490722,5.54303630021206,5.535728399450594,5.519010202152457,5.509587183701529,5.507123697040141,5.504658004435182,5.504246840853996,5.494360430993633,5.487749673602329,5.481952167367425,5.463651128632781,5.454873156687314,5.452359968975363,5.4431250664485,5.441442622923829,5.421171635969933,5.4207477095030825,5.401601984743831,5.398611536972447,5.391763758527823,5.385328130833095,5.373705084345138,5.332404043622168,5.306870800552554,5.282429163380299,5.23422008459794,5.229213436244331,5.220085797795907,5.219628577350562,5.218713896077589,5.216883571018716,5.1758222083267835,5.163702983735181,5.1364608202846265,5.130788302339914,5.11035805567698,5.100799709122473,5.097445810169017,5.083021721150971,5.0412122657157905,5.040722018482736,5.037778530503348,5.027449137225254,5.008649210880042,5.002682976274164,4.9977002210086985,4.97062003751249,4.961021296204431,4.950368763710071,4.938648855576435,4.928412223768722,4.927899274949055,4.9052229900703095,4.899521045494075,4.883902447180722,4.878150522488444,4.874483132677584,4.8655535638395415,4.862920972932875,4.857647223027377,4.823620778090625,4.821478136707955,4.820406101511594,4.805347276301444,4.790736332907864,4.786933728483182,4.7776735923203555,4.774396723259193,4.769472969278244,4.768377420148333,4.760694441725805,4.750779742201169,4.73416267833854,4.7274830748594985,4.72190228455194,4.720784542224809,4.717428135446499,4.7157481395296985,4.698317648736476,4.697753218451284,4.663063301712869,4.65272770084599,4.645234444554591,4.631336876252014,4.623774071766375,4.620275187288477,4.619107714039208,4.613846766760207,4.606813452857922,4.593862976156389,4.591500485137444,4.580245310435065,4.561163218330325,4.553365317557444,4.547348707328703,4.541316133640548,4.537688882789225,4.519465036309239,4.509072614185133,4.504779424932679,4.5023224953888965,4.477604333356688,4.477604333356688,4.466391587757354,4.466391587757354,4.448836807444767,4.4444264012606105,4.42733228465614,4.426060793407395,4.42160481088193,4.419054497519669,4.396612597712202,4.395968027610938,4.383036733525629,4.383036733525629,4.371332974925022,4.368070784926133,4.366111129757373,4.362841123194246,4.362186533368488,4.3615317470282156,4.358910633568198,4.354973042776898,4.325877304077967,4.324545445217902,4.313191374042631,4.298408548897849,4.293007684345258,4.2923316201318205,4.286237435476098,4.28488081647886,4.2821649984060395,4.273996804995468,4.249302964672423,4.249302964672423,4.245850490805445,4.238928648581973,4.233374854277653,4.230592484199564,4.227806449489155,4.222922034322355,4.222922034322355,4.222223337745354,4.220125859338716,4.217325974052163,4.213119162308524,4.208200573090933,4.204680243044773,4.2039754692731,4.197621844271951,4.194083725734135,4.187700026786949,4.184145101456318,4.168431195786975,4.168431195786975,4.1605296184826885,4.151875345717053,4.1453608862525675,4.138825887156747,4.137370859479393,4.116892110870955,4.116156951549812,4.115421529531025,4.11026620009957,4.108790871114216,4.105837030505075,4.102138742581907,4.09694990957745,4.096207574009547,4.085786502994348,4.08429343269769,4.081304012831684,4.054957715948669,4.036691893008382,4.017487549777144,4.012851091474741,4.0012128268961185,3.9902890245739924,3.9895064614975264,3.9848046227728187,3.9840199034491075,3.9816638887639693,3.9722118321103577,3.956357694805427,3.946783894059399,3.9153437164332456,3.9145308985322833,3.911276246523728,3.9039334077655057,3.8784275298308564,3.8775991599787005,3.8775991599787005,3.8667979921627578,3.8567738435203722,3.8509022779154924,3.8492213949966145,3.837413893222255,3.837413893222255,3.8340269418656683,3.824681835816023,3.817001731142453,3.813578409367663,3.8084318735474736,3.8084318735474736,3.8075727641401285,3.804132443528062,3.7911754887773963,3.784228747627711,3.7772564080242947,3.770258232832483,3.765871146914363,3.76147381555982,3.745557656989837,3.7384401906104197,3.737548599784666,3.7312955192252724,3.6942421833488384,3.6896723590609843,3.6841735843569525,3.674972313318742,3.6740496488779257,3.672202928461813,3.671278871319513,3.6647974071213514,3.663869610269774,3.662012605587614,3.647088292853685,3.644276350109838,3.643338070884509,3.6423993081346597,3.6273128321217367,3.620672861776776,3.6197223044052427,3.610189149112666,3.610189149112666,3.6073193632060385,3.5967575479007565,3.5919361513063053,3.5900039636546617,3.588069693903248,3.5861333364338757,3.5861333364338757,3.5793395628278297,3.5764200349721698,3.545968400129994,3.5260412112201447,3.5018272888387556,3.489593731352494,3.479333178944727,3.4741801305581084,3.456544394698599,3.453413465091521,3.4450364437976,3.4292187901141737,3.426037694791066,3.3808680876646813,3.379777836674004,3.3775952220297376,3.3688364268688655,3.36554010732076,3.3622373180477596,3.358928027210586,3.3556122027185116,3.3556122027185116,3.348960823133061,3.344511849681116,3.341167335600642,3.340051008308863,3.332215739229103,3.3277218487607017,3.3243434486221344,3.320958167819674,3.320958167819674,3.319828205783547,3.314166823369492,3.3084860326246526,3.3073475308029545,3.303927313750233,3.301643229155135,3.300500000798797,3.2982111651127064,3.2936239392136573,3.2936239392136573,3.2890238997928445,3.2878718773168907,3.2774671499019066,3.2763069844421775,3.269328673677775,3.2576315122320016,3.2564571676773837,3.2517512981621324,3.243483097173548,3.236362364944107,3.2339818106721383,3.2244243650312954,3.2244243650312954,3.2232256941531716,3.2160148743307553,3.1990626738594123,3.1990626738594123,3.196626220004558,3.1892944827487844,3.1856159391352383,3.1806979599694265,3.1782332569599587,3.1745290190382387,3.153373159954225,3.1458381893986904,3.1407947527907902,3.1357350666190156,3.133199088912214,3.133199088912214,3.1268411187441565,3.117896285309957,3.1127618235119994,3.1088998321722157,3.098553999150381,3.094656442836417,3.08290446972939,3.0802807199770363,3.077652492830598,3.0710622103661254,3.0697407548628886,3.0631163476653644,3.055129045838063,3.0524573094111664,3.047099760339086,3.034975893030568,3.033622805070119,3.033622805070119,3.0322685089950188,3.026839189396721,3.0200250303966873,3.0186585030470425,3.0118072345916875,3.007681466091683,2.999395800239987,2.9966237138175913,2.98967096560231,2.9882765293153244,2.981284747733579,2.96295093417374,2.958687689531199,2.955838686623799,2.9544121233295266,2.9529841810465167,2.951554856437427,2.950124146151974,2.9357400846420156,2.9328463024959386,2.9313972675256332,2.9270415445160163,2.9255867522562378,2.922672819299959,2.921213671369317,2.9109585740773696,2.9080152368082777,2.906541331215293,2.905065929270809,2.8976663406043714,2.8827527140276024,2.876743832166678,2.8707097424365084,2.869197250195289,2.8661674725984376,2.8570394888926076,2.8509216125931176,2.8463159153766813,2.8447773659334605,2.838606462897484,2.8324086124730323,2.8183633802793127,2.816794135311085,2.8120758783452753,2.8089215561484346,2.8073417349174594,2.805760133605283,2.805760133605283,2.7946386573506525,2.781819033718998,2.7705041304962377,2.7623651172937658,2.7607315479492898,2.749242044712328,2.745941630921585,2.7442884447116804,2.737655697533711,2.732659964357379,2.7259704395226376,2.724292918828515,2.720931665669608,2.698878257270888,2.695453281183674,2.6902994382447183,2.681665555253079,2.681665555253079,2.676458424568728,2.6747182040361297,2.6729757161136125,2.6729757161136125,2.6412145816901496,2.6340519307104784,2.6304559509074186,2.628654268185586,2.623234347101141,2.6159727615881034,2.6123268017949246,2.610499999239855,2.605004193511857,2.603167095445904,2.6013274007727514,2.593942471326653,2.59208965464527,2.5734140085199275,2.5601779934031255,2.554463291378682,2.554463291378682,2.5506392388178107,2.5448815685846284,2.52939901615777,2.5235439049023958,2.517661496844425,2.5156945729993594,2.5077959509207064,2.503827912724606,2.5018391685099712,2.4978521670633547,2.4958538844767615,2.4958538844767615,2.487828575423648,2.475692633282433,2.475692633282433,2.4716207630493177,2.4716207630493177,2.467535432026967,2.4634365284139865,2.4634365284139865,2.459323938915793,2.4572624761401216,2.455197548717055,2.4489818321279073,2.444820427624455,2.442734402355921,2.4406448081775323,2.438551629785185,2.4364548517695024,2.432250434698255,2.425916420516923,2.425916420516923,2.4237977151416783,2.4237977151416783,2.4216752992444017,2.4216752992444017,2.4216752992444017,2.4174192706148783,2.4152856249603114,2.4131482029368287,2.4088619626474244,2.4024038566934633,2.400243420405242,2.3980790879236693,2.3959108416348127,2.3959108416348127,2.3915625365394755,2.385010277578915,2.3806220242849774,2.3740091512643287,2.3740091512643287,2.3717966531035133,2.369580019426102,2.369580019426102,2.362905110772006,2.362905110772006,2.3606717397713166,2.358434134885619,2.356192275991838,2.356192275991838,2.3539461428134305,2.3494409717195426,2.3494409717195426,2.3449184562604466,2.34265064202531,2.34265064202531,2.3403784285316136,2.3381017943821316,2.335820718012635,2.331245151510855,2.331245151510855,2.3243479361981048,2.32203974407789,2.319726953957809,2.312760765004873,2.305752356080729,2.3010563097696046,2.2987010816040887,2.2963410172326197,2.2963410172326197,2.2939760917519045,2.2868518965200377,2.2868518965200377,2.270053846976202,2.2603422679192784,2.2579012916490493,2.2579012916490493,2.255455026145796,2.255455026145796,2.253003442663598,2.253003442663598,2.250546512205748,2.250546512205748,2.2480842055217396,2.2456164931042006,2.243143345185779,2.243143345185779,2.243143345185779,2.243143345185779,2.2406647317359862,2.2256765591963688,2.223158823383001,2.2155711915835177,2.2155711915835177,2.2079312302553484,2.2053727908488656,2.2053727908488656,2.202808401569906,2.2002380277049682,2.2002380277049682,2.2002380277049682,2.19507918573302,2.19507918573302,2.19507918573302,2.19507918573302,2.189895980645134,2.1872951516176786,2.182074856945776,2.182074856945776,2.179455316784099,2.1768294644622004,2.1741972618169334,2.1715586703146306,2.1689136510461426,2.1636041716662247,2.1609396318132057,2.1582685047002856,2.1555907494634017,2.1555907494634017,2.152906324831376,2.1502151891203143,2.1475173002279146,2.1475173002279146,2.1475173002279146,2.142101092362954,2.1393826870410497,2.1311857381341617,2.1284393617178115,2.1284393617178115,2.1284393617178115,2.1256858795212112,2.1229252454027225,2.1229252454027225,2.114599962838782,2.114599962838782,2.100577004189538,2.0949150441027586,2.092072550728159,2.089222312116077,2.0863642752892484,2.080624592162603,2.080624592162603,2.080624592162603,2.0777428369618973,2.0777428369618973,2.0748530657264794,2.071955222478165,2.0632126913940367,2.0602819876033305,2.0573429222898945,2.0573429222898945,2.0573429222898945,2.051439466818887,2.051439466818887,2.051439466818887,2.051439466818887,2.048474954788725,2.0455018374685108,2.042520052137117,2.042520052137117,2.042520052137117,2.039529535338756,2.039529535338756,2.036530222871096,2.0305049503127974,2.0274788579743346,2.0274788579743346,2.02444370544538,2.0213994246037914,2.0183459465041915,2.0183459465041915,2.0183459465041915,2.0122111185505287,2.0122111185505287,2.009129626564387,2.009129626564387,2.009129626564387,2.006038653027097,2.006038653027097,2.0029381246650004,1.9998279672941999,1.9872895313031904,1.9777808234790115,1.974590848872023,1.9713905339455846,1.968179794494547,1.968179794494547,1.9617266996654652,1.9584841702842064,1.9552308683306259,1.9519667038827528,1.9486915858115992,1.9421081181135254,1.9421081181135254,1.9354797111998847,1.9354797111998847,1.9288055902322556,1.9288055902322556,1.9254511389577462,1.9254511389577462,1.9220849587729838,1.9153169979485458,1.9153169979485458,1.8981844431752497,1.8981844431752497,1.8981844431752497,1.8981844431752497,1.8947205952537922,1.8947205952537922,1.891244035892619,1.891244035892619,1.8877546478264668,1.8807369077799105,1.87720831242262,1.8736664015322941,1.8736664015322941,1.8736664015322941,1.8701110487743946,1.8665421258855868,1.8665421258855868,1.8629595026330152,1.859363046772477,1.8557526240054654,1.8557526240054654,1.8521280979350272,1.8521280979350272,1.8521280979350272,1.8484893300204177,1.8448361795304922,1.8448361795304922,1.8411685034958065,1.8337889914260213,1.830076857810352,1.826349603383167,1.822607073216393,1.8188491098264024,1.8150755531156901,1.8150755531156901,1.8112862403128471,1.8112862403128471,1.8036596816030193,1.8036596816030193,1.8036596816030193,1.7998220962183429,1.7998220962183429,1.7998220962183429,1.7959680756531526,1.7959680756531526,1.7882100174860849,1.7882100174860849,1.7843056163791517,1.7843056163791517,1.780384052931686,1.780384052931686,1.780384052931686,1.780384052931686,1.7764451372923231,1.7724886762269854,1.7724886762269854,1.7724886762269854,1.7685144730354503,1.7685144730354503,1.7685144730354503,1.7685144730354503,1.7645223274652801,1.7645223274652801,1.7645223274652801,1.7605120356230166,1.7605120356230166,1.7605120356230166,1.7605120356230166,1.7564833898825256,1.7564833898825256,1.7564833898825256,1.7564833898825256,1.7524361787903908,1.7524361787903908,1.7483701869682284,1.7483701869682284,1.7483701869682284,1.7483701869682284,1.7442851950118115,1.7401809793868679,1.7401809793868679,1.7401809793868679,1.7360573123214227,1.7360573123214227,1.7319139616945418,1.7319139616945418,1.727750690921335,1.7235672588340543,1.7193634195591396,1.7193634195591396,1.7193634195591396,1.7193634195591396,1.7151389223900284,1.7151389223900284,1.710893511655562,1.710893511655562,1.710893511655562,1.7066269265837941,1.702338901161012,1.702338901161012,1.702338901161012,1.6980291639857579,1.6980291639857579,1.6980291639857579,1.6980291639857579,1.6936974381176375,1.6936974381176375,1.6936974381176375,1.6936974381176375,1.684966883901065,1.6761449061133138,1.6761449061133138,1.6716988775225812,1.6716988775225812,1.6716988775225812,1.6716988775225812,1.6672290730953407,1.6672290730953407,1.6582168480242472,1.6582168480242472,1.6582168480242472,1.6536737654014773,1.6536737654014773,1.6536737654014773,1.6536737654014773,1.6491055825563532,1.6491055825563532,1.6491055825563532,1.6491055825563532,1.6491055825563532,1.6491055825563532,1.6445119498964222,1.6445119498964222,1.6398925099729955,1.6398925099729955,1.6398925099729955,1.6398925099729955,1.6398925099729955,1.6398925099729955,1.6398925099729955,1.6352468972363297,1.6352468972363297,1.6352468972363297,1.6305747377810105,1.6258756490810662,1.6258756490810662,1.6258756490810662,1.6211492397143004,1.6211492397143004,1.6211492397143004,1.6211492397143004,1.616395109075305,1.616395109075305,1.616395109075305,1.6116128470765858,1.6068020338371982,1.6068020338371982,1.6068020338371982,1.6068020338371982,1.597093023184608,1.5921939340520421,1.5921939340520421,1.5921939340520421,1.5921939340520421,1.5921939340520421,1.5872645095191193,1.5872645095191193,1.5872645095191193,1.5872645095191193,1.5823042755829602,1.5823042755829602,1.5823042755829602,1.5823042755829602,1.5823042755829602,1.5773127462780374,1.5773127462780374,1.5773127462780374,1.5773127462780374,1.5773127462780374,1.5773127462780374,1.5722894232570797,1.5722894232570797,1.5672337953531148,1.5672337953531148,1.5672337953531148,1.5672337953531148,1.5621453381215993,1.5621453381215993,1.5621453381215993,1.5518677686143658,1.5518677686143658,1.5518677686143658,1.5518677686143658,1.5466775366394556,1.5466775366394556,1.541452234864695,1.541452234864695,1.541452234864695,1.541452234864695,1.541452234864695,1.536191264810902,1.536191264810902,1.536191264810902,1.530894011488413,1.530894011488413,1.530894011488413,1.530894011488413]}},\"id\":\"701eba86-6959-4d76-a859-13dcdc80cec9\",\"type\":\"ColumnDataSource\"},{\"attributes\":{\"plot\":{\"id\":\"401766a3-65ed-4bc7-a54f-f1c7f27f7019\",\"type\":\"GMapPlot\"}},\"id\":\"48ffd432-ef05-4c3f-bddb-6fba5c66f184\",\"type\":\"PanTool\"},{\"attributes\":{\"callback\":null,\"overlay\":{\"id\":\"e5909d78-03be-40bc-a019-9631a23df54b\",\"type\":\"BoxAnnotation\"},\"plot\":{\"id\":\"401766a3-65ed-4bc7-a54f-f1c7f27f7019\",\"type\":\"GMapPlot\"}},\"id\":\"eba4ca2e-85b6-4158-ab44-85b186a83254\",\"type\":\"BoxSelectTool\"},{\"attributes\":{\"callback\":null},\"id\":\"020f037d-f974-4db5-bc15-871bbec29e0d\",\"type\":\"DataRange1d\"}],\"root_ids\":[\"401766a3-65ed-4bc7-a54f-f1c7f27f7019\"]},\"title\":\"Bokeh Application\",\"version\":\"0.11.1\"}};\n",
       "            var render_items = [{\"docid\":\"8e8df31e-5769-4c82-a94a-3bac9a275596\",\"elementid\":\"31e8edbb-7714-400b-8148-8a6c6d6a11c2\",\"modelid\":\"401766a3-65ed-4bc7-a54f-f1c7f27f7019\",\"notebook_comms_target\":\"8ec58b1a-4b7d-4659-86d8-c6dabb4dacfb\"}];\n",
       "            \n",
       "            Bokeh.embed.embed_items(docs_json, render_items);\n",
       "        });\n",
       "      },\n",
       "      function(Bokeh) {\n",
       "      }\n",
       "    ];\n",
       "  \n",
       "    function run_inline_js() {\n",
       "      for (var i = 0; i < inline_js.length; i++) {\n",
       "        inline_js[i](window.Bokeh);\n",
       "      }\n",
       "    }\n",
       "  \n",
       "    if (window._bokeh_is_loading === 0) {\n",
       "      console.log(\"Bokeh: BokehJS loaded, going straight to plotting\");\n",
       "      run_inline_js();\n",
       "    } else {\n",
       "      load_libs(js_urls, function() {\n",
       "        console.log(\"Bokeh: BokehJS plotting callback run at\", now());\n",
       "        run_inline_js();\n",
       "      });\n",
       "    }\n",
       "  }(this));\n",
       "</script>"
      ]
     },
     "metadata": {},
     "output_type": "display_data"
    },
    {
     "data": {
      "text/html": [
       "<p><code>&lt;Bokeh Notebook handle for <strong>In[56]</strong>&gt;</code></p>"
      ],
      "text/plain": [
       "<bokeh.io._CommsHandle at 0x7f9020374780>"
      ]
     },
     "execution_count": 56,
     "metadata": {},
     "output_type": "execute_result"
    }
   ],
   "source": [
    "from bokeh.models import GMapPlot, GMapOptions, Circle, ColumnDataSource, DataRange1d, PanTool, WheelZoomTool, BoxSelectTool\n",
    "\n",
    "map_options = GMapOptions(lat=55.777170, lng=37.586194, zoom=4)\n",
    "\n",
    "plot = GMapPlot(\n",
    "     x_range=DataRange1d(), y_range=DataRange1d(),\n",
    "    map_options=map_options, title=\"location\"\n",
    ")\n",
    "circles = Circle(x='lon', y='lat', size='size', fill_color=\"blue\", fill_alpha=0.8, line_color=None)\n",
    "plot.add_glyph(ColumnDataSource(lat_lon_freq.head(1000)), circles)\n",
    "plot.add_tools(PanTool(), WheelZoomTool(), BoxSelectTool())\n",
    "plot.plot_width = 1000\n",
    "show(plot)"
   ]
  },
  {
   "cell_type": "markdown",
   "metadata": {},
   "source": [
    "# attrJson"
   ]
  },
  {
   "cell_type": "code",
   "execution_count": 57,
   "metadata": {
    "collapsed": false
   },
   "outputs": [],
   "source": [
    "tmp = pd.DataFrame(item_info_train.attrsJSON.head(1000).tolist())"
   ]
  },
  {
   "cell_type": "code",
   "execution_count": 58,
   "metadata": {
    "collapsed": false
   },
   "outputs": [
    {
     "data": {
      "text/plain": [
       "{'Вид телефона': 'Другие марки'}"
      ]
     },
     "execution_count": 58,
     "metadata": {},
     "output_type": "execute_result"
    }
   ],
   "source": [
    "item_info_train.attrsJSON.iloc[3]"
   ]
  },
  {
   "cell_type": "markdown",
   "metadata": {},
   "source": [
    "# similarity"
   ]
  }
 ],
 "metadata": {
  "kernelspec": {
   "display_name": "Python 3",
   "language": "python",
   "name": "python3"
  },
  "language_info": {
   "codemirror_mode": {
    "name": "ipython",
    "version": 3
   },
   "file_extension": ".py",
   "mimetype": "text/x-python",
   "name": "python",
   "nbconvert_exporter": "python",
   "pygments_lexer": "ipython3",
   "version": "3.5.1"
  }
 },
 "nbformat": 4,
 "nbformat_minor": 0
}
